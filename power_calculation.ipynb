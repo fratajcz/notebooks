{
 "cells": [
  {
   "cell_type": "markdown",
   "metadata": {},
   "source": [
    "import numpy as np\n",
    "import scipy as sp\n",
    "from statsmodels.stats.power import NormalIndPower\n",
    "\n",
    "\n"
   ]
  },
  {
   "cell_type": "code",
   "execution_count": 7,
   "metadata": {},
   "outputs": [],
   "source": [
    "effect_size = 0.380101341 / 0.261796652    # delta(log odds) / pooled standard error\n",
    "n_1 = 29+20+1377+13820                     # n \n",
    "n_2 = 209+299+1406+13840"
   ]
  },
  {
   "cell_type": "code",
   "execution_count": 8,
   "metadata": {},
   "outputs": [
    {
     "data": {
      "text/plain": [
       "1.0"
      ]
     },
     "execution_count": 8,
     "metadata": {},
     "output_type": "execute_result"
    }
   ],
   "source": [
    "pwr = NormalIndPower()\n",
    "pwr.power(effect_size=effect_size, nobs1=n_1, alpha=0.05, ratio=n_2/n_1)"
   ]
  },
  {
   "cell_type": "code",
   "execution_count": 10,
   "metadata": {},
   "outputs": [
    {
     "data": {
      "text/plain": [
       "0.031826898474489454"
      ]
     },
     "execution_count": 10,
     "metadata": {},
     "output_type": "execute_result"
    }
   ],
   "source": [
    "pwr.solve_power(effect_size = None, nobs1=n_1, alpha=0.05, ratio=n_2/n_1, power=0.8)"
   ]
  },
  {
   "cell_type": "code",
   "execution_count": 3,
   "metadata": {},
   "outputs": [],
   "source": [
    "import pandas as pd\n",
    "from statsmodels.stats.multitest import fdrcorrection as fdr"
   ]
  },
  {
   "cell_type": "code",
   "execution_count": 4,
   "metadata": {},
   "outputs": [],
   "source": [
    "\n",
    "dfs = []\n",
    "for value in [\"Cardiovascular Disease\", \"Immune Dysregulation\", \"Body Mass Disorders\", \"Insulin Disorders\", \"Diabetes\"]:\n",
    "    dfs.append(pd.read_csv(\"../statistical_dump/{}_ors_mko.tsv\".format(value), sep=\"\\t\", header=0))\n",
    "\n",
    "\n"
   ]
  },
  {
   "cell_type": "code",
   "execution_count": 5,
   "metadata": {},
   "outputs": [],
   "source": [
    "df = dfs[0]"
   ]
  },
  {
   "cell_type": "code",
   "execution_count": 29,
   "metadata": {},
   "outputs": [],
   "source": [
    "pwr = NormalIndPower()\n",
    "#pwr.power(effect_size=effect_size, nobs1=n_1, alpha=0.05, ratio=n_2/n_1)"
   ]
  },
  {
   "cell_type": "code",
   "execution_count": 1,
   "metadata": {},
   "outputs": [
    {
     "name": "stderr",
     "output_type": "stream",
     "text": [
      "/home/icb/florin.ratajczak/anaconda3/envs/compat/lib/python3.7/site-packages/ipykernel_launcher.py:52: RuntimeWarning: divide by zero encountered in long_scalars\n"
     ]
    }
   ],
   "source": [
    "import pandas as pd\n",
    "from statsmodels.stats.multitest import fdrcorrection as fdr\n",
    "import numpy as np\n",
    "import scipy.stats as stats\n",
    "methods = [\"FiLM\", \"TAG\", \"GCN\", \"N2V+MLP\", \"MLP\"]\n",
    "diseases = [\"Cardiovascular Disease\", \"Immune Dysregulation\", \"Body Mass Disorders\", \"Insulin Disorders\", \"Diabetes\"]\n",
    "outer_dfs = []\n",
    "global_pvals = []\n",
    "for value in diseases:\n",
    "    results_df = pd.DataFrame(columns=[\"Mendelian/Method\", \"CS\", \"log odds\", \"a\", \"b\", \"c\", \"d\", \"se\", \"delta_log_odds (C-M)\", \"se_delta\", \"Z\", \"pval unadjusted\", \"pval adjusted (FDR)\", \"result\"])\n",
    "    df= pd.read_csv(\"../statistical_dump/{}_ors_mko.tsv\".format(value), sep=\"\\t\", header=0)\n",
    "    method_list = [\"Mendelian\"]\n",
    "    cs_list = [\"-\"]\n",
    "    log_odds = []\n",
    "    a_list = []\n",
    "    b_list = []\n",
    "    c_list = []\n",
    "    d_list = []\n",
    "    se_list = []\n",
    "    delta_log_odds_list = [np.nan]\n",
    "    se_delta_list = [np.nan]\n",
    "    zval_list = [np.nan]\n",
    "    pval_list = [np.nan]\n",
    "    result_list = [\"-\"]\n",
    "\n",
    "    need_set_mendelians = True\n",
    "    for method in methods:\n",
    "        method_list.append(method)\n",
    "        cs = 12\n",
    "        significant = False\n",
    "\n",
    "        a = \"N Candidate/Mendelian and MKO\"\n",
    "        b = \"N Candidate/Mendelian not MKO\"\n",
    "        c = \"N Not Candidate/Mendelian and MKO\"\n",
    "        d = \"N Not Candidate/Mendelian Not MKO\"\n",
    "        pval = \"pval adjusted (FDR)\"\n",
    "\n",
    "        while not significant:\n",
    "            cs -= 1\n",
    "            candidate_row = df[(df[\"Method\"] == method) & (df[\"CS/Mendelian\"] == \"CS >= {}\".format(cs))]\n",
    "            significant = candidate_row[pval].item() < 0.05\n",
    "\n",
    "        cs_list.append(cs)\n",
    "\n",
    "        mendelian_row = df.iloc[11]\n",
    "\n",
    "        log_odds_candidates = np.log(candidate_row[\"OR\"].item())\n",
    "        log_odds_mendelians = np.log(mendelian_row[\"OR\"].item())\n",
    "        delta = log_odds_candidates - log_odds_mendelians\n",
    "\n",
    "        var_candidates = np.sum([1 / candidate_row[column] for column in [a, b, c, d]])\n",
    "        var_mendelian = np.sum([1 / mendelian_row[column] for column in [a, b, c, d]])\n",
    "\n",
    "        if need_set_mendelians:\n",
    "            log_odds.append(log_odds_mendelians)\n",
    "            a_list.append(mendelian_row[a].item())\n",
    "            b_list.append(mendelian_row[b].item())\n",
    "            c_list.append(mendelian_row[c].item())\n",
    "            d_list.append(mendelian_row[d].item())\n",
    "            se_list.append(np.sqrt(var_mendelian))\n",
    "            need_set_mendelians = False\n",
    "\n",
    "        log_odds.append(log_odds_candidates)\n",
    "        a_list.append(candidate_row[a].item())\n",
    "        b_list.append(candidate_row[b].item())\n",
    "        c_list.append(candidate_row[c].item())\n",
    "        d_list.append(candidate_row[d].item())\n",
    "        se_list.append(np.sqrt(var_candidates))\n",
    "\n",
    "        n1 = np.sum([candidate_row[column] for column in [a, b, c, d]])\n",
    "        n2 = np.sum([mendelian_row[column] for column in [a, b, c, d]])\n",
    "\n",
    "        se_delta = np.sqrt(var_candidates + var_mendelian)\n",
    "        zval = delta / se_delta\n",
    "        pval = stats.norm.sf(np.abs(zval)) * 2\n",
    "\n",
    "        delta_log_odds_list.append(delta)\n",
    "        se_delta_list.append(se_delta)\n",
    "        zval_list.append(zval)\n",
    "        pval_list.append(pval)\n",
    "\n",
    "    results_df[\"Mendelian/Method\"] =  method_list\n",
    "    results_df[\"CS\"] = cs_list\n",
    "    results_df[\"log odds\"] = log_odds\n",
    "    results_df[\"a\"] = a_list\n",
    "    results_df[\"b\"] = b_list\n",
    "    results_df[\"c\"] = c_list\n",
    "    results_df[\"d\"] = d_list\n",
    "    results_df[\"se\"] = se_list\n",
    "    results_df[\"delta_log_odds (C-M)\"] = delta_log_odds_list\n",
    "    results_df[\"se_delta\"] = se_delta_list\n",
    "    results_df[\"Z\"] = zval_list\n",
    "    results_df[\"pval unadjusted\"] = pval_list\n",
    "    #print(\"{}: CS >= {}: {}\".format(method, cs, result))\n",
    "    #print(\"Power: {}\".format(pwr.power(effect_size=zval, nobs1=n1, alpha=0.05, ratio=n2/n1)))\n",
    "    #print(\"Pval: {}\".format(pval))\n",
    "    outer_dfs.append(results_df)\n",
    "    global_pvals.extend(np.asarray(pval_list)[~np.isnan(pval_list)])"
   ]
  },
  {
   "cell_type": "code",
   "execution_count": 4,
   "metadata": {},
   "outputs": [
    {
     "data": {
      "text/html": [
       "<div>\n",
       "<style scoped>\n",
       "    .dataframe tbody tr th:only-of-type {\n",
       "        vertical-align: middle;\n",
       "    }\n",
       "\n",
       "    .dataframe tbody tr th {\n",
       "        vertical-align: top;\n",
       "    }\n",
       "\n",
       "    .dataframe thead th {\n",
       "        text-align: right;\n",
       "    }\n",
       "</style>\n",
       "<table border=\"1\" class=\"dataframe\">\n",
       "  <thead>\n",
       "    <tr style=\"text-align: right;\">\n",
       "      <th></th>\n",
       "      <th>Mendelian/Method</th>\n",
       "      <th>CS</th>\n",
       "      <th>log odds</th>\n",
       "      <th>a</th>\n",
       "      <th>b</th>\n",
       "      <th>c</th>\n",
       "      <th>d</th>\n",
       "      <th>se</th>\n",
       "      <th>delta_log_odds (C-M)</th>\n",
       "      <th>se_delta</th>\n",
       "      <th>Z</th>\n",
       "      <th>pval unadjusted</th>\n",
       "      <th>pval adjusted (FDR)</th>\n",
       "      <th>result</th>\n",
       "    </tr>\n",
       "  </thead>\n",
       "  <tbody>\n",
       "    <tr>\n",
       "      <th>0</th>\n",
       "      <td>GWAS</td>\n",
       "      <td>-</td>\n",
       "      <td>NaN</td>\n",
       "      <td>0</td>\n",
       "      <td>0</td>\n",
       "      <td>719</td>\n",
       "      <td>13822</td>\n",
       "      <td>inf</td>\n",
       "      <td>NaN</td>\n",
       "      <td>NaN</td>\n",
       "      <td>NaN</td>\n",
       "      <td>NaN</td>\n",
       "      <td>NaN</td>\n",
       "      <td>NaN</td>\n",
       "    </tr>\n",
       "    <tr>\n",
       "      <th>1</th>\n",
       "      <td>FiLM</td>\n",
       "      <td>8</td>\n",
       "      <td>1.104594</td>\n",
       "      <td>5</td>\n",
       "      <td>32</td>\n",
       "      <td>714</td>\n",
       "      <td>13790</td>\n",
       "      <td>0.482414</td>\n",
       "      <td>NaN</td>\n",
       "      <td>inf</td>\n",
       "      <td>NaN</td>\n",
       "      <td>NaN</td>\n",
       "      <td>NaN</td>\n",
       "      <td>NaN</td>\n",
       "    </tr>\n",
       "    <tr>\n",
       "      <th>2</th>\n",
       "      <td>TAG</td>\n",
       "      <td>6</td>\n",
       "      <td>0.910273</td>\n",
       "      <td>10</td>\n",
       "      <td>78</td>\n",
       "      <td>709</td>\n",
       "      <td>13744</td>\n",
       "      <td>0.338088</td>\n",
       "      <td>NaN</td>\n",
       "      <td>inf</td>\n",
       "      <td>NaN</td>\n",
       "      <td>NaN</td>\n",
       "      <td>NaN</td>\n",
       "      <td>NaN</td>\n",
       "    </tr>\n",
       "    <tr>\n",
       "      <th>3</th>\n",
       "      <td>GCN</td>\n",
       "      <td>11</td>\n",
       "      <td>2.452986</td>\n",
       "      <td>6</td>\n",
       "      <td>10</td>\n",
       "      <td>713</td>\n",
       "      <td>13812</td>\n",
       "      <td>0.517824</td>\n",
       "      <td>NaN</td>\n",
       "      <td>inf</td>\n",
       "      <td>NaN</td>\n",
       "      <td>NaN</td>\n",
       "      <td>NaN</td>\n",
       "      <td>NaN</td>\n",
       "    </tr>\n",
       "    <tr>\n",
       "      <th>4</th>\n",
       "      <td>N2V+MLP</td>\n",
       "      <td>11</td>\n",
       "      <td>1.680828</td>\n",
       "      <td>5</td>\n",
       "      <td>18</td>\n",
       "      <td>714</td>\n",
       "      <td>13804</td>\n",
       "      <td>0.506980</td>\n",
       "      <td>NaN</td>\n",
       "      <td>inf</td>\n",
       "      <td>NaN</td>\n",
       "      <td>NaN</td>\n",
       "      <td>NaN</td>\n",
       "      <td>NaN</td>\n",
       "    </tr>\n",
       "    <tr>\n",
       "      <th>5</th>\n",
       "      <td>MLP</td>\n",
       "      <td>10</td>\n",
       "      <td>0.777488</td>\n",
       "      <td>12</td>\n",
       "      <td>107</td>\n",
       "      <td>707</td>\n",
       "      <td>13715</td>\n",
       "      <td>0.306866</td>\n",
       "      <td>NaN</td>\n",
       "      <td>inf</td>\n",
       "      <td>NaN</td>\n",
       "      <td>NaN</td>\n",
       "      <td>NaN</td>\n",
       "      <td>NaN</td>\n",
       "    </tr>\n",
       "  </tbody>\n",
       "</table>\n",
       "</div>"
      ],
      "text/plain": [
       "  Mendelian/Method  CS  log odds   a    b    c      d        se  \\\n",
       "0             GWAS   -       NaN   0    0  719  13822       inf   \n",
       "1             FiLM   8  1.104594   5   32  714  13790  0.482414   \n",
       "2              TAG   6  0.910273  10   78  709  13744  0.338088   \n",
       "3              GCN  11  2.452986   6   10  713  13812  0.517824   \n",
       "4          N2V+MLP  11  1.680828   5   18  714  13804  0.506980   \n",
       "5              MLP  10  0.777488  12  107  707  13715  0.306866   \n",
       "\n",
       "   delta_log_odds (C-M)  se_delta   Z  pval unadjusted pval adjusted (FDR)  \\\n",
       "0                   NaN       NaN NaN              NaN                 NaN   \n",
       "1                   NaN       inf NaN              NaN                 NaN   \n",
       "2                   NaN       inf NaN              NaN                 NaN   \n",
       "3                   NaN       inf NaN              NaN                 NaN   \n",
       "4                   NaN       inf NaN              NaN                 NaN   \n",
       "5                   NaN       inf NaN              NaN                 NaN   \n",
       "\n",
       "  result  \n",
       "0    NaN  \n",
       "1    NaN  \n",
       "2    NaN  \n",
       "3    NaN  \n",
       "4    NaN  \n",
       "5    NaN  "
      ]
     },
     "execution_count": 4,
     "metadata": {},
     "output_type": "execute_result"
    }
   ],
   "source": [
    "results_df"
   ]
  },
  {
   "cell_type": "code",
   "execution_count": 19,
   "metadata": {},
   "outputs": [
    {
     "name": "stdout",
     "output_type": "stream",
     "text": [
      "15\n"
     ]
    },
    {
     "data": {
      "text/plain": [
       "13"
      ]
     },
     "execution_count": 19,
     "metadata": {},
     "output_type": "execute_result"
    }
   ],
   "source": [
    "print(np.sum(np.asarray(global_pvals) < 0.05))\n",
    "\n",
    "pvals_adj = fdr(global_pvals)[1]\n",
    "\n",
    "(np.sum(np.asarray(pvals_adj) < 0.05))\n"
   ]
  },
  {
   "cell_type": "code",
   "execution_count": 20,
   "metadata": {},
   "outputs": [
    {
     "name": "stdout",
     "output_type": "stream",
     "text": [
      "6\n",
      "[0.05901276 0.00050454 0.09131208 0.01669394 0.18649947]\n",
      "6\n",
      "[6.55189216e-06 7.03673346e-07 2.01962254e-02 5.23222836e-07\n",
      " 2.01962254e-02]\n",
      "6\n",
      "[0.12479901 0.02019623 0.0394252  0.0011041  0.05901276]\n",
      "6\n",
      "[5.04542114e-04 8.30646579e-01 9.13120847e-02 2.05650803e-01\n",
      " 5.82914398e-01]\n",
      "6\n",
      "[0.13350469 0.12479901 0.00032639 0.02019623 0.17821412]\n"
     ]
    }
   ],
   "source": [
    "for df, df_pvals_adj, disease in zip(outer_dfs, np.array_split(pvals_adj, len(outer_dfs)), diseases):\n",
    "    print(len(df))\n",
    "    print(df_pvals_adj)\n",
    "    df.loc[~np.isnan(df[\"pval unadjusted\"]), \"pval adjusted (FDR)\"] = df_pvals_adj\n",
    "    result = []\n",
    "    zvals = df.loc[~np.isnan(df[\"pval unadjusted\"]), \"Z\"]\n",
    "    for pval, zval in zip(df_pvals_adj, zvals):\n",
    "        if pval < 0.05:\n",
    "            if zval < 0:\n",
    "                result.append(\"less\")\n",
    "            else:\n",
    "                result.append(\"greater\")\n",
    "        else:\n",
    "            result.append(\"equal\")\n",
    "    df.loc[~np.isnan(df[\"pval unadjusted\"]), \"result\"] = result\n",
    "\n",
    "    df.to_csv(\"../statistical_dump/{}_difference_gwas.tsv\".format(disease), sep=\"\\t\", index=False)\n",
    "\n",
    "    "
   ]
  },
  {
   "cell_type": "code",
   "execution_count": 7,
   "metadata": {},
   "outputs": [
    {
     "data": {
      "text/html": [
       "<div>\n",
       "<style scoped>\n",
       "    .dataframe tbody tr th:only-of-type {\n",
       "        vertical-align: middle;\n",
       "    }\n",
       "\n",
       "    .dataframe tbody tr th {\n",
       "        vertical-align: top;\n",
       "    }\n",
       "\n",
       "    .dataframe thead th {\n",
       "        text-align: right;\n",
       "    }\n",
       "</style>\n",
       "<table border=\"1\" class=\"dataframe\">\n",
       "  <thead>\n",
       "    <tr style=\"text-align: right;\">\n",
       "      <th></th>\n",
       "      <th>Mendelian/Method</th>\n",
       "      <th>CS</th>\n",
       "      <th>log odds</th>\n",
       "      <th>a</th>\n",
       "      <th>b</th>\n",
       "      <th>c</th>\n",
       "      <th>d</th>\n",
       "      <th>se</th>\n",
       "      <th>delta_log_odds (C-M)</th>\n",
       "      <th>se_delta</th>\n",
       "      <th>Z</th>\n",
       "      <th>pval unadjusted</th>\n",
       "      <th>pval adjusted (FDR)</th>\n",
       "      <th>result</th>\n",
       "    </tr>\n",
       "  </thead>\n",
       "  <tbody>\n",
       "    <tr>\n",
       "      <th>0</th>\n",
       "      <td>Mendelian</td>\n",
       "      <td>-</td>\n",
       "      <td>2.560246</td>\n",
       "      <td>70</td>\n",
       "      <td>104</td>\n",
       "      <td>719</td>\n",
       "      <td>13822</td>\n",
       "      <td>0.159262</td>\n",
       "      <td>NaN</td>\n",
       "      <td>NaN</td>\n",
       "      <td>NaN</td>\n",
       "      <td>NaN</td>\n",
       "      <td>NaN</td>\n",
       "      <td>NaN</td>\n",
       "    </tr>\n",
       "    <tr>\n",
       "      <th>1</th>\n",
       "      <td>FiLM</td>\n",
       "      <td>8</td>\n",
       "      <td>1.104594</td>\n",
       "      <td>5</td>\n",
       "      <td>32</td>\n",
       "      <td>714</td>\n",
       "      <td>13790</td>\n",
       "      <td>0.482414</td>\n",
       "      <td>-1.455652</td>\n",
       "      <td>0.508023</td>\n",
       "      <td>-2.865326</td>\n",
       "      <td>0.004166</td>\n",
       "      <td>0.013018</td>\n",
       "      <td>less</td>\n",
       "    </tr>\n",
       "    <tr>\n",
       "      <th>2</th>\n",
       "      <td>TAG</td>\n",
       "      <td>6</td>\n",
       "      <td>0.910273</td>\n",
       "      <td>10</td>\n",
       "      <td>78</td>\n",
       "      <td>709</td>\n",
       "      <td>13744</td>\n",
       "      <td>0.338088</td>\n",
       "      <td>-1.649973</td>\n",
       "      <td>0.373722</td>\n",
       "      <td>-4.414978</td>\n",
       "      <td>0.000010</td>\n",
       "      <td>0.000063</td>\n",
       "      <td>less</td>\n",
       "    </tr>\n",
       "    <tr>\n",
       "      <th>3</th>\n",
       "      <td>GCN</td>\n",
       "      <td>11</td>\n",
       "      <td>2.452986</td>\n",
       "      <td>6</td>\n",
       "      <td>10</td>\n",
       "      <td>713</td>\n",
       "      <td>13812</td>\n",
       "      <td>0.517824</td>\n",
       "      <td>-0.107260</td>\n",
       "      <td>0.541762</td>\n",
       "      <td>-0.197984</td>\n",
       "      <td>0.843058</td>\n",
       "      <td>0.874897</td>\n",
       "      <td>equal</td>\n",
       "    </tr>\n",
       "    <tr>\n",
       "      <th>4</th>\n",
       "      <td>N2V+MLP</td>\n",
       "      <td>11</td>\n",
       "      <td>1.680828</td>\n",
       "      <td>5</td>\n",
       "      <td>18</td>\n",
       "      <td>714</td>\n",
       "      <td>13804</td>\n",
       "      <td>0.506980</td>\n",
       "      <td>-0.879418</td>\n",
       "      <td>0.531406</td>\n",
       "      <td>-1.654888</td>\n",
       "      <td>0.097947</td>\n",
       "      <td>0.14404</td>\n",
       "      <td>equal</td>\n",
       "    </tr>\n",
       "  </tbody>\n",
       "</table>\n",
       "</div>"
      ],
      "text/plain": [
       "  Mendelian/Method  CS  log odds   a    b    c      d        se  \\\n",
       "0        Mendelian   -  2.560246  70  104  719  13822  0.159262   \n",
       "1             FiLM   8  1.104594   5   32  714  13790  0.482414   \n",
       "2              TAG   6  0.910273  10   78  709  13744  0.338088   \n",
       "3              GCN  11  2.452986   6   10  713  13812  0.517824   \n",
       "4          N2V+MLP  11  1.680828   5   18  714  13804  0.506980   \n",
       "\n",
       "   delta_log_odds (C-M)  se_delta         Z  pval unadjusted  \\\n",
       "0                   NaN       NaN       NaN              NaN   \n",
       "1             -1.455652  0.508023 -2.865326         0.004166   \n",
       "2             -1.649973  0.373722 -4.414978         0.000010   \n",
       "3             -0.107260  0.541762 -0.197984         0.843058   \n",
       "4             -0.879418  0.531406 -1.654888         0.097947   \n",
       "\n",
       "  pval adjusted (FDR) result  \n",
       "0                 NaN    NaN  \n",
       "1            0.013018   less  \n",
       "2            0.000063   less  \n",
       "3            0.874897  equal  \n",
       "4             0.14404  equal  "
      ]
     },
     "execution_count": 7,
     "metadata": {},
     "output_type": "execute_result"
    }
   ],
   "source": [
    "df.head()"
   ]
  },
  {
   "cell_type": "code",
   "execution_count": 17,
   "metadata": {},
   "outputs": [],
   "source": [
    "import pandas as pd\n",
    "from statsmodels.stats.multitest import fdrcorrection as fdr\n",
    "import numpy as np\n",
    "import scipy.stats as stats\n",
    "methods = [\"FiLM\", \"TAG\", \"GCN\", \"N2V+MLP\", \"MLP\"]\n",
    "diseases = [\"Cardiovascular Disease\", \"Immune Dysregulation\", \"Body Mass Disorders\", \"Insulin Disorders\", \"Diabetes\"]\n",
    "outer_dfs = []\n",
    "global_pvals = []\n",
    "for value in diseases:\n",
    "    results_df = pd.DataFrame(columns=[\"GWAS/Method\", \"CS\", \"log odds\", \"a\", \"b\", \"c\", \"d\", \"se\", \"delta_log_odds (C-G)\", \"se_delta\", \"Z\", \"pval unadjusted\", \"pval adjusted (FDR)\", \"result\"])\n",
    "    df= pd.read_csv(\"../statistical_dump/{}_ors_mko_gwas.tsv\".format(value), sep=\"\\t\", header=0)\n",
    "    method_list = [\"GWAS\"]\n",
    "    cs_list = [\"-\"]\n",
    "    log_odds = []\n",
    "    a_list = []\n",
    "    b_list = []\n",
    "    c_list = []\n",
    "    d_list = []\n",
    "    se_list = []\n",
    "    delta_log_odds_list = [np.nan]\n",
    "    se_delta_list = [np.nan]\n",
    "    zval_list = [np.nan]\n",
    "    pval_list = [np.nan]\n",
    "    result_list = [\"-\"]\n",
    "\n",
    "    need_set_mendelians = True\n",
    "    for method in methods:\n",
    "        method_list.append(method)\n",
    "        cs = 12\n",
    "        significant = False\n",
    "\n",
    "        a = \"N Candidate/Mendelian and MKO\"\n",
    "        b = \"N Candidate/Mendelian not MKO\"\n",
    "        c = \"N Not Candidate/Mendelian and MKO\"\n",
    "        d = \"N Not Candidate/Mendelian Not MKO\"\n",
    "        pval = \"pval adjusted (FDR)\"\n",
    "\n",
    "        while not significant:\n",
    "            cs -= 1\n",
    "            candidate_row = df[(df[\"Method\"] == method) & (df[\"CS/Mendelian\"] == \"CS >= {}\".format(cs))]\n",
    "            significant = candidate_row[pval].item() < 0.05\n",
    "\n",
    "        cs_list.append(cs)\n",
    "\n",
    "        mendelian_row = df.iloc[0]\n",
    "\n",
    "        log_odds_candidates = np.log(candidate_row[\"OR\"].item())\n",
    "        log_odds_mendelians = np.log(mendelian_row[\"OR\"].item())\n",
    "        delta = log_odds_candidates - log_odds_mendelians\n",
    "\n",
    "        var_candidates = np.sum([1 / candidate_row[column] for column in [a, b, c, d]])\n",
    "        var_mendelian = np.sum([1 / mendelian_row[column] for column in [a, b, c, d]])\n",
    "\n",
    "        if need_set_mendelians:\n",
    "            log_odds.append(log_odds_mendelians)\n",
    "            a_list.append(mendelian_row[a].item())\n",
    "            b_list.append(mendelian_row[b].item())\n",
    "            c_list.append(mendelian_row[c].item())\n",
    "            d_list.append(mendelian_row[d].item())\n",
    "            se_list.append(np.sqrt(var_mendelian))\n",
    "            need_set_mendelians = False\n",
    "\n",
    "        log_odds.append(log_odds_candidates)\n",
    "        a_list.append(candidate_row[a].item())\n",
    "        b_list.append(candidate_row[b].item())\n",
    "        c_list.append(candidate_row[c].item())\n",
    "        d_list.append(candidate_row[d].item())\n",
    "        se_list.append(np.sqrt(var_candidates))\n",
    "\n",
    "        n1 = np.sum([candidate_row[column] for column in [a, b, c, d]])\n",
    "        n2 = np.sum([mendelian_row[column] for column in [a, b, c, d]])\n",
    "\n",
    "        se_delta = np.sqrt(var_candidates + var_mendelian)\n",
    "        zval = delta / se_delta\n",
    "        pval = stats.norm.sf(np.abs(zval)) * 2\n",
    "\n",
    "        delta_log_odds_list.append(delta)\n",
    "        se_delta_list.append(se_delta)\n",
    "        zval_list.append(zval)\n",
    "        pval_list.append(pval)\n",
    "\n",
    "    results_df[\"GWAS/Method\"] =  method_list\n",
    "    results_df[\"CS\"] = cs_list\n",
    "    results_df[\"log odds\"] = log_odds\n",
    "    results_df[\"a\"] = a_list\n",
    "    results_df[\"b\"] = b_list\n",
    "    results_df[\"c\"] = c_list\n",
    "    results_df[\"d\"] = d_list\n",
    "    results_df[\"se\"] = se_list\n",
    "    results_df[\"delta_log_odds (C-G)\"] = delta_log_odds_list\n",
    "    results_df[\"se_delta\"] = se_delta_list\n",
    "    results_df[\"Z\"] = zval_list\n",
    "    results_df[\"pval unadjusted\"] = pval_list\n",
    "    #print(\"{}: CS >= {}: {}\".format(method, cs, result))\n",
    "    #print(\"Power: {}\".format(pwr.power(effect_size=zval, nobs1=n1, alpha=0.05, ratio=n2/n1)))\n",
    "    #print(\"Pval: {}\".format(pval))\n",
    "    outer_dfs.append(results_df)\n",
    "    global_pvals.extend(np.asarray(pval_list)[~np.isnan(pval_list)])"
   ]
  },
  {
   "cell_type": "code",
   "execution_count": 18,
   "metadata": {},
   "outputs": [
    {
     "data": {
      "text/html": [
       "<div>\n",
       "<style scoped>\n",
       "    .dataframe tbody tr th:only-of-type {\n",
       "        vertical-align: middle;\n",
       "    }\n",
       "\n",
       "    .dataframe tbody tr th {\n",
       "        vertical-align: top;\n",
       "    }\n",
       "\n",
       "    .dataframe thead th {\n",
       "        text-align: right;\n",
       "    }\n",
       "</style>\n",
       "<table border=\"1\" class=\"dataframe\">\n",
       "  <thead>\n",
       "    <tr style=\"text-align: right;\">\n",
       "      <th></th>\n",
       "      <th>GWAS/Method</th>\n",
       "      <th>CS</th>\n",
       "      <th>log odds</th>\n",
       "      <th>a</th>\n",
       "      <th>b</th>\n",
       "      <th>c</th>\n",
       "      <th>d</th>\n",
       "      <th>se</th>\n",
       "      <th>delta_log_odds (C-G)</th>\n",
       "      <th>se_delta</th>\n",
       "      <th>Z</th>\n",
       "      <th>pval unadjusted</th>\n",
       "      <th>pval adjusted (FDR)</th>\n",
       "      <th>result</th>\n",
       "    </tr>\n",
       "  </thead>\n",
       "  <tbody>\n",
       "    <tr>\n",
       "      <th>0</th>\n",
       "      <td>GWAS</td>\n",
       "      <td>-</td>\n",
       "      <td>0.303063</td>\n",
       "      <td>84</td>\n",
       "      <td>1126</td>\n",
       "      <td>705</td>\n",
       "      <td>12800</td>\n",
       "      <td>0.119538</td>\n",
       "      <td>NaN</td>\n",
       "      <td>NaN</td>\n",
       "      <td>NaN</td>\n",
       "      <td>NaN</td>\n",
       "      <td>NaN</td>\n",
       "      <td>NaN</td>\n",
       "    </tr>\n",
       "    <tr>\n",
       "      <th>1</th>\n",
       "      <td>FiLM</td>\n",
       "      <td>8</td>\n",
       "      <td>1.104594</td>\n",
       "      <td>5</td>\n",
       "      <td>32</td>\n",
       "      <td>714</td>\n",
       "      <td>13790</td>\n",
       "      <td>0.482414</td>\n",
       "      <td>0.801531</td>\n",
       "      <td>0.497004</td>\n",
       "      <td>1.612727</td>\n",
       "      <td>0.106804</td>\n",
       "      <td>NaN</td>\n",
       "      <td>NaN</td>\n",
       "    </tr>\n",
       "    <tr>\n",
       "      <th>2</th>\n",
       "      <td>TAG</td>\n",
       "      <td>6</td>\n",
       "      <td>0.910273</td>\n",
       "      <td>10</td>\n",
       "      <td>78</td>\n",
       "      <td>709</td>\n",
       "      <td>13744</td>\n",
       "      <td>0.338088</td>\n",
       "      <td>0.607209</td>\n",
       "      <td>0.358599</td>\n",
       "      <td>1.693283</td>\n",
       "      <td>0.090402</td>\n",
       "      <td>NaN</td>\n",
       "      <td>NaN</td>\n",
       "    </tr>\n",
       "    <tr>\n",
       "      <th>3</th>\n",
       "      <td>GCN</td>\n",
       "      <td>11</td>\n",
       "      <td>2.452986</td>\n",
       "      <td>6</td>\n",
       "      <td>10</td>\n",
       "      <td>713</td>\n",
       "      <td>13812</td>\n",
       "      <td>0.517824</td>\n",
       "      <td>2.149923</td>\n",
       "      <td>0.531442</td>\n",
       "      <td>4.045448</td>\n",
       "      <td>0.000052</td>\n",
       "      <td>NaN</td>\n",
       "      <td>NaN</td>\n",
       "    </tr>\n",
       "    <tr>\n",
       "      <th>4</th>\n",
       "      <td>N2V+MLP</td>\n",
       "      <td>11</td>\n",
       "      <td>1.680828</td>\n",
       "      <td>5</td>\n",
       "      <td>18</td>\n",
       "      <td>714</td>\n",
       "      <td>13804</td>\n",
       "      <td>0.506980</td>\n",
       "      <td>1.377765</td>\n",
       "      <td>0.520882</td>\n",
       "      <td>2.645061</td>\n",
       "      <td>0.008168</td>\n",
       "      <td>NaN</td>\n",
       "      <td>NaN</td>\n",
       "    </tr>\n",
       "    <tr>\n",
       "      <th>5</th>\n",
       "      <td>MLP</td>\n",
       "      <td>10</td>\n",
       "      <td>0.777488</td>\n",
       "      <td>12</td>\n",
       "      <td>107</td>\n",
       "      <td>707</td>\n",
       "      <td>13715</td>\n",
       "      <td>0.306866</td>\n",
       "      <td>0.474425</td>\n",
       "      <td>0.329326</td>\n",
       "      <td>1.440592</td>\n",
       "      <td>0.149700</td>\n",
       "      <td>NaN</td>\n",
       "      <td>NaN</td>\n",
       "    </tr>\n",
       "  </tbody>\n",
       "</table>\n",
       "</div>"
      ],
      "text/plain": [
       "  GWAS/Method  CS  log odds   a     b    c      d        se  \\\n",
       "0        GWAS   -  0.303063  84  1126  705  12800  0.119538   \n",
       "1        FiLM   8  1.104594   5    32  714  13790  0.482414   \n",
       "2         TAG   6  0.910273  10    78  709  13744  0.338088   \n",
       "3         GCN  11  2.452986   6    10  713  13812  0.517824   \n",
       "4     N2V+MLP  11  1.680828   5    18  714  13804  0.506980   \n",
       "5         MLP  10  0.777488  12   107  707  13715  0.306866   \n",
       "\n",
       "   delta_log_odds (C-G)  se_delta         Z  pval unadjusted  \\\n",
       "0                   NaN       NaN       NaN              NaN   \n",
       "1              0.801531  0.497004  1.612727         0.106804   \n",
       "2              0.607209  0.358599  1.693283         0.090402   \n",
       "3              2.149923  0.531442  4.045448         0.000052   \n",
       "4              1.377765  0.520882  2.645061         0.008168   \n",
       "5              0.474425  0.329326  1.440592         0.149700   \n",
       "\n",
       "  pval adjusted (FDR) result  \n",
       "0                 NaN    NaN  \n",
       "1                 NaN    NaN  \n",
       "2                 NaN    NaN  \n",
       "3                 NaN    NaN  \n",
       "4                 NaN    NaN  \n",
       "5                 NaN    NaN  "
      ]
     },
     "execution_count": 18,
     "metadata": {},
     "output_type": "execute_result"
    }
   ],
   "source": [
    "results_df"
   ]
  },
  {
   "cell_type": "code",
   "execution_count": 15,
   "metadata": {},
   "outputs": [
    {
     "data": {
      "text/html": [
       "<div>\n",
       "<style scoped>\n",
       "    .dataframe tbody tr th:only-of-type {\n",
       "        vertical-align: middle;\n",
       "    }\n",
       "\n",
       "    .dataframe tbody tr th {\n",
       "        vertical-align: top;\n",
       "    }\n",
       "\n",
       "    .dataframe thead th {\n",
       "        text-align: right;\n",
       "    }\n",
       "</style>\n",
       "<table border=\"1\" class=\"dataframe\">\n",
       "  <thead>\n",
       "    <tr style=\"text-align: right;\">\n",
       "      <th></th>\n",
       "      <th>GWAS/Method</th>\n",
       "      <th>CS</th>\n",
       "      <th>log odds</th>\n",
       "      <th>a</th>\n",
       "      <th>b</th>\n",
       "      <th>c</th>\n",
       "      <th>d</th>\n",
       "      <th>se</th>\n",
       "      <th>delta_log_odds (C-M)</th>\n",
       "      <th>se_delta</th>\n",
       "      <th>Z</th>\n",
       "      <th>pval unadjusted</th>\n",
       "      <th>pval adjusted (FDR)</th>\n",
       "      <th>result</th>\n",
       "      <th>delta_log_odds (C-G)</th>\n",
       "    </tr>\n",
       "  </thead>\n",
       "  <tbody>\n",
       "    <tr>\n",
       "      <th>0</th>\n",
       "      <td>GWAS</td>\n",
       "      <td>-</td>\n",
       "      <td>0.190620</td>\n",
       "      <td>85</td>\n",
       "      <td>1599</td>\n",
       "      <td>547</td>\n",
       "      <td>12449</td>\n",
       "      <td>0.119577</td>\n",
       "      <td>NaN</td>\n",
       "      <td>NaN</td>\n",
       "      <td>NaN</td>\n",
       "      <td>NaN</td>\n",
       "      <td>NaN</td>\n",
       "      <td>NaN</td>\n",
       "      <td>NaN</td>\n",
       "    </tr>\n",
       "    <tr>\n",
       "      <th>1</th>\n",
       "      <td>FiLM</td>\n",
       "      <td>9</td>\n",
       "      <td>1.137512</td>\n",
       "      <td>6</td>\n",
       "      <td>51</td>\n",
       "      <td>511</td>\n",
       "      <td>13548</td>\n",
       "      <td>0.433942</td>\n",
       "      <td>NaN</td>\n",
       "      <td>0.450115</td>\n",
       "      <td>2.103665</td>\n",
       "      <td>0.035408</td>\n",
       "      <td>NaN</td>\n",
       "      <td>NaN</td>\n",
       "      <td>0.946892</td>\n",
       "    </tr>\n",
       "    <tr>\n",
       "      <th>2</th>\n",
       "      <td>TAG</td>\n",
       "      <td>11</td>\n",
       "      <td>1.374728</td>\n",
       "      <td>15</td>\n",
       "      <td>102</td>\n",
       "      <td>502</td>\n",
       "      <td>13497</td>\n",
       "      <td>0.280244</td>\n",
       "      <td>NaN</td>\n",
       "      <td>0.304689</td>\n",
       "      <td>3.886284</td>\n",
       "      <td>0.000102</td>\n",
       "      <td>NaN</td>\n",
       "      <td>NaN</td>\n",
       "      <td>1.184107</td>\n",
       "    </tr>\n",
       "    <tr>\n",
       "      <th>3</th>\n",
       "      <td>GCN</td>\n",
       "      <td>10</td>\n",
       "      <td>0.730443</td>\n",
       "      <td>16</td>\n",
       "      <td>206</td>\n",
       "      <td>501</td>\n",
       "      <td>13393</td>\n",
       "      <td>0.263486</td>\n",
       "      <td>NaN</td>\n",
       "      <td>0.289350</td>\n",
       "      <td>1.865637</td>\n",
       "      <td>0.062092</td>\n",
       "      <td>NaN</td>\n",
       "      <td>NaN</td>\n",
       "      <td>0.539823</td>\n",
       "    </tr>\n",
       "    <tr>\n",
       "      <th>4</th>\n",
       "      <td>N2V+MLP</td>\n",
       "      <td>11</td>\n",
       "      <td>1.299919</td>\n",
       "      <td>8</td>\n",
       "      <td>58</td>\n",
       "      <td>509</td>\n",
       "      <td>13541</td>\n",
       "      <td>0.379842</td>\n",
       "      <td>NaN</td>\n",
       "      <td>0.398219</td>\n",
       "      <td>2.785649</td>\n",
       "      <td>0.005342</td>\n",
       "      <td>NaN</td>\n",
       "      <td>NaN</td>\n",
       "      <td>1.109299</td>\n",
       "    </tr>\n",
       "    <tr>\n",
       "      <th>5</th>\n",
       "      <td>MLP</td>\n",
       "      <td>10</td>\n",
       "      <td>0.573237</td>\n",
       "      <td>18</td>\n",
       "      <td>271</td>\n",
       "      <td>499</td>\n",
       "      <td>13328</td>\n",
       "      <td>0.247638</td>\n",
       "      <td>NaN</td>\n",
       "      <td>0.274997</td>\n",
       "      <td>1.391349</td>\n",
       "      <td>0.164120</td>\n",
       "      <td>NaN</td>\n",
       "      <td>NaN</td>\n",
       "      <td>0.382617</td>\n",
       "    </tr>\n",
       "  </tbody>\n",
       "</table>\n",
       "</div>"
      ],
      "text/plain": [
       "  GWAS/Method  CS  log odds   a     b    c      d        se  \\\n",
       "0        GWAS   -  0.190620  85  1599  547  12449  0.119577   \n",
       "1        FiLM   9  1.137512   6    51  511  13548  0.433942   \n",
       "2         TAG  11  1.374728  15   102  502  13497  0.280244   \n",
       "3         GCN  10  0.730443  16   206  501  13393  0.263486   \n",
       "4     N2V+MLP  11  1.299919   8    58  509  13541  0.379842   \n",
       "5         MLP  10  0.573237  18   271  499  13328  0.247638   \n",
       "\n",
       "  delta_log_odds (C-M)  se_delta         Z  pval unadjusted  \\\n",
       "0                  NaN       NaN       NaN              NaN   \n",
       "1                  NaN  0.450115  2.103665         0.035408   \n",
       "2                  NaN  0.304689  3.886284         0.000102   \n",
       "3                  NaN  0.289350  1.865637         0.062092   \n",
       "4                  NaN  0.398219  2.785649         0.005342   \n",
       "5                  NaN  0.274997  1.391349         0.164120   \n",
       "\n",
       "  pval adjusted (FDR) result  delta_log_odds (C-G)  \n",
       "0                 NaN    NaN                   NaN  \n",
       "1                 NaN    NaN              0.946892  \n",
       "2                 NaN    NaN              1.184107  \n",
       "3                 NaN    NaN              0.539823  \n",
       "4                 NaN    NaN              1.109299  \n",
       "5                 NaN    NaN              0.382617  "
      ]
     },
     "execution_count": 15,
     "metadata": {},
     "output_type": "execute_result"
    }
   ],
   "source": [
    "outer_dfs[0]"
   ]
  },
  {
   "cell_type": "code",
   "execution_count": 79,
   "metadata": {},
   "outputs": [],
   "source": [
    "zscore_genes = pd.read_table(\"/home/icb/florin.ratajczak/ppi-core-genes/data/forweb_cleaned_exac_r03_march16_z_data_pLI.txt\", sep=\"\\t\", header=0, usecols=[\"gene\"])"
   ]
  },
  {
   "cell_type": "code",
   "execution_count": 85,
   "metadata": {},
   "outputs": [],
   "source": [
    "zscore_genes = set(zscore_genes[\"gene\"].tolist())"
   ]
  },
  {
   "cell_type": "code",
   "execution_count": 82,
   "metadata": {},
   "outputs": [],
   "source": [
    "background_genes = pd.read_table(\"/home/icb/florin.ratajczak/ppi-core-genes/data/hgnc_official_list.tsv\", sep=\"\\t\", header=0, usecols=[\"symbol\"])"
   ]
  },
  {
   "cell_type": "code",
   "execution_count": 87,
   "metadata": {},
   "outputs": [],
   "source": [
    "background_genes = set(background_genes[\"symbol\"].tolist())"
   ]
  },
  {
   "cell_type": "code",
   "execution_count": 88,
   "metadata": {},
   "outputs": [
    {
     "data": {
      "text/plain": [
       "16834"
      ]
     },
     "execution_count": 88,
     "metadata": {},
     "output_type": "execute_result"
    }
   ],
   "source": [
    "len(background_genes.intersection(zscore_genes))"
   ]
  },
  {
   "cell_type": "code",
   "execution_count": 90,
   "metadata": {},
   "outputs": [],
   "source": [
    "results = pd.read_table(\"/home/icb/florin.ratajczak/ppi-core-genes/results/master_tables/Body_Mass_Disorders_master_table.csv\", sep=\"\\t\", header=0, usecols=[\"HGNC\", \"Is Included\"])"
   ]
  },
  {
   "cell_type": "code",
   "execution_count": 91,
   "metadata": {},
   "outputs": [],
   "source": [
    "results = results[results[\"Is Included\"]]"
   ]
  },
  {
   "cell_type": "code",
   "execution_count": 92,
   "metadata": {},
   "outputs": [
    {
     "data": {
      "text/plain": [
       "17398"
      ]
     },
     "execution_count": 92,
     "metadata": {},
     "output_type": "execute_result"
    }
   ],
   "source": [
    "len(results)"
   ]
  },
  {
   "cell_type": "code",
   "execution_count": 93,
   "metadata": {},
   "outputs": [],
   "source": [
    "results_hgnc = set(results[\"HGNC\"].tolist())"
   ]
  },
  {
   "cell_type": "code",
   "execution_count": 94,
   "metadata": {},
   "outputs": [
    {
     "data": {
      "text/plain": [
       "15781"
      ]
     },
     "execution_count": 94,
     "metadata": {},
     "output_type": "execute_result"
    }
   ],
   "source": [
    "len(background_genes.intersection(zscore_genes).intersection(results_hgnc))"
   ]
  },
  {
   "cell_type": "code",
   "execution_count": 25,
   "metadata": {},
   "outputs": [],
   "source": [
    "import scipy.stats as stats\n",
    "import matplotlib.pyplot as plt"
   ]
  },
  {
   "cell_type": "code",
   "execution_count": 22,
   "metadata": {},
   "outputs": [],
   "source": [
    "x = np.arange(1,11)\n",
    "distribution =np.zeros((10,1000))\n",
    "for i in range(1000):\n",
    "    distribution[:,i] = stats.binom.pmf(x, 10, 0.05)"
   ]
  },
  {
   "cell_type": "code",
   "execution_count": 26,
   "metadata": {},
   "outputs": [
    {
     "data": {
      "text/plain": [
       "[<matplotlib.lines.Line2D at 0x7ff946ad8450>]"
      ]
     },
     "execution_count": 26,
     "metadata": {},
     "output_type": "execute_result"
    },
    {
     "data": {
      "image/png": "[encoded data removed]",
      "text/plain": [
       "<Figure size 432x288 with 1 Axes>"
      ]
     },
     "metadata": {
      "needs_background": "light"
     },
     "output_type": "display_data"
    }
   ],
   "source": [
    "plt.plot(distribution[0,:])"
   ]
  },
  {
   "cell_type": "code",
   "execution_count": 28,
   "metadata": {},
   "outputs": [
    {
     "data": {
      "text/plain": [
       "array([0.3151247, 0.3151247, 0.3151247, 0.3151247, 0.3151247, 0.3151247,\n",
       "       0.3151247, 0.3151247, 0.3151247, 0.3151247])"
      ]
     },
     "execution_count": 28,
     "metadata": {},
     "output_type": "execute_result"
    }
   ],
   "source": [
    "distribution[0, :10]"
   ]
  },
  {
   "cell_type": "code",
   "execution_count": 21,
   "metadata": {},
   "outputs": [],
   "source": [
    "n_pos = 1000\n",
    "n_total = 17000\n",
    "n_models = 10\n",
    "n_drawings = 1000\n",
    "\n",
    "result = stats.binom.rvs(1, n_pos/n_total, size=(n_total, n_models, n_drawings))"
   ]
  },
  {
   "cell_type": "code",
   "execution_count": 22,
   "metadata": {},
   "outputs": [],
   "source": [
    "result_per_drawing = result.sum(axis=1)"
   ]
  },
  {
   "cell_type": "code",
   "execution_count": 26,
   "metadata": {},
   "outputs": [
    {
     "ename": "NameError",
     "evalue": "name 'plt' is not defined",
     "output_type": "error",
     "traceback": [
      "\u001b[0;31m---------------------------------------------------------------------------\u001b[0m",
      "\u001b[0;31mNameError\u001b[0m                                 Traceback (most recent call last)",
      "\u001b[0;32m/tmp/ipykernel_221660/1856739317.py\u001b[0m in \u001b[0;36m<module>\u001b[0;34m\u001b[0m\n\u001b[1;32m      1\u001b[0m \u001b[0munique\u001b[0m\u001b[0;34m,\u001b[0m \u001b[0mcounts\u001b[0m \u001b[0;34m=\u001b[0m \u001b[0mnp\u001b[0m\u001b[0;34m.\u001b[0m\u001b[0munique\u001b[0m\u001b[0;34m(\u001b[0m\u001b[0mresult_per_drawing\u001b[0m\u001b[0;34m[\u001b[0m\u001b[0;34m:\u001b[0m\u001b[0;34m,\u001b[0m\u001b[0;36m0\u001b[0m\u001b[0;34m]\u001b[0m\u001b[0;34m,\u001b[0m \u001b[0mreturn_counts\u001b[0m\u001b[0;34m=\u001b[0m\u001b[0;32mTrue\u001b[0m\u001b[0;34m)\u001b[0m\u001b[0;34m\u001b[0m\u001b[0;34m\u001b[0m\u001b[0m\n\u001b[0;32m----> 2\u001b[0;31m \u001b[0mplt\u001b[0m\u001b[0;34m.\u001b[0m\u001b[0mplot\u001b[0m\u001b[0;34m(\u001b[0m\u001b[0munique\u001b[0m\u001b[0;34m[\u001b[0m\u001b[0;36m1\u001b[0m\u001b[0;34m:\u001b[0m\u001b[0;34m]\u001b[0m\u001b[0;34m,\u001b[0m \u001b[0mcounts\u001b[0m\u001b[0;34m[\u001b[0m\u001b[0;36m1\u001b[0m\u001b[0;34m:\u001b[0m\u001b[0;34m]\u001b[0m\u001b[0;34m)\u001b[0m\u001b[0;34m\u001b[0m\u001b[0;34m\u001b[0m\u001b[0m\n\u001b[0m",
      "\u001b[0;31mNameError\u001b[0m: name 'plt' is not defined"
     ]
    }
   ],
   "source": [
    "unique, counts = np.unique(result_per_drawing[:,0], return_counts=True)\n",
    "plt.plot(unique[1:], counts[1:])"
   ]
  },
  {
   "cell_type": "code",
   "execution_count": 25,
   "metadata": {},
   "outputs": [
    {
     "data": {
      "text/plain": [
       "(17000, 1000)"
      ]
     },
     "execution_count": 25,
     "metadata": {},
     "output_type": "execute_result"
    }
   ],
   "source": [
    "result_per_drawing.shape"
   ]
  },
  {
   "cell_type": "code",
   "execution_count": 27,
   "metadata": {},
   "outputs": [],
   "source": [
    "unique, counts = np.unique(result_per_drawing[:,0], return_counts=True)\n",
    "#plt.plot(unique[1:], counts[1:])"
   ]
  },
  {
   "cell_type": "code",
   "execution_count": 28,
   "metadata": {},
   "outputs": [],
   "source": [
    "unique, counts = zip(*[np.unique(result_per_drawing[:,i], return_counts=True) for i in range(result_per_drawing.shape[1])])"
   ]
  },
  {
   "cell_type": "code",
   "execution_count": 29,
   "metadata": {},
   "outputs": [],
   "source": [
    "max = 0\n",
    "\n",
    "for values in unique:\n",
    "    if len(values) > max:\n",
    "        max = len(values)\n",
    "\n",
    "b=[]\n",
    "\n",
    "for i in range(len(counts)):\n",
    "    if len(counts[i]) != max:\n",
    "        b.append(np.pad(counts[i], (0,max-len(counts[i])), 'constant', constant_values = 0))\n",
    "    else:\n",
    "        b.append(counts[i])\n",
    "        \n",
    "b = np.array(b)"
   ]
  },
  {
   "cell_type": "code",
   "execution_count": 30,
   "metadata": {},
   "outputs": [
    {
     "data": {
      "text/plain": [
       "(array([  6.,  15.,  62., 152., 213., 204., 204.,  89.,  43.,  12.]),\n",
       " array([221. , 230.5, 240. , 249.5, 259. , 268.5, 278. , 287.5, 297. ,\n",
       "        306.5, 316. ]),\n",
       " <BarContainer object of 10 artists>)"
      ]
     },
     "execution_count": 30,
     "metadata": {},
     "output_type": "execute_result"
    },
    {
     "data": {
      "image/png": "[encoded data removed]",
      "text/plain": [
       "<Figure size 432x288 with 1 Axes>"
      ]
     },
     "metadata": {
      "needs_background": "light"
     },
     "output_type": "display_data"
    }
   ],
   "source": [
    "import matplotlib.pyplot as plt\n",
    "plt.hist(b[:,3])"
   ]
  },
  {
   "cell_type": "code",
   "execution_count": 32,
   "metadata": {},
   "outputs": [
    {
     "data": {
      "text/plain": [
       "array([9.272433e+03, 5.791969e+03, 1.632776e+03, 2.708090e+02,\n",
       "       2.970000e+01, 2.202000e+00, 1.110000e-01])"
      ]
     },
     "execution_count": 32,
     "metadata": {},
     "output_type": "execute_result"
    }
   ],
   "source": [
    "b.mean(axis=0)"
   ]
  },
  {
   "cell_type": "code",
   "execution_count": 139,
   "metadata": {},
   "outputs": [
    {
     "data": {
      "text/plain": [
       "NormaltestResult(statistic=array([5.31867678e+00, 3.10957384e+00, 2.62155059e+00, 4.21035344e-01,\n",
       "       4.05306913e+00, 1.11104625e+02, 5.59677541e+02]), pvalue=array([6.99945156e-002, 2.11234387e-001, 2.69610947e-001, 8.10164738e-001,\n",
       "       1.31791446e-001, 7.48061359e-025, 2.93471620e-122]))"
      ]
     },
     "execution_count": 139,
     "metadata": {},
     "output_type": "execute_result"
    }
   ],
   "source": [
    "stats.normaltest(b, axis=0)"
   ]
  },
  {
   "cell_type": "code",
   "execution_count": 132,
   "metadata": {},
   "outputs": [
    {
     "data": {
      "text/plain": [
       "array([[9299, 5758, 1643, ...,   26,    3,    0],\n",
       "       [9184, 5828, 1663, ...,   32,    3,    1],\n",
       "       [9310, 5753, 1632, ...,   19,    1,    0],\n",
       "       ...,\n",
       "       [9335, 5816, 1565, ...,   31,    2,    0],\n",
       "       [9349, 5735, 1607, ...,   37,    2,    0],\n",
       "       [9261, 5905, 1555, ...,   32,    1,    0]])"
      ]
     },
     "execution_count": 132,
     "metadata": {},
     "output_type": "execute_result"
    }
   ],
   "source": [
    "b"
   ]
  },
  {
   "cell_type": "code",
   "execution_count": null,
   "metadata": {},
   "outputs": [],
   "source": []
  }
 ],
 "metadata": {
  "kernelspec": {
   "display_name": "compat",
   "language": "python",
   "name": "python3"
  },
  "language_info": {
   "codemirror_mode": {
    "name": "ipython",
    "version": 3
   },
   "file_extension": ".py",
   "mimetype": "text/x-python",
   "name": "python",
   "nbconvert_exporter": "python",
   "pygments_lexer": "ipython3",
   "version": "3.7.12"
  },
  "orig_nbformat": 4,
  "vscode": {
   "interpreter": {
    "hash": "710bb1a909b1ab17a29f33f5c92268ff372ef09411c664d3fef738f109a43cf0"
   }
  }
 },
 "nbformat": 4,
 "nbformat_minor": 2
}
