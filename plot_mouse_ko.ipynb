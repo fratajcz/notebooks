{
 "cells": [
  {
   "cell_type": "code",
   "execution_count": 4,
   "metadata": {},
   "outputs": [],
   "source": [
    "import os\n",
    "os.chdir(os.path.expanduser(\"~/ppi-core-genes/\"))\n",
    "from speos.utils.datahandlers import ResultsHandler\n",
    "from speos.postprocessing.postprocessor import PostProcessor\n",
    "from speos.utils.config import Config\n",
    "from speos.visualization.settings import *\n",
    "\n",
    "import numpy as np\n",
    "import matplotlib as plt"
   ]
  },
  {
   "attachments": {},
   "cell_type": "markdown",
   "metadata": {},
   "source": [
    "# Plot MKO with GWAS and without FiLM-Unbiased"
   ]
  },
  {
   "cell_type": "code",
   "execution_count": 5,
   "metadata": {},
   "outputs": [
    {
     "name": "stdout",
     "output_type": "stream",
     "text": [
      "GWAS candidate Genes: 2071\n",
      "Number of Background genes: 14680\n",
      "Number of unlabeled Background genes: 14116\n",
      "Number of unlabeled valid GWAS genes: 1941\n",
      "Number of unlabeled Mouse Genes genes: 517\n"
     ]
    },
    {
     "name": "stderr",
     "output_type": "stream",
     "text": [
      "cardiovascular_film 2023-01-27 11:54:08,821 [INFO] speos.postprocessing.postprocessor: Reading mouse knockout genes from ./data/mgi/background.txt\n",
      "cardiovascular_film 2023-01-27 11:54:09,445 [INFO] speos.postprocessing.postprocessor: Reading mouse knockout genes from ./data/mgi/cad_query.txt\n",
      "cardiovascular_film 2023-01-27 11:54:09,581 [INFO] speos.postprocessing.postprocessor: Reading mouse knockout genes from ./data/mgi/cad_query.txt\n"
     ]
    },
    {
     "name": "stdout",
     "output_type": "stream",
     "text": [
      "GWAS candidate Genes: 2071\n"
     ]
    },
    {
     "name": "stderr",
     "output_type": "stream",
     "text": [
      "cardiovascular_film 2023-01-27 11:54:09,761 [INFO] speos.postprocessing.postprocessor: Reading mouse knockout genes from ./data/mgi/background.txt\n",
      "cardiovascular_film 2023-01-27 11:54:10,213 [INFO] speos.postprocessing.postprocessor: Reading mouse knockout genes from ./data/mgi/cad_query.txt\n",
      "cardiovascular_film 2023-01-27 11:54:10,348 [INFO] speos.postprocessing.postprocessor: Reading mouse knockout genes from ./data/mgi/cad_query.txt\n"
     ]
    },
    {
     "name": "stdout",
     "output_type": "stream",
     "text": [
      "Number of Background genes: 14680\n",
      "Number of unlabeled Background genes: 14116\n",
      "Number of unlabeled valid GWAS genes: 1941\n",
      "Number of unlabeled Mouse Genes genes: 517\n",
      "GWAS candidate Genes: 2071\n",
      "Number of Background genes: 14680\n",
      "Number of unlabeled Background genes: 14116\n",
      "Number of unlabeled valid GWAS genes: 1941\n",
      "Number of unlabeled Mouse Genes genes: 517\n"
     ]
    },
    {
     "name": "stderr",
     "output_type": "stream",
     "text": [
      "cardiovascular_film 2023-01-27 11:54:10,523 [INFO] speos.postprocessing.postprocessor: Reading mouse knockout genes from ./data/mgi/background.txt\n",
      "cardiovascular_film 2023-01-27 11:54:10,971 [INFO] speos.postprocessing.postprocessor: Reading mouse knockout genes from ./data/mgi/cad_query.txt\n",
      "cardiovascular_film 2023-01-27 11:54:11,104 [INFO] speos.postprocessing.postprocessor: Reading mouse knockout genes from ./data/mgi/cad_query.txt\n"
     ]
    },
    {
     "name": "stdout",
     "output_type": "stream",
     "text": [
      "GWAS candidate Genes: 2071\n",
      "Number of Background genes: 14680\n",
      "Number of unlabeled Background genes: 14116\n",
      "Number of unlabeled valid GWAS genes: 1941\n",
      "Number of unlabeled Mouse Genes genes: 517\n"
     ]
    },
    {
     "name": "stderr",
     "output_type": "stream",
     "text": [
      "cardiovascular_film 2023-01-27 11:54:11,295 [INFO] speos.postprocessing.postprocessor: Reading mouse knockout genes from ./data/mgi/background.txt\n",
      "cardiovascular_film 2023-01-27 11:54:11,725 [INFO] speos.postprocessing.postprocessor: Reading mouse knockout genes from ./data/mgi/cad_query.txt\n",
      "cardiovascular_film 2023-01-27 11:54:11,916 [INFO] speos.postprocessing.postprocessor: Reading mouse knockout genes from ./data/mgi/cad_query.txt\n"
     ]
    },
    {
     "name": "stdout",
     "output_type": "stream",
     "text": [
      "GWAS candidate Genes: 2071\n",
      "Number of Background genes: 14680\n",
      "Number of unlabeled Background genes: 14116\n",
      "Number of unlabeled valid GWAS genes: 1941\n",
      "Number of unlabeled Mouse Genes genes: 517\n"
     ]
    },
    {
     "name": "stderr",
     "output_type": "stream",
     "text": [
      "cardiovascular_film 2023-01-27 11:54:12,207 [INFO] speos.postprocessing.postprocessor: Reading mouse knockout genes from ./data/mgi/background.txt\n",
      "cardiovascular_film 2023-01-27 11:54:12,706 [INFO] speos.postprocessing.postprocessor: Reading mouse knockout genes from ./data/mgi/cad_query.txt\n",
      "cardiovascular_film 2023-01-27 11:54:12,872 [INFO] speos.postprocessing.postprocessor: Reading mouse knockout genes from ./data/mgi/cad_query.txt\n"
     ]
    },
    {
     "name": "stdout",
     "output_type": "stream",
     "text": [
      "GWAS candidate Genes: 405\n",
      "Number of Background genes: 14443\n",
      "Number of unlabeled Background genes: 13935\n",
      "Number of unlabeled valid GWAS genes: 353\n",
      "Number of unlabeled Mouse Genes genes: 1251\n"
     ]
    },
    {
     "name": "stderr",
     "output_type": "stream",
     "text": [
      "cardiovascular_film 2023-01-27 11:54:13,179 [INFO] speos.postprocessing.postprocessor: Reading mouse knockout genes from ./data/mgi/background.txt\n",
      "cardiovascular_film 2023-01-27 11:54:13,616 [INFO] speos.postprocessing.postprocessor: Reading mouse knockout genes from ./data/mgi/immune_dysreg_query.txt\n",
      "cardiovascular_film 2023-01-27 11:54:13,824 [INFO] speos.postprocessing.postprocessor: Reading mouse knockout genes from ./data/mgi/immune_dysreg_query.txt\n"
     ]
    },
    {
     "name": "stdout",
     "output_type": "stream",
     "text": [
      "GWAS candidate Genes: 405\n",
      "Number of Background genes: 14443\n",
      "Number of unlabeled Background genes: 13935\n",
      "Number of unlabeled valid GWAS genes: 353\n",
      "Number of unlabeled Mouse Genes genes: 1251\n"
     ]
    },
    {
     "name": "stderr",
     "output_type": "stream",
     "text": [
      "cardiovascular_film 2023-01-27 11:54:14,091 [INFO] speos.postprocessing.postprocessor: Reading mouse knockout genes from ./data/mgi/background.txt\n",
      "cardiovascular_film 2023-01-27 11:54:14,533 [INFO] speos.postprocessing.postprocessor: Reading mouse knockout genes from ./data/mgi/immune_dysreg_query.txt\n",
      "cardiovascular_film 2023-01-27 11:54:14,831 [INFO] speos.postprocessing.postprocessor: Reading mouse knockout genes from ./data/mgi/immune_dysreg_query.txt\n"
     ]
    },
    {
     "name": "stdout",
     "output_type": "stream",
     "text": [
      "GWAS candidate Genes: 405\n",
      "Number of Background genes: 14443\n",
      "Number of unlabeled Background genes: 13935\n",
      "Number of unlabeled valid GWAS genes: 353\n",
      "Number of unlabeled Mouse Genes genes: 1251\n"
     ]
    },
    {
     "name": "stderr",
     "output_type": "stream",
     "text": [
      "cardiovascular_film 2023-01-27 11:54:15,069 [INFO] speos.postprocessing.postprocessor: Reading mouse knockout genes from ./data/mgi/background.txt\n",
      "cardiovascular_film 2023-01-27 11:54:15,504 [INFO] speos.postprocessing.postprocessor: Reading mouse knockout genes from ./data/mgi/immune_dysreg_query.txt\n",
      "cardiovascular_film 2023-01-27 11:54:15,702 [INFO] speos.postprocessing.postprocessor: Reading mouse knockout genes from ./data/mgi/immune_dysreg_query.txt\n"
     ]
    },
    {
     "name": "stdout",
     "output_type": "stream",
     "text": [
      "GWAS candidate Genes: 405\n",
      "Number of Background genes: 14443\n",
      "Number of unlabeled Background genes: 13935\n",
      "Number of unlabeled valid GWAS genes: 353\n",
      "Number of unlabeled Mouse Genes genes: 1251\n"
     ]
    },
    {
     "name": "stderr",
     "output_type": "stream",
     "text": [
      "cardiovascular_film 2023-01-27 11:54:16,000 [INFO] speos.postprocessing.postprocessor: Reading mouse knockout genes from ./data/mgi/background.txt\n",
      "cardiovascular_film 2023-01-27 11:54:16,440 [INFO] speos.postprocessing.postprocessor: Reading mouse knockout genes from ./data/mgi/immune_dysreg_query.txt\n",
      "cardiovascular_film 2023-01-27 11:54:16,616 [INFO] speos.postprocessing.postprocessor: Reading mouse knockout genes from ./data/mgi/immune_dysreg_query.txt\n"
     ]
    },
    {
     "name": "stdout",
     "output_type": "stream",
     "text": [
      "GWAS candidate Genes: 405\n",
      "Number of Background genes: 14443\n",
      "Number of unlabeled Background genes: 13935\n",
      "Number of unlabeled valid GWAS genes: 353\n",
      "Number of unlabeled Mouse Genes genes: 1251\n"
     ]
    },
    {
     "name": "stderr",
     "output_type": "stream",
     "text": [
      "cardiovascular_film 2023-01-27 11:54:16,879 [INFO] speos.postprocessing.postprocessor: Reading mouse knockout genes from ./data/mgi/background.txt\n",
      "cardiovascular_film 2023-01-27 11:54:17,400 [INFO] speos.postprocessing.postprocessor: Reading mouse knockout genes from ./data/mgi/immune_dysreg_query.txt\n",
      "cardiovascular_film 2023-01-27 11:54:17,594 [INFO] speos.postprocessing.postprocessor: Reading mouse knockout genes from ./data/mgi/immune_dysreg_query.txt\n"
     ]
    },
    {
     "name": "stdout",
     "output_type": "stream",
     "text": [
      "GWAS candidate Genes: 1415\n",
      "Number of Background genes: 14709\n",
      "Number of unlabeled Background genes: 14586\n",
      "Number of unlabeled valid GWAS genes: 1388\n",
      "Number of unlabeled Mouse Genes genes: 1812\n"
     ]
    },
    {
     "name": "stderr",
     "output_type": "stream",
     "text": [
      "cardiovascular_film 2023-01-27 11:54:17,967 [INFO] speos.postprocessing.postprocessor: Reading mouse knockout genes from ./data/mgi/background.txt\n",
      "cardiovascular_film 2023-01-27 11:54:18,394 [INFO] speos.postprocessing.postprocessor: Reading mouse knockout genes from ./data/mgi/bm_disorder_query.txt\n",
      "cardiovascular_film 2023-01-27 11:54:18,597 [INFO] speos.postprocessing.postprocessor: Reading mouse knockout genes from ./data/mgi/bm_disorder_query.txt\n"
     ]
    },
    {
     "name": "stdout",
     "output_type": "stream",
     "text": [
      "GWAS candidate Genes: 1415\n",
      "Number of Background genes: 14709\n",
      "Number of unlabeled Background genes: 14586\n",
      "Number of unlabeled valid GWAS genes: 1388\n",
      "Number of unlabeled Mouse Genes genes: 1812\n"
     ]
    },
    {
     "name": "stderr",
     "output_type": "stream",
     "text": [
      "cardiovascular_film 2023-01-27 11:54:18,880 [INFO] speos.postprocessing.postprocessor: Reading mouse knockout genes from ./data/mgi/background.txt\n",
      "cardiovascular_film 2023-01-27 11:54:19,313 [INFO] speos.postprocessing.postprocessor: Reading mouse knockout genes from ./data/mgi/bm_disorder_query.txt\n",
      "cardiovascular_film 2023-01-27 11:54:19,491 [INFO] speos.postprocessing.postprocessor: Reading mouse knockout genes from ./data/mgi/bm_disorder_query.txt\n"
     ]
    },
    {
     "name": "stdout",
     "output_type": "stream",
     "text": [
      "GWAS candidate Genes: 1415\n",
      "Number of Background genes: 14709\n",
      "Number of unlabeled Background genes: 14586\n",
      "Number of unlabeled valid GWAS genes: 1388\n",
      "Number of unlabeled Mouse Genes genes: 1812\n"
     ]
    },
    {
     "name": "stderr",
     "output_type": "stream",
     "text": [
      "cardiovascular_film 2023-01-27 11:54:19,785 [INFO] speos.postprocessing.postprocessor: Reading mouse knockout genes from ./data/mgi/background.txt\n",
      "cardiovascular_film 2023-01-27 11:54:20,213 [INFO] speos.postprocessing.postprocessor: Reading mouse knockout genes from ./data/mgi/bm_disorder_query.txt\n",
      "cardiovascular_film 2023-01-27 11:54:20,411 [INFO] speos.postprocessing.postprocessor: Reading mouse knockout genes from ./data/mgi/bm_disorder_query.txt\n"
     ]
    },
    {
     "name": "stdout",
     "output_type": "stream",
     "text": [
      "GWAS candidate Genes: 1415\n",
      "Number of Background genes: 14709\n",
      "Number of unlabeled Background genes: 14586\n",
      "Number of unlabeled valid GWAS genes: 1388\n",
      "Number of unlabeled Mouse Genes genes: 1812\n"
     ]
    },
    {
     "name": "stderr",
     "output_type": "stream",
     "text": [
      "cardiovascular_film 2023-01-27 11:54:20,708 [INFO] speos.postprocessing.postprocessor: Reading mouse knockout genes from ./data/mgi/background.txt\n",
      "cardiovascular_film 2023-01-27 11:54:21,237 [INFO] speos.postprocessing.postprocessor: Reading mouse knockout genes from ./data/mgi/bm_disorder_query.txt\n",
      "cardiovascular_film 2023-01-27 11:54:21,429 [INFO] speos.postprocessing.postprocessor: Reading mouse knockout genes from ./data/mgi/bm_disorder_query.txt\n"
     ]
    },
    {
     "name": "stdout",
     "output_type": "stream",
     "text": [
      "GWAS candidate Genes: 1415\n",
      "Number of Background genes: 14709\n",
      "Number of unlabeled Background genes: 14586\n",
      "Number of unlabeled valid GWAS genes: 1388\n",
      "Number of unlabeled Mouse Genes genes: 1812\n"
     ]
    },
    {
     "name": "stderr",
     "output_type": "stream",
     "text": [
      "cardiovascular_film 2023-01-27 11:54:21,729 [INFO] speos.postprocessing.postprocessor: Reading mouse knockout genes from ./data/mgi/background.txt\n",
      "cardiovascular_film 2023-01-27 11:54:22,170 [INFO] speos.postprocessing.postprocessor: Reading mouse knockout genes from ./data/mgi/bm_disorder_query.txt\n",
      "cardiovascular_film 2023-01-27 11:54:22,382 [INFO] speos.postprocessing.postprocessor: Reading mouse knockout genes from ./data/mgi/bm_disorder_query.txt\n"
     ]
    },
    {
     "name": "stdout",
     "output_type": "stream",
     "text": [
      "GWAS candidate Genes: 1399\n",
      "Number of Background genes: 14715\n",
      "Number of unlabeled Background genes: 14541\n",
      "Number of unlabeled valid GWAS genes: 1371\n",
      "Number of unlabeled Mouse Genes genes: 719\n"
     ]
    },
    {
     "name": "stderr",
     "output_type": "stream",
     "text": [
      "cardiovascular_film 2023-01-27 11:54:22,712 [INFO] speos.postprocessing.postprocessor: Reading mouse knockout genes from ./data/mgi/background.txt\n",
      "cardiovascular_film 2023-01-27 11:54:23,148 [INFO] speos.postprocessing.postprocessor: Reading mouse knockout genes from ./data/mgi/diabetes_query.txt\n",
      "cardiovascular_film 2023-01-27 11:54:23,330 [INFO] speos.postprocessing.postprocessor: Reading mouse knockout genes from ./data/mgi/diabetes_query.txt\n"
     ]
    },
    {
     "name": "stdout",
     "output_type": "stream",
     "text": [
      "GWAS candidate Genes: 1399\n",
      "Number of Background genes: 14715\n",
      "Number of unlabeled Background genes: 14541\n",
      "Number of unlabeled valid GWAS genes: 1371\n",
      "Number of unlabeled Mouse Genes genes: 719\n"
     ]
    },
    {
     "name": "stderr",
     "output_type": "stream",
     "text": [
      "cardiovascular_film 2023-01-27 11:54:23,592 [INFO] speos.postprocessing.postprocessor: Reading mouse knockout genes from ./data/mgi/background.txt\n",
      "cardiovascular_film 2023-01-27 11:54:24,023 [INFO] speos.postprocessing.postprocessor: Reading mouse knockout genes from ./data/mgi/diabetes_query.txt\n",
      "cardiovascular_film 2023-01-27 11:54:24,219 [INFO] speos.postprocessing.postprocessor: Reading mouse knockout genes from ./data/mgi/diabetes_query.txt\n"
     ]
    },
    {
     "name": "stdout",
     "output_type": "stream",
     "text": [
      "GWAS candidate Genes: 1399\n",
      "Number of Background genes: 14715\n",
      "Number of unlabeled Background genes: 14541\n",
      "Number of unlabeled valid GWAS genes: 1371\n",
      "Number of unlabeled Mouse Genes genes: 719\n"
     ]
    },
    {
     "name": "stderr",
     "output_type": "stream",
     "text": [
      "cardiovascular_film 2023-01-27 11:54:24,488 [INFO] speos.postprocessing.postprocessor: Reading mouse knockout genes from ./data/mgi/background.txt\n",
      "cardiovascular_film 2023-01-27 11:54:25,014 [INFO] speos.postprocessing.postprocessor: Reading mouse knockout genes from ./data/mgi/diabetes_query.txt\n",
      "cardiovascular_film 2023-01-27 11:54:25,195 [INFO] speos.postprocessing.postprocessor: Reading mouse knockout genes from ./data/mgi/diabetes_query.txt\n"
     ]
    },
    {
     "name": "stdout",
     "output_type": "stream",
     "text": [
      "GWAS candidate Genes: 1399\n",
      "Number of Background genes: 14715\n",
      "Number of unlabeled Background genes: 14541\n",
      "Number of unlabeled valid GWAS genes: 1371\n",
      "Number of unlabeled Mouse Genes genes: 719\n"
     ]
    },
    {
     "name": "stderr",
     "output_type": "stream",
     "text": [
      "cardiovascular_film 2023-01-27 11:54:25,467 [INFO] speos.postprocessing.postprocessor: Reading mouse knockout genes from ./data/mgi/background.txt\n",
      "cardiovascular_film 2023-01-27 11:54:25,904 [INFO] speos.postprocessing.postprocessor: Reading mouse knockout genes from ./data/mgi/diabetes_query.txt\n",
      "cardiovascular_film 2023-01-27 11:54:26,036 [INFO] speos.postprocessing.postprocessor: Reading mouse knockout genes from ./data/mgi/diabetes_query.txt\n"
     ]
    },
    {
     "name": "stdout",
     "output_type": "stream",
     "text": [
      "GWAS candidate Genes: 1399\n",
      "Number of Background genes: 14715\n",
      "Number of unlabeled Background genes: 14541\n",
      "Number of unlabeled valid GWAS genes: 1371\n",
      "Number of unlabeled Mouse Genes genes: 719\n"
     ]
    },
    {
     "name": "stderr",
     "output_type": "stream",
     "text": [
      "cardiovascular_film 2023-01-27 11:54:26,310 [INFO] speos.postprocessing.postprocessor: Reading mouse knockout genes from ./data/mgi/background.txt\n",
      "cardiovascular_film 2023-01-27 11:54:26,743 [INFO] speos.postprocessing.postprocessor: Reading mouse knockout genes from ./data/mgi/diabetes_query.txt\n",
      "cardiovascular_film 2023-01-27 11:54:26,921 [INFO] speos.postprocessing.postprocessor: Reading mouse knockout genes from ./data/mgi/diabetes_query.txt\n"
     ]
    },
    {
     "name": "stdout",
     "output_type": "stream",
     "text": [
      "GWAS candidate Genes: 289\n",
      "Number of Background genes: 14712\n",
      "Number of unlabeled Background genes: 14123\n",
      "Number of unlabeled valid GWAS genes: 264\n",
      "Number of unlabeled Mouse Genes genes: 535\n"
     ]
    },
    {
     "name": "stderr",
     "output_type": "stream",
     "text": [
      "cardiovascular_film 2023-01-27 11:54:27,228 [INFO] speos.postprocessing.postprocessor: Reading mouse knockout genes from ./data/mgi/background.txt\n",
      "cardiovascular_film 2023-01-27 11:54:27,677 [INFO] speos.postprocessing.postprocessor: Reading mouse knockout genes from ./data/mgi/insulin_query.txt\n",
      "cardiovascular_film 2023-01-27 11:54:27,929 [INFO] speos.postprocessing.postprocessor: Reading mouse knockout genes from ./data/mgi/insulin_query.txt\n"
     ]
    },
    {
     "name": "stdout",
     "output_type": "stream",
     "text": [
      "GWAS candidate Genes: 289\n",
      "Number of Background genes: 14712\n",
      "Number of unlabeled Background genes: 14123\n",
      "Number of unlabeled valid GWAS genes: 264\n",
      "Number of unlabeled Mouse Genes genes: 535\n"
     ]
    },
    {
     "name": "stderr",
     "output_type": "stream",
     "text": [
      "cardiovascular_film 2023-01-27 11:54:28,210 [INFO] speos.postprocessing.postprocessor: Reading mouse knockout genes from ./data/mgi/background.txt\n",
      "cardiovascular_film 2023-01-27 11:54:28,724 [INFO] speos.postprocessing.postprocessor: Reading mouse knockout genes from ./data/mgi/insulin_query.txt\n",
      "cardiovascular_film 2023-01-27 11:54:28,912 [INFO] speos.postprocessing.postprocessor: Reading mouse knockout genes from ./data/mgi/insulin_query.txt\n"
     ]
    },
    {
     "name": "stdout",
     "output_type": "stream",
     "text": [
      "GWAS candidate Genes: 289\n",
      "Number of Background genes: 14712\n",
      "Number of unlabeled Background genes: 14123\n",
      "Number of unlabeled valid GWAS genes: 264\n",
      "Number of unlabeled Mouse Genes genes: 535\n"
     ]
    },
    {
     "name": "stderr",
     "output_type": "stream",
     "text": [
      "cardiovascular_film 2023-01-27 11:54:29,270 [INFO] speos.postprocessing.postprocessor: Reading mouse knockout genes from ./data/mgi/background.txt\n",
      "cardiovascular_film 2023-01-27 11:54:29,700 [INFO] speos.postprocessing.postprocessor: Reading mouse knockout genes from ./data/mgi/insulin_query.txt\n",
      "cardiovascular_film 2023-01-27 11:54:29,890 [INFO] speos.postprocessing.postprocessor: Reading mouse knockout genes from ./data/mgi/insulin_query.txt\n"
     ]
    },
    {
     "name": "stdout",
     "output_type": "stream",
     "text": [
      "GWAS candidate Genes: 289\n",
      "Number of Background genes: 14712\n",
      "Number of unlabeled Background genes: 14123\n",
      "Number of unlabeled valid GWAS genes: 264\n",
      "Number of unlabeled Mouse Genes genes: 535\n"
     ]
    },
    {
     "name": "stderr",
     "output_type": "stream",
     "text": [
      "cardiovascular_film 2023-01-27 11:54:30,122 [INFO] speos.postprocessing.postprocessor: Reading mouse knockout genes from ./data/mgi/background.txt\n",
      "cardiovascular_film 2023-01-27 11:54:30,547 [INFO] speos.postprocessing.postprocessor: Reading mouse knockout genes from ./data/mgi/insulin_query.txt\n",
      "cardiovascular_film 2023-01-27 11:54:30,713 [INFO] speos.postprocessing.postprocessor: Reading mouse knockout genes from ./data/mgi/insulin_query.txt\n"
     ]
    },
    {
     "name": "stdout",
     "output_type": "stream",
     "text": [
      "GWAS candidate Genes: 289\n",
      "Number of Background genes: 14712\n",
      "Number of unlabeled Background genes: 14123\n",
      "Number of unlabeled valid GWAS genes: 264\n",
      "Number of unlabeled Mouse Genes genes: 535\n",
      "56\n",
      "56\n",
      "65\n",
      "65\n",
      "60\n",
      "60\n",
      "44\n",
      "44\n",
      "60\n",
      "60\n"
     ]
    },
    {
     "data": {
      "image/png": "[encoded data removed]",
      "text/plain": [
       "<Figure size 510.236x340.157 with 39 Axes>"
      ]
     },
     "metadata": {
      "needs_background": "light"
     },
     "output_type": "display_data"
    }
   ],
   "source": [
    "import matplotlib.pyplot as plt\n",
    "from matplotlib.lines import Line2D\n",
    "from matplotlib.patches import Patch\n",
    "import pandas as pd\n",
    "from speos.visualization.settings import *\n",
    "import matplotlib.pyplot as plt\n",
    "\n",
    "def get_mighty_keys(n, results):\n",
    "    mighty_keys = []\n",
    "    for key, value in results[0].items():\n",
    "        if key != \"Total\" and value > n:\n",
    "            mighty_keys.append(key)\n",
    "    return mighty_keys\n",
    "\n",
    "def get_OR(n, superset, results, setB):\n",
    "    from scipy.stats import fisher_exact\n",
    "    try:\n",
    "        results = set(get_mighty_keys(n,results))\n",
    "    except TypeError:\n",
    "        results = set(results)\n",
    "\n",
    "    array = pp.make_contingency_table(superset,results,setB)\n",
    "\n",
    "    odds_ratio, pval = fisher_exact(array)\n",
    "\n",
    "    return odds_ratio, pval, array\n",
    "\n",
    "import numpy as np\n",
    "from statsmodels.stats.multitest import fdrcorrection as fdr\n",
    "\n",
    "background = None\n",
    "\n",
    "phenotypes = [\"Cardiovascular Disease\", \"Immune Dysregulation\", \"Body Mass Disorders\", \"Diabetes\", \"Insulin Disorders\"]\n",
    "methods = [\"film\", \"tag\", \"gcn\", \"n2vmlp\", \"mlp\"]\n",
    "pretty_methods = [\"FiLM\", \"TAG\", \"GCN\", \"N2V+MLP\", \"MLP\"]\n",
    "\n",
    "tick_size = small_font\n",
    "label_size = medium_font\n",
    "title_size = medium_font\n",
    "\n",
    "crimson = \"#6f0000\"\n",
    "navy = \"#02055a\"\n",
    "jungle = \"#1e5631\"\n",
    "tan = \"#c24e00\"\n",
    "petrol = \"#005f6a\"\n",
    "grey = \"#bbbbbb\"\n",
    "lightgrey = \"#dddddd\"\n",
    "width_ratios = [10, 1]*2\n",
    "marker_size = 4\n",
    "\n",
    "\n",
    "colors_ = [crimson, jungle, tan, navy, petrol]\n",
    "markers = [\"^\", \"v\", \"o\", \"s\", \"p\"]\n",
    "min_strength = 1000\n",
    "\n",
    "outer_dfs_list = []\n",
    "for frame_idx, (phenotype, color) in enumerate(zip(phenotypes, colors_)):\n",
    "    if frame_idx == 5:\n",
    "        break\n",
    "    dfs = []\n",
    "    for pretty_method, method, marker in zip(pretty_methods, methods, markers):\n",
    "        _columns= [\"Method\", \"CS/Mendelian\", \"N Candidate/Mendelian and MKO\", \"N Candidate/Mendelian not MKO\", \"N Not Candidate/Mendelian and MKO\", \"N Not Candidate/Mendelian Not MKO\", \"OR\", \"pval unadjusted\", \"pval adjusted (FDR)\"]\n",
    "        df = pd.DataFrame(data=np.empty((12, len(_columns))), columns=_columns)\n",
    "        if method in [\"gcn\", \"mlp\", \"n2vmlp\"] and phenotype == \"Immune Dysregulation\":\n",
    "            method += \"_new\"\n",
    "        \n",
    "        if method == \"film\" and phenotype == \"Immune Dysregulation\":\n",
    "            method += \"_forreal\"\n",
    "    \n",
    "        config_paths = {\"Insulin Disorders\": \"configs/config_insulin_disorder_{}.yaml\".format(method),\n",
    "                        \"Diabetes\": \"configs/config_diabetes_{}.yaml\".format(method),\n",
    "                        \"Body Mass Disorders\": \"configs/config_bm_disorder_{}.yaml\".format(method),\n",
    "                        \"Cardiovascular Disease\": \"configs/config_cardiovascular_{}.yaml\".format(method),\n",
    "                        \"Immune Dysregulation\": \"configs/config_immune_dysregulation_{}.yaml\".format(method)}\n",
    "        \n",
    "        #if method == \"film\" and phenotype == \"Immune Dysregulation\":\n",
    "        #    config_paths[phenotype] = \"configs/config_immune_dysregulation_{}_forreal.yaml\".format(method)\n",
    "\n",
    "        config = Config()\n",
    "        config.parse_yaml(config_paths[phenotype])\n",
    "\n",
    "        pp = PostProcessor(config)\n",
    "\n",
    "        import json\n",
    "        \n",
    "        gwas_outer_results_paths = {\"Insulin Disorders\": \"/home/icb/florin.ratajczak/ppi-core-genes/data/mapped_genes/closest/insulin_disorder_outer_results.json\",\n",
    "                        \"Diabetes\": \"/home/icb/florin.ratajczak/ppi-core-genes/data/mapped_genes/closest/diabetes_outer_results.json\",\n",
    "                        \"Body Mass Disorders\": \"/home/icb/florin.ratajczak/ppi-core-genes/data/mapped_genes/closest/bm_disorder_outer_results.json\",\n",
    "                        \"Cardiovascular Disease\": \"/home/icb/florin.ratajczak/ppi-core-genes/data/mapped_genes/closest/cardiovascular_disease_outer_results.json\",\n",
    "                        \"Immune Dysregulation\": \"/home/icb/florin.ratajczak/ppi-core-genes/data/mapped_genes/closest/immune_dysregulation_outer_results.json\"}\n",
    "\n",
    "        with open(gwas_outer_results_paths[phenotype], \"r\") as file:\n",
    "            gwas_results = json.load(file)\n",
    "\n",
    "        gwas_genes = set(gwas_results[0].keys())\n",
    "        print(\"GWAS candidate Genes: {}\".format(len(gwas_genes)))\n",
    "        unknown_genes, all_genes, positive_genes = pp.get_unknown_genes(pp.results_paths[0][0])\n",
    "        background = set(pp.get_mouse_knockout_background())\n",
    "        valid_background = background.intersection(all_genes)\n",
    "        print(\"Number of Background genes: {}\".format(len(valid_background)))\n",
    "        valid_unlabeled_background = valid_background.intersection(unknown_genes)\n",
    "        print(\"Number of unlabeled Background genes: {}\".format(len(valid_unlabeled_background)))\n",
    "        valid_gwas_genes = gwas_genes.intersection(unknown_genes)\n",
    "        #valid_gwas_genes = gwas_genes\n",
    "        print(\"Number of unlabeled valid GWAS genes: {}\".format(len(valid_gwas_genes)))\n",
    "        mousegenes = set(pp.get_mouse_knockout_genes())\n",
    "        valid_mousegenes = pp.return_only_valid(mousegenes, valid_background)\n",
    "        valid_unlabeled_mousegenes = pp.return_only_valid(mousegenes, valid_unlabeled_background)\n",
    "        print(\"Number of unlabeled Mouse Genes genes: {}\".format(len(valid_unlabeled_mousegenes)))\n",
    "        \n",
    "        gwas_odds_ratio, gwas_pval, array = get_OR(1, valid_background, valid_gwas_genes, valid_mousegenes)\n",
    "\n",
    "        df.loc[0, :] = [\"-\", \"GWAS\", array[0][0], array[1][0], array[0][1], array[1][1], gwas_odds_ratio, gwas_pval, None]\n",
    "\n",
    "        outer_results_paths = {\"Insulin Disorders\": \"/lustre/groups/epigenereg01/projects/ppi-florin/results/insulin_disorder_{}outer_results.json\".format(method),\n",
    "                        \"Diabetes\": \"/lustre/groups/epigenereg01/projects/ppi-florin/results/diabetes_{}outer_results.json\".format(method),\n",
    "                        \"Body Mass Disorders\": \"/lustre/groups/epigenereg01/projects/ppi-florin/results/bm_disorder_{}outer_results.json\".format(method),\n",
    "                        \"Cardiovascular Disease\": \"/lustre/groups/epigenereg01/projects/ppi-florin/results/cardiovascular_{}outer_results.json\".format(method),\n",
    "                        \"Immune Dysregulation\": \"/lustre/groups/epigenereg01/projects/ppi-florin/results/immune_dysregulation_{}outer_results.json\".format(method)}\n",
    "\n",
    "        \n",
    "        #outer_results_paths[phenotype] = \"/lustre/groups/epigenereg01/projects/ppi-florin/results/immune_dysregulation_{}_forrealouter_results.json\".format(method)\n",
    "        \n",
    "\n",
    "        with open(outer_results_paths[phenotype], \"r\") as file:\n",
    "            results = json.load(file)\n",
    "\n",
    "        unknown_genes, all_genes, positive_genes = pp.get_unknown_genes(pp.results_paths[0][0])\n",
    "        if background is None:\n",
    "            background = set(pp.get_mouse_knockout_background())\n",
    "        valid_background = background.intersection(all_genes)\n",
    "        valid_unlabeled_background = valid_background.intersection(unknown_genes)\n",
    "                \n",
    "        mousegenes = set(pp.get_mouse_knockout_genes())\n",
    "        valid_mousegenes = pp.return_only_valid(mousegenes, valid_background)\n",
    "        valid_unlabeled_mousegenes = pp.return_only_valid(mousegenes, valid_unlabeled_background)\n",
    "        \n",
    "        #print(\"{} {}: {} positives\".format(phenotype, method, len(positive_genes)))\n",
    "        groups = []\n",
    "        ors = []\n",
    "        pvals = []\n",
    "        strengths = []\n",
    "        n_candidates_and_mko = []\n",
    "        n_candidates_not_mko = []\n",
    "        n_not_candidates_and_mko = []\n",
    "        n_not_candidates_not_mko = []\n",
    "\n",
    "        for i in range(11):\n",
    "            group = \">= {}\".format(i + 1)\n",
    "            groups.append(group)\n",
    "            odds_ratio, pval, array = get_OR(i, valid_unlabeled_background, results, valid_unlabeled_mousegenes)\n",
    "            ors.append(odds_ratio)\n",
    "            pvals.append(pval)\n",
    "            strength = len(get_mighty_keys(i, results))\n",
    "            strengths.append(strength)\n",
    "            df.loc[i + 1, :] = [pretty_method, \"CS \"+ group, array[0][0], array[1][0], array[0][1], array[1][1], odds_ratio, pval, None]\n",
    "            #print(\"{}: {}, p: {:.2e}, n: {}\".format(group, odds_ratio, pval, strength))\n",
    "\n",
    "        min_strength = np.min(strengths) if np.min(strengths) < min_strength else min_strength\n",
    "        m_odds_ratio, m_pval, array = get_OR(i, valid_background, set(positive_genes), valid_mousegenes)\n",
    "        m_strength = len(positive_genes)\n",
    "        #print(\"{}: {}, p: {:.2e}, n: {}\".format(group, odds_ratio, pval, strength))\n",
    "        df.loc[12, :] = [\"-\", \"Mendelian\", array[0][0], array[1][0], array[0][1], array[1][1], m_odds_ratio, m_pval, None]\n",
    "\n",
    "        if phenotype == \"Cardiovascular Disease\" and method == \"tag\":\n",
    "            cvd_strengths = strengths\n",
    "            cvd_ors = ors\n",
    "            cvd_mendelian_strength = m_strength\n",
    "            cvd_mendelian_ors = m_odds_ratio\n",
    "\n",
    "        \n",
    "        dfs.append(df)\n",
    "    \n",
    "    dfs = pd.concat(dfs)\n",
    "    \n",
    "    for column in dfs.columns:\n",
    "        if \"OR\" in column:\n",
    "            dfs[column] = dfs[column].round(3)\n",
    "        if \"N \" in column:\n",
    "            dfs[column] = dfs[column].astype(int)\n",
    "    outer_dfs_list.append(dfs)\n",
    "\n",
    "pvals = []\n",
    "for df in outer_dfs_list:\n",
    "    pvals.extend(df[\"pval unadjusted\"].tolist())\n",
    "\n",
    "\n",
    "adj_pvals = fdr(pvals)[1]\n",
    "\n",
    "for df, adj_pval_one_df, phenotype in zip(outer_dfs_list, np.array_split(adj_pvals, len(outer_dfs_list)), phenotypes):\n",
    "    print((adj_pval_one_df < 0.05).sum())\n",
    "    df[\"pval adjusted (FDR)\"] = adj_pval_one_df\n",
    "    print((df[\"pval adjusted (FDR)\"] < 0.05).sum())\n",
    "    df.to_csv(\"statistical_dump/{}_ors_mko_gwas.tsv\".format(phenotype), sep=\"\\t\", index=False)\n",
    "\n",
    "fig, axes = plt.subplots(figsize=(full_width*cm,12*cm), nrows=2, ncols=12, sharey=False, gridspec_kw={'width_ratios': [1, 11, 1, 3, 1, 11, 1, 3, 1, 11, 1, 0.1]})\n",
    "axes = axes.flatten()\n",
    "\n",
    "for frame_idx, (phenotype, color, (ax0, ax1, ax3, invis_ax), df) in enumerate(zip(phenotypes + [\"None\"], colors_ + [\"None\"], np.array_split(axes, 6), outer_dfs_list + [\"None\"])):\n",
    "    if frame_idx == 5:\n",
    "        ax0.axis(\"off\")\n",
    "        ax1.axis(\"off\")\n",
    "        ax3.axis(\"off\")\n",
    "        invis_ax.axis(\"off\")\n",
    "        handles = [Line2D([0], [0], color=\"black\", marker=marker, markersize=marker_size, label=label + \" OR\") for marker, label in zip(markers, pretty_methods)]\n",
    "        handles.extend([Line2D([0], [0], color=grey, marker=marker, label=label + \" n\") for marker, label in zip(markers, pretty_methods)])\n",
    "        #handles.extend([Patch(facecolor=color, edgecolor='black', label=label) for color, label in zip(colors_, phenotypes)])\n",
    "        #handles.append([Line2D([0], [0], color=color, marker=\"s\", label=label) for label in phenotypes])\n",
    "        leg = ax1.legend(handles=handles, loc='center', fontsize=label_size, labelspacing=0.5, borderpad=1)\n",
    "        bb = leg.get_bbox_to_anchor().transformed(ax1.transAxes.inverted())\n",
    "\n",
    "        # Change to location of the legend. \n",
    "        yOffset = -0.06\n",
    "        bb.y0 += yOffset\n",
    "        bb.y1 += yOffset\n",
    "        leg.set_bbox_to_anchor(bb, transform = ax1.transAxes)\n",
    "        break\n",
    "\n",
    "    axG = ax0.twinx()\n",
    "    ax2 = ax1.twinx()\n",
    "    ax4 = ax3.twinx()\n",
    "    handles = []\n",
    "    min_strength = 1000\n",
    "    dfs = []\n",
    "    \n",
    "    start = 0\n",
    "    stride = 13\n",
    "\n",
    "    for method_idx, (pretty_method, method, marker) in enumerate(zip(pretty_methods, methods, markers)):\n",
    "        \n",
    "        method_df = df[start:start + stride]\n",
    "        start += stride\n",
    "        assert method_df[\"Method\"][1] == pretty_method\n",
    "\n",
    "        groups = method_df[\"CS/Mendelian\"][1:-1]\n",
    "        ors = method_df[\"OR\"]\n",
    "        adj_pvals = method_df[\"pval adjusted (FDR)\"]\n",
    "        strengths = np.asarray(method_df[\"N Candidate/Mendelian and MKO\"]) + np.asarray(method_df[\"N Candidate/Mendelian not MKO\"])\n",
    "        n_candidates_and_mko = method_df[\"N Candidate/Mendelian and MKO\"]\n",
    "        n_candidates_not_mko = method_df[\"N Candidate/Mendelian not MKO\"]\n",
    "        n_not_candidates_and_mko = method_df[\"N Not Candidate/Mendelian and MKO\"]\n",
    "        n_not_candidates_not_mko = method_df[\"N Not Candidate/Mendelian Not MKO\"]\n",
    "\n",
    "        xind = np.asarray((range(stride)))\n",
    "        width = 0.8\n",
    "\n",
    "        # plot set strengths\n",
    "        is_positive = np.asarray(strengths[-1]) > 0\n",
    "        draw_xind = np.asarray(xind[1:-1])[is_positive]\n",
    "        draw_strengths = np.asarray(strengths[1:-1])[is_positive]\n",
    "        ax1.plot(draw_xind[0], draw_strengths[0], color=grey, zorder=1, marker=marker, ms=marker_size-1, linewidth=0.5)\n",
    "        ax1.set_axisbelow(True)\n",
    "        ax3.bar(1-(width/2), height=strengths[-1], width=width, color=grey, zorder=1)\n",
    "        ax3.set_axisbelow(True)\n",
    "        ax0.bar(1-(width/2), height=strengths[0], width=width, color=grey, zorder=1)\n",
    "        ax0.set_axisbelow(True)\n",
    "        \n",
    "        is_significant = np.asarray(adj_pvals[1:-1]) < 0.05\n",
    "        is_enough = np.asarray(strengths[1:-1]) > 0\n",
    "        use_only = is_significant & is_enough\n",
    "        draw_xind = np.asarray(xind[1:-1])[use_only]\n",
    "        draw_ors = np.asarray(ors[1:-1])[use_only]\n",
    "        handle, = ax2.plot(draw_xind, draw_ors, color=color, zorder=1, marker=marker, markeredgecolor=\"black\",markeredgewidth=0.5, ms=marker_size, label=method)\n",
    "        handles.append(handle)\n",
    "        ax4.bar(1+(width/2), height=ors.tolist()[-1], width=width, color=color, zorder=1)\n",
    "        ax4.set_axisbelow(True)\n",
    "        axG.bar(1+(width/2), height=ors.tolist()[0], width=width, color=color, zorder=1)\n",
    "        axG.set_axisbelow(True)\n",
    "        ax2.set_axisbelow(True)\n",
    "        ax2.set_xticks(xind)\n",
    "        ax2.set_xticklabels(xind.astype(np.uint8) + 1, size=small_font)\n",
    "        ax3.set_xticks([1])\n",
    "        ax3.set_xticklabels([\"M\"], size=label_size)\n",
    "        ax0.set_xticks([1])\n",
    "        ax0.set_xticklabels([\"G\"], size=label_size)\n",
    "        if frame_idx % 3 == 0:\n",
    "            ax0.set_ylabel(\"Number of Candidate Genes\", size=label_size)\n",
    "        elif frame_idx % 3 == 2:\n",
    "            ax4.set_ylabel(\"Odds Ratio\", size=label_size)\n",
    "        \n",
    "        if frame_idx == 4:\n",
    "            ax4.set_ylabel(\"Odds Ratio\", size=label_size)\n",
    "            \n",
    "        if frame_idx >= 2:\n",
    "            ax1.set_xlabel(\"Convergence Score (>=)\", size=label_size)\n",
    "\n",
    "        ax1.set_title(phenotype, y=1.05, x=0.5, pad=-14, size=title_size)\n",
    "        \n",
    "        \n",
    "    \n",
    "\n",
    "    _, candidate_max_strength = ax1.get_ylim()\n",
    "    _, mendelian_max_strength = ax3.get_ylim()\n",
    "    max_strength = np.max((candidate_max_strength, mendelian_max_strength))\n",
    "    max_strenth = 1000 if max_strength < 1000 else max_strength\n",
    "\n",
    "    min_strength = 1\n",
    "\n",
    "    ax0.set_yscale('log')\n",
    "    ax1.set_yscale('log')\n",
    "    ax3.set_yscale('log')\n",
    "    ax0.set_ylim((min_strength, max_strenth))\n",
    "    ax1.set_ylim((min_strength, max_strenth))\n",
    "    ax3.set_ylim((min_strength, max_strenth))\n",
    "    \n",
    "    candidate_max_or = ax2.get_ylim()[1]\n",
    "    mendelian_max_or = ax4.get_ylim()[1]\n",
    "    ax2.set_ylim((0, np.max((candidate_max_or, mendelian_max_or))))\n",
    "    ax4.set_ylim((0, np.max((candidate_max_or, mendelian_max_or))))\n",
    "    axG.set_ylim((0, np.max((candidate_max_or, mendelian_max_or))))\n",
    "\n",
    "    ax1.grid(True, which=\"major\", axis=\"y\", color=lightgrey)\n",
    "    ax1.grid(True,which=\"minor\", axis=\"y\", linestyle=\":\", color=lightgrey)\n",
    "    ax0.grid(True,which=\"major\", axis=\"y\", color=lightgrey)\n",
    "    ax0.grid(True,which=\"minor\", axis=\"y\", linestyle=\":\", color=lightgrey)\n",
    "    ax3.grid(True,which=\"major\", axis=\"y\", color=lightgrey)\n",
    "    ax3.grid(True,which=\"minor\", axis=\"y\", linestyle=\":\", color=lightgrey)\n",
    "\n",
    "    #ax1.set_yticks([], which=\"both\")\n",
    "    ax1.set_yticklabels([])\n",
    "    ax1.spines['left'].set_visible(False)\n",
    "    ax2.spines['left'].set_visible(False)\n",
    "    ax1.spines['right'].set_visible(False)\n",
    "    ax2.spines['right'].set_visible(False)\n",
    "    ax2.set_yticks([], which=\"both\")\n",
    "    for tick in ax1.yaxis.get_major_ticks():\n",
    "        tick.tick1line.set_visible(False)\n",
    "        tick.tick2line.set_visible(False)\n",
    "    for tick in ax1.yaxis.get_minor_ticks():\n",
    "        tick.tick1line.set_visible(False)\n",
    "        tick.tick2line.set_visible(False)\n",
    "    #ax1.set_yticks([], which=\"both\")\n",
    "    #ax1.set_yticks([], minor=True)\n",
    "    #ax3.set_yticks([], which=\"both\")\n",
    "    ax0.spines['left'].set_visible(False)\n",
    "    ax0.spines['right'].set_visible(False)\n",
    "    ax3.spines['left'].set_visible(False)\n",
    "    #ax3.set_yticks([], minor=True)\n",
    "    ax3.set_yticklabels([])\n",
    "    for tick in ax3.yaxis.get_major_ticks():\n",
    "        tick.tick1line.set_visible(False)\n",
    "        tick.tick2line.set_visible(False)\n",
    "    for tick in ax3.yaxis.get_minor_ticks():\n",
    "        tick.tick1line.set_visible(False)\n",
    "        tick.tick2line.set_visible(False)\n",
    "    ax4.spines['left'].set_visible(False)\n",
    "    #ax4.set_yticks([], which=\"left\")\n",
    "    axG.set_yticks([])\n",
    "    axG.spines['right'].set_visible(False)\n",
    "    ax0.tick_params(axis=\"y\", pad=0.5)\n",
    "    ax4.tick_params(axis=\"y\", pad=0.5)\n",
    "\n",
    "\n",
    "    ax1.set_xticks(range(1,12))\n",
    "    ax1.set_xticklabels([str(x) for x in range(1,12)])\n",
    "    ax1.tick_params(axis=\"x\", labelsize=label_size)\n",
    "    invis_ax.set_visible(False)\n",
    "\n",
    "fig.tight_layout()\n",
    "plt.subplots_adjust(wspace=0, hspace=0.1)\n",
    "plt.savefig(\"OR_all.svg\", bbox_inches='tight', dpi=400)"
   ]
  },
  {
   "attachments": {},
   "cell_type": "markdown",
   "metadata": {},
   "source": [
    "# With GWAS and with FiLM-Unbiased"
   ]
  },
  {
   "cell_type": "code",
   "execution_count": 8,
   "metadata": {},
   "outputs": [
    {
     "name": "stderr",
     "output_type": "stream",
     "text": [
      "cardiovascular_film 2023-01-27 11:57:08,354 [INFO] speos.postprocessing.postprocessor: Reading mouse knockout genes from ./data/mgi/background.txt\n",
      "cardiovascular_film 2023-01-27 11:57:08,804 [INFO] speos.postprocessing.postprocessor: Reading mouse knockout genes from ./data/mgi/cad_query.txt\n"
     ]
    },
    {
     "name": "stdout",
     "output_type": "stream",
     "text": [
      "GWAS candidate Genes: 2071\n",
      "Number of Background genes: 14680\n",
      "Number of unlabeled Background genes: 14116\n",
      "Number of unlabeled valid GWAS genes: 1941\n",
      "Number of unlabeled Mouse Genes genes: 517\n"
     ]
    },
    {
     "name": "stderr",
     "output_type": "stream",
     "text": [
      "cardiovascular_film 2023-01-27 11:57:31,156 [INFO] speos.postprocessing.postprocessor: Reading mouse knockout genes from ./data/mgi/background.txt\n",
      "cardiovascular_film 2023-01-27 11:57:31,626 [INFO] speos.postprocessing.postprocessor: Reading mouse knockout genes from ./data/mgi/cad_query.txt\n",
      "cardiovascular_film 2023-01-27 11:57:31,770 [INFO] speos.postprocessing.postprocessor: Reading mouse knockout genes from ./data/mgi/cad_query.txt\n"
     ]
    },
    {
     "name": "stdout",
     "output_type": "stream",
     "text": [
      "GWAS candidate Genes: 2071\n",
      "Number of Background genes: 14680\n",
      "Number of unlabeled Background genes: 14116\n",
      "Number of unlabeled valid GWAS genes: 1941\n",
      "Number of unlabeled Mouse Genes genes: 517\n"
     ]
    },
    {
     "name": "stderr",
     "output_type": "stream",
     "text": [
      "cardiovascular_film 2023-01-27 11:57:32,041 [INFO] speos.postprocessing.postprocessor: Reading mouse knockout genes from ./data/mgi/background.txt\n",
      "cardiovascular_film 2023-01-27 11:57:32,924 [INFO] speos.postprocessing.postprocessor: Reading mouse knockout genes from ./data/mgi/cad_query.txt\n",
      "cardiovascular_film 2023-01-27 11:57:33,086 [INFO] speos.postprocessing.postprocessor: Reading mouse knockout genes from ./data/mgi/cad_query.txt\n"
     ]
    },
    {
     "name": "stdout",
     "output_type": "stream",
     "text": [
      "GWAS candidate Genes: 2071\n"
     ]
    },
    {
     "name": "stderr",
     "output_type": "stream",
     "text": [
      "cardiovascular_film 2023-01-27 11:57:33,262 [INFO] speos.postprocessing.postprocessor: Reading mouse knockout genes from ./data/mgi/background.txt\n",
      "cardiovascular_film 2023-01-27 11:57:33,695 [INFO] speos.postprocessing.postprocessor: Reading mouse knockout genes from ./data/mgi/cad_query.txt\n",
      "cardiovascular_film 2023-01-27 11:57:33,827 [INFO] speos.postprocessing.postprocessor: Reading mouse knockout genes from ./data/mgi/cad_query.txt\n"
     ]
    },
    {
     "name": "stdout",
     "output_type": "stream",
     "text": [
      "Number of Background genes: 14680\n",
      "Number of unlabeled Background genes: 14116\n",
      "Number of unlabeled valid GWAS genes: 1941\n",
      "Number of unlabeled Mouse Genes genes: 517\n",
      "GWAS candidate Genes: 2071\n",
      "Number of Background genes: 14680\n",
      "Number of unlabeled Background genes: 14116\n",
      "Number of unlabeled valid GWAS genes: 1941\n",
      "Number of unlabeled Mouse Genes genes: 517\n"
     ]
    },
    {
     "name": "stderr",
     "output_type": "stream",
     "text": [
      "cardiovascular_film 2023-01-27 11:57:34,007 [INFO] speos.postprocessing.postprocessor: Reading mouse knockout genes from ./data/mgi/background.txt\n",
      "cardiovascular_film 2023-01-27 11:57:34,446 [INFO] speos.postprocessing.postprocessor: Reading mouse knockout genes from ./data/mgi/cad_query.txt\n",
      "cardiovascular_film 2023-01-27 11:57:34,582 [INFO] speos.postprocessing.postprocessor: Reading mouse knockout genes from ./data/mgi/cad_query.txt\n"
     ]
    },
    {
     "name": "stdout",
     "output_type": "stream",
     "text": [
      "GWAS candidate Genes: 2071\n",
      "Number of Background genes: 14680\n",
      "Number of unlabeled Background genes: 14116\n",
      "Number of unlabeled valid GWAS genes: 1941\n",
      "Number of unlabeled Mouse Genes genes: 517\n"
     ]
    },
    {
     "name": "stderr",
     "output_type": "stream",
     "text": [
      "cardiovascular_film 2023-01-27 11:57:34,779 [INFO] speos.postprocessing.postprocessor: Reading mouse knockout genes from ./data/mgi/background.txt\n",
      "cardiovascular_film 2023-01-27 11:57:35,239 [INFO] speos.postprocessing.postprocessor: Reading mouse knockout genes from ./data/mgi/cad_query.txt\n",
      "cardiovascular_film 2023-01-27 11:57:35,383 [INFO] speos.postprocessing.postprocessor: Reading mouse knockout genes from ./data/mgi/cad_query.txt\n"
     ]
    },
    {
     "name": "stdout",
     "output_type": "stream",
     "text": [
      "GWAS candidate Genes: 2071\n",
      "Number of Background genes: 14680\n",
      "Number of unlabeled Background genes: 14116\n",
      "Number of unlabeled valid GWAS genes: 1941\n",
      "Number of unlabeled Mouse Genes genes: 517\n"
     ]
    },
    {
     "name": "stderr",
     "output_type": "stream",
     "text": [
      "cardiovascular_film 2023-01-27 11:57:35,575 [INFO] speos.postprocessing.postprocessor: Reading mouse knockout genes from ./data/mgi/background.txt\n",
      "cardiovascular_film 2023-01-27 11:57:36,042 [INFO] speos.postprocessing.postprocessor: Reading mouse knockout genes from ./data/mgi/cad_query.txt\n",
      "cardiovascular_film 2023-01-27 11:57:36,184 [INFO] speos.postprocessing.postprocessor: Reading mouse knockout genes from ./data/mgi/cad_query.txt\n"
     ]
    },
    {
     "name": "stdout",
     "output_type": "stream",
     "text": [
      "GWAS candidate Genes: 405\n",
      "Number of Background genes: 14443\n",
      "Number of unlabeled Background genes: 13935\n",
      "Number of unlabeled valid GWAS genes: 353\n",
      "Number of unlabeled Mouse Genes genes: 1251\n"
     ]
    },
    {
     "name": "stderr",
     "output_type": "stream",
     "text": [
      "cardiovascular_film 2023-01-27 11:57:36,403 [INFO] speos.postprocessing.postprocessor: Reading mouse knockout genes from ./data/mgi/background.txt\n",
      "cardiovascular_film 2023-01-27 11:57:36,884 [INFO] speos.postprocessing.postprocessor: Reading mouse knockout genes from ./data/mgi/immune_dysreg_query.txt\n",
      "cardiovascular_film 2023-01-27 11:57:37,036 [INFO] speos.postprocessing.postprocessor: Reading mouse knockout genes from ./data/mgi/immune_dysreg_query.txt\n"
     ]
    },
    {
     "name": "stdout",
     "output_type": "stream",
     "text": [
      "GWAS candidate Genes: 405\n",
      "Number of Background genes: 14443\n",
      "Number of unlabeled Background genes: 13935\n",
      "Number of unlabeled valid GWAS genes: 353\n",
      "Number of unlabeled Mouse Genes genes: 1251\n"
     ]
    },
    {
     "name": "stderr",
     "output_type": "stream",
     "text": [
      "cardiovascular_film 2023-01-27 11:57:37,290 [INFO] speos.postprocessing.postprocessor: Reading mouse knockout genes from ./data/mgi/background.txt\n",
      "cardiovascular_film 2023-01-27 11:57:37,849 [INFO] speos.postprocessing.postprocessor: Reading mouse knockout genes from ./data/mgi/immune_dysreg_query.txt\n",
      "cardiovascular_film 2023-01-27 11:57:38,000 [INFO] speos.postprocessing.postprocessor: Reading mouse knockout genes from ./data/mgi/immune_dysreg_query.txt\n"
     ]
    },
    {
     "name": "stdout",
     "output_type": "stream",
     "text": [
      "GWAS candidate Genes: 405\n",
      "Number of Background genes: 14443\n",
      "Number of unlabeled Background genes: 13935\n",
      "Number of unlabeled valid GWAS genes: 353\n",
      "Number of unlabeled Mouse Genes genes: 1251\n"
     ]
    },
    {
     "name": "stderr",
     "output_type": "stream",
     "text": [
      "cardiovascular_film 2023-01-27 11:57:38,178 [INFO] speos.postprocessing.postprocessor: Reading mouse knockout genes from ./data/mgi/background.txt\n",
      "cardiovascular_film 2023-01-27 11:57:38,613 [INFO] speos.postprocessing.postprocessor: Reading mouse knockout genes from ./data/mgi/immune_dysreg_query.txt\n",
      "cardiovascular_film 2023-01-27 11:57:38,751 [INFO] speos.postprocessing.postprocessor: Reading mouse knockout genes from ./data/mgi/immune_dysreg_query.txt\n"
     ]
    },
    {
     "name": "stdout",
     "output_type": "stream",
     "text": [
      "GWAS candidate Genes: 405\n",
      "Number of Background genes: 14443\n",
      "Number of unlabeled Background genes: 13935\n",
      "Number of unlabeled valid GWAS genes: 353\n",
      "Number of unlabeled Mouse Genes genes: 1251\n"
     ]
    },
    {
     "name": "stderr",
     "output_type": "stream",
     "text": [
      "cardiovascular_film 2023-01-27 11:57:38,936 [INFO] speos.postprocessing.postprocessor: Reading mouse knockout genes from ./data/mgi/background.txt\n",
      "cardiovascular_film 2023-01-27 11:57:39,369 [INFO] speos.postprocessing.postprocessor: Reading mouse knockout genes from ./data/mgi/immune_dysreg_query.txt\n",
      "cardiovascular_film 2023-01-27 11:57:39,511 [INFO] speos.postprocessing.postprocessor: Reading mouse knockout genes from ./data/mgi/immune_dysreg_query.txt\n"
     ]
    },
    {
     "name": "stdout",
     "output_type": "stream",
     "text": [
      "GWAS candidate Genes: 405\n",
      "Number of Background genes: 14443\n",
      "Number of unlabeled Background genes: 13935\n",
      "Number of unlabeled valid GWAS genes: 353\n",
      "Number of unlabeled Mouse Genes genes: 1251\n"
     ]
    },
    {
     "name": "stderr",
     "output_type": "stream",
     "text": [
      "cardiovascular_film 2023-01-27 11:57:39,701 [INFO] speos.postprocessing.postprocessor: Reading mouse knockout genes from ./data/mgi/background.txt\n",
      "cardiovascular_film 2023-01-27 11:57:40,135 [INFO] speos.postprocessing.postprocessor: Reading mouse knockout genes from ./data/mgi/immune_dysreg_query.txt\n",
      "cardiovascular_film 2023-01-27 11:57:40,274 [INFO] speos.postprocessing.postprocessor: Reading mouse knockout genes from ./data/mgi/immune_dysreg_query.txt\n"
     ]
    },
    {
     "name": "stdout",
     "output_type": "stream",
     "text": [
      "GWAS candidate Genes: 405\n",
      "Number of Background genes: 14443\n",
      "Number of unlabeled Background genes: 13935\n",
      "Number of unlabeled valid GWAS genes: 353\n",
      "Number of unlabeled Mouse Genes genes: 1251\n"
     ]
    },
    {
     "name": "stderr",
     "output_type": "stream",
     "text": [
      "cardiovascular_film 2023-01-27 11:57:40,454 [INFO] speos.postprocessing.postprocessor: Reading mouse knockout genes from ./data/mgi/background.txt\n",
      "cardiovascular_film 2023-01-27 11:57:40,888 [INFO] speos.postprocessing.postprocessor: Reading mouse knockout genes from ./data/mgi/immune_dysreg_query.txt\n",
      "cardiovascular_film 2023-01-27 11:57:41,029 [INFO] speos.postprocessing.postprocessor: Reading mouse knockout genes from ./data/mgi/immune_dysreg_query.txt\n"
     ]
    },
    {
     "name": "stdout",
     "output_type": "stream",
     "text": [
      "GWAS candidate Genes: 1415\n",
      "Number of Background genes: 14709\n",
      "Number of unlabeled Background genes: 14586\n",
      "Number of unlabeled valid GWAS genes: 1388\n",
      "Number of unlabeled Mouse Genes genes: 1812\n"
     ]
    },
    {
     "name": "stderr",
     "output_type": "stream",
     "text": [
      "cardiovascular_film 2023-01-27 11:57:41,291 [INFO] speos.postprocessing.postprocessor: Reading mouse knockout genes from ./data/mgi/background.txt\n",
      "cardiovascular_film 2023-01-27 11:57:41,860 [INFO] speos.postprocessing.postprocessor: Reading mouse knockout genes from ./data/mgi/bm_disorder_query.txt\n",
      "cardiovascular_film 2023-01-27 11:57:42,003 [INFO] speos.postprocessing.postprocessor: Reading mouse knockout genes from ./data/mgi/bm_disorder_query.txt\n"
     ]
    },
    {
     "name": "stdout",
     "output_type": "stream",
     "text": [
      "GWAS candidate Genes: 1415\n",
      "Number of Background genes: 14709\n",
      "Number of unlabeled Background genes: 14586\n",
      "Number of unlabeled valid GWAS genes: 1388\n",
      "Number of unlabeled Mouse Genes genes: 1812\n"
     ]
    },
    {
     "name": "stderr",
     "output_type": "stream",
     "text": [
      "cardiovascular_film 2023-01-27 11:57:42,268 [INFO] speos.postprocessing.postprocessor: Reading mouse knockout genes from ./data/mgi/background.txt\n",
      "cardiovascular_film 2023-01-27 11:57:42,703 [INFO] speos.postprocessing.postprocessor: Reading mouse knockout genes from ./data/mgi/bm_disorder_query.txt\n",
      "cardiovascular_film 2023-01-27 11:57:42,891 [INFO] speos.postprocessing.postprocessor: Reading mouse knockout genes from ./data/mgi/bm_disorder_query.txt\n"
     ]
    },
    {
     "name": "stdout",
     "output_type": "stream",
     "text": [
      "GWAS candidate Genes: 1415\n",
      "Number of Background genes: 14709\n",
      "Number of unlabeled Background genes: 14586\n",
      "Number of unlabeled valid GWAS genes: 1388\n",
      "Number of unlabeled Mouse Genes genes: 1812\n"
     ]
    },
    {
     "name": "stderr",
     "output_type": "stream",
     "text": [
      "cardiovascular_film 2023-01-27 11:57:43,118 [INFO] speos.postprocessing.postprocessor: Reading mouse knockout genes from ./data/mgi/background.txt\n",
      "cardiovascular_film 2023-01-27 11:57:43,546 [INFO] speos.postprocessing.postprocessor: Reading mouse knockout genes from ./data/mgi/bm_disorder_query.txt\n",
      "cardiovascular_film 2023-01-27 11:57:43,694 [INFO] speos.postprocessing.postprocessor: Reading mouse knockout genes from ./data/mgi/bm_disorder_query.txt\n"
     ]
    },
    {
     "name": "stdout",
     "output_type": "stream",
     "text": [
      "GWAS candidate Genes: 1415\n",
      "Number of Background genes: 14709\n",
      "Number of unlabeled Background genes: 14586\n",
      "Number of unlabeled valid GWAS genes: 1388\n",
      "Number of unlabeled Mouse Genes genes: 1812\n"
     ]
    },
    {
     "name": "stderr",
     "output_type": "stream",
     "text": [
      "cardiovascular_film 2023-01-27 11:57:43,912 [INFO] speos.postprocessing.postprocessor: Reading mouse knockout genes from ./data/mgi/background.txt\n",
      "cardiovascular_film 2023-01-27 11:57:44,344 [INFO] speos.postprocessing.postprocessor: Reading mouse knockout genes from ./data/mgi/bm_disorder_query.txt\n",
      "cardiovascular_film 2023-01-27 11:57:44,492 [INFO] speos.postprocessing.postprocessor: Reading mouse knockout genes from ./data/mgi/bm_disorder_query.txt\n"
     ]
    },
    {
     "name": "stdout",
     "output_type": "stream",
     "text": [
      "GWAS candidate Genes: 1415\n",
      "Number of Background genes: 14709\n",
      "Number of unlabeled Background genes: 14586\n",
      "Number of unlabeled valid GWAS genes: 1388\n",
      "Number of unlabeled Mouse Genes genes: 1812\n"
     ]
    },
    {
     "name": "stderr",
     "output_type": "stream",
     "text": [
      "cardiovascular_film 2023-01-27 11:57:44,698 [INFO] speos.postprocessing.postprocessor: Reading mouse knockout genes from ./data/mgi/background.txt\n",
      "cardiovascular_film 2023-01-27 11:57:45,129 [INFO] speos.postprocessing.postprocessor: Reading mouse knockout genes from ./data/mgi/bm_disorder_query.txt\n",
      "cardiovascular_film 2023-01-27 11:57:45,274 [INFO] speos.postprocessing.postprocessor: Reading mouse knockout genes from ./data/mgi/bm_disorder_query.txt\n"
     ]
    },
    {
     "name": "stdout",
     "output_type": "stream",
     "text": [
      "GWAS candidate Genes: 1415\n",
      "Number of Background genes: 14709\n",
      "Number of unlabeled Background genes: 14586\n",
      "Number of unlabeled valid GWAS genes: 1388\n",
      "Number of unlabeled Mouse Genes genes: 1812\n"
     ]
    },
    {
     "name": "stderr",
     "output_type": "stream",
     "text": [
      "cardiovascular_film 2023-01-27 11:57:45,493 [INFO] speos.postprocessing.postprocessor: Reading mouse knockout genes from ./data/mgi/background.txt\n",
      "cardiovascular_film 2023-01-27 11:57:45,928 [INFO] speos.postprocessing.postprocessor: Reading mouse knockout genes from ./data/mgi/bm_disorder_query.txt\n",
      "cardiovascular_film 2023-01-27 11:57:46,077 [INFO] speos.postprocessing.postprocessor: Reading mouse knockout genes from ./data/mgi/bm_disorder_query.txt\n"
     ]
    },
    {
     "name": "stdout",
     "output_type": "stream",
     "text": [
      "GWAS candidate Genes: 1399\n",
      "Number of Background genes: 14715\n",
      "Number of unlabeled Background genes: 14541\n",
      "Number of unlabeled valid GWAS genes: 1371\n",
      "Number of unlabeled Mouse Genes genes: 719\n"
     ]
    },
    {
     "name": "stderr",
     "output_type": "stream",
     "text": [
      "cardiovascular_film 2023-01-27 11:57:46,334 [INFO] speos.postprocessing.postprocessor: Reading mouse knockout genes from ./data/mgi/background.txt\n",
      "cardiovascular_film 2023-01-27 11:57:46,891 [INFO] speos.postprocessing.postprocessor: Reading mouse knockout genes from ./data/mgi/diabetes_query.txt\n",
      "cardiovascular_film 2023-01-27 11:57:47,021 [INFO] speos.postprocessing.postprocessor: Reading mouse knockout genes from ./data/mgi/diabetes_query.txt\n"
     ]
    },
    {
     "name": "stdout",
     "output_type": "stream",
     "text": [
      "GWAS candidate Genes: 1399\n",
      "Number of Background genes: 14715\n",
      "Number of unlabeled Background genes: 14541\n",
      "Number of unlabeled valid GWAS genes: 1371\n",
      "Number of unlabeled Mouse Genes genes: 719\n"
     ]
    },
    {
     "name": "stderr",
     "output_type": "stream",
     "text": [
      "cardiovascular_film 2023-01-27 11:57:47,264 [INFO] speos.postprocessing.postprocessor: Reading mouse knockout genes from ./data/mgi/background.txt\n",
      "cardiovascular_film 2023-01-27 11:57:47,699 [INFO] speos.postprocessing.postprocessor: Reading mouse knockout genes from ./data/mgi/diabetes_query.txt\n",
      "cardiovascular_film 2023-01-27 11:57:47,852 [INFO] speos.postprocessing.postprocessor: Reading mouse knockout genes from ./data/mgi/diabetes_query.txt\n"
     ]
    },
    {
     "name": "stdout",
     "output_type": "stream",
     "text": [
      "GWAS candidate Genes: 1399\n",
      "Number of Background genes: 14715\n",
      "Number of unlabeled Background genes: 14541\n",
      "Number of unlabeled valid GWAS genes: 1371\n",
      "Number of unlabeled Mouse Genes genes: 719\n"
     ]
    },
    {
     "name": "stderr",
     "output_type": "stream",
     "text": [
      "cardiovascular_film 2023-01-27 11:57:48,042 [INFO] speos.postprocessing.postprocessor: Reading mouse knockout genes from ./data/mgi/background.txt\n",
      "cardiovascular_film 2023-01-27 11:57:48,494 [INFO] speos.postprocessing.postprocessor: Reading mouse knockout genes from ./data/mgi/diabetes_query.txt\n",
      "cardiovascular_film 2023-01-27 11:57:48,631 [INFO] speos.postprocessing.postprocessor: Reading mouse knockout genes from ./data/mgi/diabetes_query.txt\n"
     ]
    },
    {
     "name": "stdout",
     "output_type": "stream",
     "text": [
      "GWAS candidate Genes: 1399\n",
      "Number of Background genes: 14715\n",
      "Number of unlabeled Background genes: 14541\n",
      "Number of unlabeled valid GWAS genes: 1371\n",
      "Number of unlabeled Mouse Genes genes: 719\n"
     ]
    },
    {
     "name": "stderr",
     "output_type": "stream",
     "text": [
      "cardiovascular_film 2023-01-27 11:57:48,822 [INFO] speos.postprocessing.postprocessor: Reading mouse knockout genes from ./data/mgi/background.txt\n",
      "cardiovascular_film 2023-01-27 11:57:49,264 [INFO] speos.postprocessing.postprocessor: Reading mouse knockout genes from ./data/mgi/diabetes_query.txt\n",
      "cardiovascular_film 2023-01-27 11:57:49,402 [INFO] speos.postprocessing.postprocessor: Reading mouse knockout genes from ./data/mgi/diabetes_query.txt\n"
     ]
    },
    {
     "name": "stdout",
     "output_type": "stream",
     "text": [
      "GWAS candidate Genes: 1399\n",
      "Number of Background genes: 14715\n",
      "Number of unlabeled Background genes: 14541\n",
      "Number of unlabeled valid GWAS genes: 1371\n",
      "Number of unlabeled Mouse Genes genes: 719\n"
     ]
    },
    {
     "name": "stderr",
     "output_type": "stream",
     "text": [
      "cardiovascular_film 2023-01-27 11:57:49,592 [INFO] speos.postprocessing.postprocessor: Reading mouse knockout genes from ./data/mgi/background.txt\n",
      "cardiovascular_film 2023-01-27 11:57:50,028 [INFO] speos.postprocessing.postprocessor: Reading mouse knockout genes from ./data/mgi/diabetes_query.txt\n",
      "cardiovascular_film 2023-01-27 11:57:50,166 [INFO] speos.postprocessing.postprocessor: Reading mouse knockout genes from ./data/mgi/diabetes_query.txt\n"
     ]
    },
    {
     "name": "stdout",
     "output_type": "stream",
     "text": [
      "GWAS candidate Genes: 1399\n",
      "Number of Background genes: 14715\n",
      "Number of unlabeled Background genes: 14541\n",
      "Number of unlabeled valid GWAS genes: 1371\n",
      "Number of unlabeled Mouse Genes genes: 719\n"
     ]
    },
    {
     "name": "stderr",
     "output_type": "stream",
     "text": [
      "cardiovascular_film 2023-01-27 11:57:50,355 [INFO] speos.postprocessing.postprocessor: Reading mouse knockout genes from ./data/mgi/background.txt\n",
      "cardiovascular_film 2023-01-27 11:57:50,924 [INFO] speos.postprocessing.postprocessor: Reading mouse knockout genes from ./data/mgi/diabetes_query.txt\n",
      "cardiovascular_film 2023-01-27 11:57:51,060 [INFO] speos.postprocessing.postprocessor: Reading mouse knockout genes from ./data/mgi/diabetes_query.txt\n"
     ]
    },
    {
     "name": "stdout",
     "output_type": "stream",
     "text": [
      "GWAS candidate Genes: 289\n",
      "Number of Background genes: 14712\n",
      "Number of unlabeled Background genes: 14123\n",
      "Number of unlabeled valid GWAS genes: 264\n",
      "Number of unlabeled Mouse Genes genes: 535\n"
     ]
    },
    {
     "name": "stderr",
     "output_type": "stream",
     "text": [
      "cardiovascular_film 2023-01-27 11:57:51,285 [INFO] speos.postprocessing.postprocessor: Reading mouse knockout genes from ./data/mgi/background.txt\n",
      "cardiovascular_film 2023-01-27 11:57:51,723 [INFO] speos.postprocessing.postprocessor: Reading mouse knockout genes from ./data/mgi/insulin_query.txt\n",
      "cardiovascular_film 2023-01-27 11:57:51,854 [INFO] speos.postprocessing.postprocessor: Reading mouse knockout genes from ./data/mgi/insulin_query.txt\n"
     ]
    },
    {
     "name": "stdout",
     "output_type": "stream",
     "text": [
      "GWAS candidate Genes: 289\n",
      "Number of Background genes: 14712\n",
      "Number of unlabeled Background genes: 14123\n",
      "Number of unlabeled valid GWAS genes: 264\n",
      "Number of unlabeled Mouse Genes genes: 535\n"
     ]
    },
    {
     "name": "stderr",
     "output_type": "stream",
     "text": [
      "cardiovascular_film 2023-01-27 11:57:52,151 [INFO] speos.postprocessing.postprocessor: Reading mouse knockout genes from ./data/mgi/background.txt\n",
      "cardiovascular_film 2023-01-27 11:57:52,595 [INFO] speos.postprocessing.postprocessor: Reading mouse knockout genes from ./data/mgi/insulin_query.txt\n",
      "cardiovascular_film 2023-01-27 11:57:52,760 [INFO] speos.postprocessing.postprocessor: Reading mouse knockout genes from ./data/mgi/insulin_query.txt\n"
     ]
    },
    {
     "name": "stdout",
     "output_type": "stream",
     "text": [
      "GWAS candidate Genes: 289\n",
      "Number of Background genes: 14712\n",
      "Number of unlabeled Background genes: 14123\n",
      "Number of unlabeled valid GWAS genes: 264\n",
      "Number of unlabeled Mouse Genes genes: 535\n"
     ]
    },
    {
     "name": "stderr",
     "output_type": "stream",
     "text": [
      "cardiovascular_film 2023-01-27 11:57:52,945 [INFO] speos.postprocessing.postprocessor: Reading mouse knockout genes from ./data/mgi/background.txt\n",
      "cardiovascular_film 2023-01-27 11:57:53,381 [INFO] speos.postprocessing.postprocessor: Reading mouse knockout genes from ./data/mgi/insulin_query.txt\n",
      "cardiovascular_film 2023-01-27 11:57:53,509 [INFO] speos.postprocessing.postprocessor: Reading mouse knockout genes from ./data/mgi/insulin_query.txt\n"
     ]
    },
    {
     "name": "stdout",
     "output_type": "stream",
     "text": [
      "GWAS candidate Genes: 289\n",
      "Number of Background genes: 14712\n",
      "Number of unlabeled Background genes: 14123\n",
      "Number of unlabeled valid GWAS genes: 264\n",
      "Number of unlabeled Mouse Genes genes: 535\n"
     ]
    },
    {
     "name": "stderr",
     "output_type": "stream",
     "text": [
      "cardiovascular_film 2023-01-27 11:57:53,706 [INFO] speos.postprocessing.postprocessor: Reading mouse knockout genes from ./data/mgi/background.txt\n",
      "cardiovascular_film 2023-01-27 11:57:54,141 [INFO] speos.postprocessing.postprocessor: Reading mouse knockout genes from ./data/mgi/insulin_query.txt\n",
      "cardiovascular_film 2023-01-27 11:57:54,285 [INFO] speos.postprocessing.postprocessor: Reading mouse knockout genes from ./data/mgi/insulin_query.txt\n"
     ]
    },
    {
     "name": "stdout",
     "output_type": "stream",
     "text": [
      "GWAS candidate Genes: 289\n",
      "Number of Background genes: 14712\n",
      "Number of unlabeled Background genes: 14123\n",
      "Number of unlabeled valid GWAS genes: 264\n",
      "Number of unlabeled Mouse Genes genes: 535\n"
     ]
    },
    {
     "name": "stderr",
     "output_type": "stream",
     "text": [
      "cardiovascular_film 2023-01-27 11:57:54,483 [INFO] speos.postprocessing.postprocessor: Reading mouse knockout genes from ./data/mgi/background.txt\n",
      "cardiovascular_film 2023-01-27 11:57:55,079 [INFO] speos.postprocessing.postprocessor: Reading mouse knockout genes from ./data/mgi/insulin_query.txt\n",
      "cardiovascular_film 2023-01-27 11:57:55,206 [INFO] speos.postprocessing.postprocessor: Reading mouse knockout genes from ./data/mgi/insulin_query.txt\n"
     ]
    },
    {
     "name": "stdout",
     "output_type": "stream",
     "text": [
      "GWAS candidate Genes: 289\n",
      "Number of Background genes: 14712\n",
      "Number of unlabeled Background genes: 14123\n",
      "Number of unlabeled valid GWAS genes: 264\n",
      "Number of unlabeled Mouse Genes genes: 535\n",
      "66\n",
      "66\n",
      "78\n",
      "78\n",
      "73\n",
      "73\n",
      "53\n",
      "53\n",
      "71\n",
      "71\n"
     ]
    },
    {
     "data": {
      "image/png": "[encoded data removed]",
      "text/plain": [
       "<Figure size 510.236x340.157 with 39 Axes>"
      ]
     },
     "metadata": {
      "needs_background": "light"
     },
     "output_type": "display_data"
    }
   ],
   "source": [
    "import matplotlib.pyplot as plt\n",
    "from matplotlib.lines import Line2D\n",
    "from matplotlib.patches import Patch\n",
    "import pandas as pd\n",
    "from speos.visualization.settings import *\n",
    "import matplotlib.pyplot as plt\n",
    "\n",
    "def get_mighty_keys(n, results):\n",
    "    mighty_keys = []\n",
    "    for key, value in results[0].items():\n",
    "        if key != \"Total\" and value > n:\n",
    "            mighty_keys.append(key)\n",
    "    return mighty_keys\n",
    "\n",
    "def get_OR(n, superset, results, setB):\n",
    "    from scipy.stats import fisher_exact\n",
    "    try:\n",
    "        results = set(get_mighty_keys(n,results))\n",
    "    except TypeError:\n",
    "        results = set(results)\n",
    "\n",
    "    array = pp.make_contingency_table(superset,results,setB)\n",
    "\n",
    "    odds_ratio, pval = fisher_exact(array)\n",
    "\n",
    "    return odds_ratio, pval, array\n",
    "\n",
    "import numpy as np\n",
    "from statsmodels.stats.multitest import fdrcorrection as fdr\n",
    "\n",
    "background = None\n",
    "\n",
    "phenotypes = [\"Cardiovascular Disease\", \"Immune Dysregulation\", \"Body Mass Disorders\", \"Diabetes\", \"Insulin Disorders\"]\n",
    "methods = [\"film\", \"film_unbiased\", \"tag\", \"gcn\", \"n2vmlp\", \"mlp\"]\n",
    "pretty_methods = [\"FiLM\", \"FiLM-Unbiased\", \"TAG\", \"GCN\", \"N2V+MLP\", \"MLP\"]\n",
    "\n",
    "tick_size = small_font\n",
    "label_size = medium_font\n",
    "title_size = medium_font\n",
    "\n",
    "crimson = \"#6f0000\"\n",
    "navy = \"#02055a\"\n",
    "jungle = \"#1e5631\"\n",
    "tan = \"#c24e00\"\n",
    "petrol = \"#005f6a\"\n",
    "grey = \"#bbbbbb\"\n",
    "lightgrey = \"#dddddd\"\n",
    "width_ratios = [10, 1]*2\n",
    "marker_size = 4\n",
    "\n",
    "\n",
    "colors_ = [crimson, jungle, tan, navy, petrol]\n",
    "markers = [\"^\", \"^\", \"v\", \"o\", \"s\", \"p\"]\n",
    "min_strength = 1000\n",
    "\n",
    "outer_dfs_list = []\n",
    "for frame_idx, (phenotype, color) in enumerate(zip(phenotypes, colors_)):\n",
    "    if frame_idx == 5:\n",
    "        break\n",
    "    dfs = []\n",
    "    for pretty_method, method, marker in zip(pretty_methods, methods, markers):\n",
    "        _columns= [\"Method\", \"CS/Mendelian\", \"N Candidate/Mendelian and MKO\", \"N Candidate/Mendelian not MKO\", \"N Not Candidate/Mendelian and MKO\", \"N Not Candidate/Mendelian Not MKO\", \"OR\", \"pval unadjusted\", \"pval adjusted (FDR)\"]\n",
    "        df = pd.DataFrame(data=np.empty((12, len(_columns))), columns=_columns)\n",
    "        if method in [\"gcn\", \"mlp\", \"n2vmlp\"] and phenotype == \"Immune Dysregulation\":\n",
    "            method += \"_new\"\n",
    "        \n",
    "        if method == \"film\" and phenotype == \"Immune Dysregulation\":\n",
    "            method += \"_forreal\"\n",
    "    \n",
    "        config_paths = {\"Insulin Disorders\": \"configs/config_insulin_disorder_{}.yaml\".format(method),\n",
    "                        \"Diabetes\": \"configs/config_diabetes_{}.yaml\".format(method),\n",
    "                        \"Body Mass Disorders\": \"configs/config_bm_disorder_{}.yaml\".format(method),\n",
    "                        \"Cardiovascular Disease\": \"configs/config_cardiovascular_{}.yaml\".format(method),\n",
    "                        \"Immune Dysregulation\": \"configs/config_immune_dysregulation_{}.yaml\".format(method)}\n",
    "        \n",
    "        #if method == \"film\" and phenotype == \"Immune Dysregulation\":\n",
    "        #    config_paths[phenotype] = \"configs/config_immune_dysregulation_{}_forreal.yaml\".format(method)\n",
    "\n",
    "        config = Config()\n",
    "        config.parse_yaml(config_paths[phenotype])\n",
    "\n",
    "        pp = PostProcessor(config)\n",
    "\n",
    "        import json\n",
    "        \n",
    "        gwas_outer_results_paths = {\"Insulin Disorders\": \"/home/icb/florin.ratajczak/ppi-core-genes/data/mapped_genes/closest/insulin_disorder_outer_results.json\",\n",
    "                        \"Diabetes\": \"/home/icb/florin.ratajczak/ppi-core-genes/data/mapped_genes/closest/diabetes_outer_results.json\",\n",
    "                        \"Body Mass Disorders\": \"/home/icb/florin.ratajczak/ppi-core-genes/data/mapped_genes/closest/bm_disorder_outer_results.json\",\n",
    "                        \"Cardiovascular Disease\": \"/home/icb/florin.ratajczak/ppi-core-genes/data/mapped_genes/closest/cardiovascular_disease_outer_results.json\",\n",
    "                        \"Immune Dysregulation\": \"/home/icb/florin.ratajczak/ppi-core-genes/data/mapped_genes/closest/immune_dysregulation_outer_results.json\"}\n",
    "\n",
    "        with open(gwas_outer_results_paths[phenotype], \"r\") as file:\n",
    "            gwas_results = json.load(file)\n",
    "\n",
    "        gwas_genes = set(gwas_results[0].keys())\n",
    "        print(\"GWAS candidate Genes: {}\".format(len(gwas_genes)))\n",
    "        unknown_genes, all_genes, positive_genes = pp.get_unknown_genes(pp.results_paths[0][0])\n",
    "        background = set(pp.get_mouse_knockout_background())\n",
    "        valid_background = background.intersection(all_genes)\n",
    "        print(\"Number of Background genes: {}\".format(len(valid_background)))\n",
    "        valid_unlabeled_background = valid_background.intersection(unknown_genes)\n",
    "        print(\"Number of unlabeled Background genes: {}\".format(len(valid_unlabeled_background)))\n",
    "        valid_gwas_genes = gwas_genes.intersection(unknown_genes)\n",
    "        #valid_gwas_genes = gwas_genes\n",
    "        print(\"Number of unlabeled valid GWAS genes: {}\".format(len(valid_gwas_genes)))\n",
    "        mousegenes = set(pp.get_mouse_knockout_genes())\n",
    "        valid_mousegenes = pp.return_only_valid(mousegenes, valid_background)\n",
    "        valid_unlabeled_mousegenes = pp.return_only_valid(mousegenes, valid_unlabeled_background)\n",
    "        print(\"Number of unlabeled Mouse Genes genes: {}\".format(len(valid_unlabeled_mousegenes)))\n",
    "        \n",
    "        gwas_odds_ratio, gwas_pval, array = get_OR(1, valid_background, valid_gwas_genes, valid_mousegenes)\n",
    "\n",
    "        df.loc[0, :] = [\"-\", \"GWAS\", array[0][0], array[1][0], array[0][1], array[1][1], gwas_odds_ratio, gwas_pval, None]\n",
    "\n",
    "        outer_results_paths = {\"Insulin Disorders\": \"/lustre/groups/epigenereg01/projects/ppi-florin/results/insulin_disorder_{}outer_results.json\".format(method),\n",
    "                        \"Diabetes\": \"/lustre/groups/epigenereg01/projects/ppi-florin/results/diabetes_{}outer_results.json\".format(method),\n",
    "                        \"Body Mass Disorders\": \"/lustre/groups/epigenereg01/projects/ppi-florin/results/bm_disorder_{}outer_results.json\".format(method),\n",
    "                        \"Cardiovascular Disease\": \"/lustre/groups/epigenereg01/projects/ppi-florin/results/cardiovascular_{}outer_results.json\".format(method),\n",
    "                        \"Immune Dysregulation\": \"/lustre/groups/epigenereg01/projects/ppi-florin/results/immune_dysregulation_{}outer_results.json\".format(method)}\n",
    "\n",
    "        \n",
    "        #outer_results_paths[phenotype] = \"/lustre/groups/epigenereg01/projects/ppi-florin/results/immune_dysregulation_{}_forrealouter_results.json\".format(method)\n",
    "        \n",
    "\n",
    "        with open(outer_results_paths[phenotype], \"r\") as file:\n",
    "            results = json.load(file)\n",
    "\n",
    "        unknown_genes, all_genes, positive_genes = pp.get_unknown_genes(pp.results_paths[0][0])\n",
    "        if background is None:\n",
    "            background = set(pp.get_mouse_knockout_background())\n",
    "        valid_background = background.intersection(all_genes)\n",
    "        valid_unlabeled_background = valid_background.intersection(unknown_genes)\n",
    "                \n",
    "        mousegenes = set(pp.get_mouse_knockout_genes())\n",
    "        valid_mousegenes = pp.return_only_valid(mousegenes, valid_background)\n",
    "        valid_unlabeled_mousegenes = pp.return_only_valid(mousegenes, valid_unlabeled_background)\n",
    "        \n",
    "        #print(\"{} {}: {} positives\".format(phenotype, method, len(positive_genes)))\n",
    "        groups = []\n",
    "        ors = []\n",
    "        pvals = []\n",
    "        strengths = []\n",
    "        n_candidates_and_mko = []\n",
    "        n_candidates_not_mko = []\n",
    "        n_not_candidates_and_mko = []\n",
    "        n_not_candidates_not_mko = []\n",
    "\n",
    "        for i in range(11):\n",
    "            group = \">= {}\".format(i + 1)\n",
    "            groups.append(group)\n",
    "            odds_ratio, pval, array = get_OR(i, valid_unlabeled_background, results, valid_unlabeled_mousegenes)\n",
    "            ors.append(odds_ratio)\n",
    "            pvals.append(pval)\n",
    "            strength = len(get_mighty_keys(i, results))\n",
    "            strengths.append(strength)\n",
    "            df.loc[i + 1, :] = [pretty_method, \"CS \"+ group, array[0][0], array[1][0], array[0][1], array[1][1], odds_ratio, pval, None]\n",
    "\n",
    "        min_strength = np.min(strengths) if np.min(strengths) < min_strength else min_strength\n",
    "        m_odds_ratio, m_pval, array = get_OR(i, valid_background, set(positive_genes), valid_mousegenes)\n",
    "        m_strength = len(positive_genes)\n",
    "        \n",
    "        df.loc[12, :] = [\"-\", \"Mendelian\", array[0][0], array[1][0], array[0][1], array[1][1], m_odds_ratio, m_pval, None]\n",
    "\n",
    "        if phenotype == \"Cardiovascular Disease\" and method == \"tag\":\n",
    "            cvd_strengths = strengths\n",
    "            cvd_ors = ors\n",
    "            cvd_mendelian_strength = m_strength\n",
    "            cvd_mendelian_ors = m_odds_ratio\n",
    "\n",
    "        \n",
    "        dfs.append(df)\n",
    "    \n",
    "    dfs = pd.concat(dfs)\n",
    "    \n",
    "    for column in dfs.columns:\n",
    "        if \"OR\" in column:\n",
    "            dfs[column] = dfs[column].round(3)\n",
    "        if \"N \" in column:\n",
    "            dfs[column] = dfs[column].astype(int)\n",
    "    outer_dfs_list.append(dfs)\n",
    "\n",
    "pvals = []\n",
    "for df in outer_dfs_list:\n",
    "    pvals.extend(df[\"pval unadjusted\"].tolist())\n",
    "\n",
    "\n",
    "adj_pvals = fdr(pvals)[1]\n",
    "\n",
    "for df, adj_pval_one_df, phenotype in zip(outer_dfs_list, np.array_split(adj_pvals, len(outer_dfs_list)), phenotypes):\n",
    "    print((adj_pval_one_df < 0.05).sum())\n",
    "    df[\"pval adjusted (FDR)\"] = adj_pval_one_df\n",
    "    print((df[\"pval adjusted (FDR)\"] < 0.05).sum())\n",
    "    df.to_csv(\"statistical_dump/{}_ors_mko_gwas_unbiased.tsv\".format(phenotype), sep=\"\\t\", index=False)\n",
    "\n",
    "fig, axes = plt.subplots(figsize=(full_width*cm,12*cm), nrows=2, ncols=12, sharey=False, gridspec_kw={'width_ratios': [1, 11, 1, 3, 1, 11, 1, 3, 1, 11, 1, 0.1]})\n",
    "axes = axes.flatten()\n",
    "\n",
    "for frame_idx, (phenotype, color, (ax0, ax1, ax3, invis_ax), df) in enumerate(zip(phenotypes + [\"None\"], colors_ + [\"None\"], np.array_split(axes, 6), outer_dfs_list + [\"None\"])):\n",
    "    if frame_idx == 5:\n",
    "        ax0.axis(\"off\")\n",
    "        ax1.axis(\"off\")\n",
    "        ax3.axis(\"off\")\n",
    "        invis_ax.axis(\"off\")\n",
    "        handles = [Line2D([0], [0], color=\"black\", marker=marker, markeredgecolor=\"black\", markerfacecolor=\"black\" if label != \"FiLM-Unbiased\" else \"white\", markersize=marker_size, label=label + \" OR\") for marker, label in zip(markers, pretty_methods)]\n",
    "        handles.extend([Line2D([0], [0], color=grey, marker=marker, markeredgecolor=grey, markerfacecolor=grey if label != \"FiLM-Unbiased\" else \"white\", label=label + \" n\") for marker, label in zip(markers, pretty_methods)])\n",
    "        leg = ax1.legend(handles=handles, loc='center', fontsize=label_size, labelspacing=0.3, borderpad=1)\n",
    "        bb = leg.get_bbox_to_anchor().transformed(ax1.transAxes.inverted())\n",
    "\n",
    "        # Change to location of the legend. \n",
    "        yOffset = -0.065\n",
    "        bb.y0 += yOffset\n",
    "        bb.y1 += yOffset\n",
    "        leg.set_bbox_to_anchor(bb, transform = ax1.transAxes)\n",
    "        break\n",
    "\n",
    "    axG = ax0.twinx()\n",
    "    ax2 = ax1.twinx()\n",
    "    ax4 = ax3.twinx()\n",
    "    handles = []\n",
    "    min_strength = 1000\n",
    "    dfs = []\n",
    "    \n",
    "    start = 0\n",
    "    stride = 13\n",
    "\n",
    "    for method_idx, (pretty_method, method, marker) in enumerate(zip(pretty_methods, methods, markers)):\n",
    "        \n",
    "        method_df = df[start:start + stride]\n",
    "        start += stride\n",
    "        assert method_df[\"Method\"][1] == pretty_method\n",
    "\n",
    "        groups = method_df[\"CS/Mendelian\"][1:-1]\n",
    "        ors = method_df[\"OR\"]\n",
    "        adj_pvals = method_df[\"pval adjusted (FDR)\"]\n",
    "        strengths = np.asarray(method_df[\"N Candidate/Mendelian and MKO\"]) + np.asarray(method_df[\"N Candidate/Mendelian not MKO\"])\n",
    "        n_candidates_and_mko = method_df[\"N Candidate/Mendelian and MKO\"]\n",
    "        n_candidates_not_mko = method_df[\"N Candidate/Mendelian not MKO\"]\n",
    "        n_not_candidates_and_mko = method_df[\"N Not Candidate/Mendelian and MKO\"]\n",
    "        n_not_candidates_not_mko = method_df[\"N Not Candidate/Mendelian Not MKO\"]\n",
    "\n",
    "        xind = np.asarray((range(stride)))\n",
    "        width = 0.8\n",
    "\n",
    "        # plot set strengths\n",
    "        is_positive = np.asarray(strengths[-1]) > 0\n",
    "        draw_xind = np.asarray(xind[1:-1])[is_positive]\n",
    "        draw_strengths = np.asarray(strengths[1:-1])[is_positive]\n",
    "        ax1.plot(draw_xind[0], draw_strengths[0], \n",
    "                color=grey,\n",
    "                zorder=1 if method != \"film_unbiased\" else 2,\n",
    "                markeredgecolor=grey, \n",
    "                markerfacecolor=grey if method != \"film_unbiased\" else \"white\",\n",
    "                marker=marker,\n",
    "                linewidth=0.5,\n",
    "                ms = marker_size-1)\n",
    "        ax1.set_axisbelow(True)\n",
    "        ax3.bar(1-(width/2), height=strengths[-1], width=width, color=grey, zorder=1)\n",
    "        ax3.set_axisbelow(True)\n",
    "        ax0.bar(1-(width/2), height=strengths[0], width=width, color=grey, zorder=1)\n",
    "        ax0.set_axisbelow(True)\n",
    "        \n",
    "        is_significant = np.asarray(adj_pvals[1:-1]) < 0.05\n",
    "        is_enough = np.asarray(strengths[1:-1]) > 0\n",
    "        use_only = is_significant & is_enough\n",
    "        draw_xind = np.asarray(xind[1:-1])[use_only]\n",
    "        draw_ors = np.asarray(ors[1:-1])[use_only]\n",
    "        handle, = ax2.plot(draw_xind, draw_ors, \n",
    "                           color=color if method != \"film_unbiased\" else \"black\", \n",
    "                           zorder=4 if method != \"film_unbiased\" else 5, \n",
    "                           marker=marker, \n",
    "                           markeredgecolor=\"black\", \n",
    "                           markeredgewidth=0.5,\n",
    "                           markerfacecolor=color if method != \"film_unbiased\" else \"white\",\n",
    "                           ms=marker_size  if method != \"film_unbiased\" else 1.2*marker_size, \n",
    "                           label=method)\n",
    "        handles.append(handle)\n",
    "        ax4.bar(1+(width/2), height=ors.tolist()[-1], width=width, color=color, zorder=1)\n",
    "        ax4.set_axisbelow(True)\n",
    "        axG.bar(1+(width/2), height=ors.tolist()[0], width=width, color=color, zorder=1)\n",
    "        axG.set_axisbelow(True)\n",
    "        ax2.set_axisbelow(True)\n",
    "        ax2.set_xticks(xind)\n",
    "        ax2.set_xticklabels(xind.astype(np.uint8) + 1, size=small_font)\n",
    "        ax3.set_xticks([1])\n",
    "        ax3.set_xticklabels([\"M\"], size=label_size)\n",
    "        ax0.set_xticks([1])\n",
    "        ax0.set_xticklabels([\"G\"], size=label_size)\n",
    "        ax0.tick_params(axis=\"x\", pad=1)\n",
    "        ax2.tick_params(axis=\"x\", pad=1)\n",
    "        ax3.tick_params(axis=\"x\", pad=1)\n",
    "        if frame_idx % 3 == 0:\n",
    "            ax0.set_ylabel(\"Number of Candidate Genes\", size=label_size)\n",
    "        elif frame_idx % 3 == 2:\n",
    "            ax4.set_ylabel(\"Odds Ratio\", size=label_size)\n",
    "        \n",
    "        if frame_idx == 4:\n",
    "            ax4.set_ylabel(\"Odds Ratio\", size=label_size)\n",
    "            \n",
    "        if frame_idx >= 2:\n",
    "            ax1.set_xlabel(\"Convergence Score (>=)\", size=label_size)\n",
    "\n",
    "        ax1.set_title(phenotype, y=1.05, x=0.5, pad=-14, size=title_size)    \n",
    "\n",
    "    _, candidate_max_strength = ax1.get_ylim()\n",
    "    _, mendelian_max_strength = ax3.get_ylim()\n",
    "    max_strength = np.max((candidate_max_strength, mendelian_max_strength))\n",
    "    max_strenth = 1000 if max_strength < 1000 else max_strength\n",
    "\n",
    "    min_strength = 1\n",
    "\n",
    "    ax0.set_yscale('log')\n",
    "    ax1.set_yscale('log')\n",
    "    ax3.set_yscale('log')\n",
    "    ax0.set_ylim((min_strength, max_strenth))\n",
    "    ax1.set_ylim((min_strength, max_strenth))\n",
    "    ax3.set_ylim((min_strength, max_strenth))\n",
    "    \n",
    "    candidate_max_or = ax2.get_ylim()[1]\n",
    "    mendelian_max_or = ax4.get_ylim()[1]\n",
    "    ax2.set_ylim((0, np.max((candidate_max_or, mendelian_max_or))))\n",
    "    ax4.set_ylim((0, np.max((candidate_max_or, mendelian_max_or))))\n",
    "    axG.set_ylim((0, np.max((candidate_max_or, mendelian_max_or))))\n",
    "\n",
    "    ax1.grid(True, which=\"major\", axis=\"y\", color=lightgrey)\n",
    "    ax1.grid(True,which=\"minor\", axis=\"y\", linestyle=\":\", color=lightgrey)\n",
    "    ax0.grid(True,which=\"major\", axis=\"y\", color=lightgrey)\n",
    "    ax0.grid(True,which=\"minor\", axis=\"y\", linestyle=\":\", color=lightgrey)\n",
    "    ax3.grid(True,which=\"major\", axis=\"y\", color=lightgrey)\n",
    "    ax3.grid(True,which=\"minor\", axis=\"y\", linestyle=\":\", color=lightgrey)\n",
    "\n",
    "    \n",
    "    ax1.set_yticklabels([])\n",
    "    ax1.spines['left'].set_visible(False)\n",
    "    ax2.spines['left'].set_visible(False)\n",
    "    ax1.spines['right'].set_visible(False)\n",
    "    ax2.spines['right'].set_visible(False)\n",
    "    ax2.set_yticks([], which=\"both\")\n",
    "    for tick in ax1.yaxis.get_major_ticks():\n",
    "        tick.tick1line.set_visible(False)\n",
    "        tick.tick2line.set_visible(False)\n",
    "    for tick in ax1.yaxis.get_minor_ticks():\n",
    "        tick.tick1line.set_visible(False)\n",
    "        tick.tick2line.set_visible(False)\n",
    "    ax0.spines['left'].set_visible(False)\n",
    "    ax0.spines['right'].set_visible(False)\n",
    "    ax3.spines['left'].set_visible(False)\n",
    "    ax3.set_yticklabels([])\n",
    "    for tick in ax3.yaxis.get_major_ticks():\n",
    "        tick.tick1line.set_visible(False)\n",
    "        tick.tick2line.set_visible(False)\n",
    "    for tick in ax3.yaxis.get_minor_ticks():\n",
    "        tick.tick1line.set_visible(False)\n",
    "        tick.tick2line.set_visible(False)\n",
    "    ax4.spines['left'].set_visible(False)\n",
    "    axG.set_yticks([])\n",
    "    axG.spines['right'].set_visible(False)\n",
    "    ax0.tick_params(axis=\"y\", pad=0.5)\n",
    "    ax4.tick_params(axis=\"y\", pad=0.5)\n",
    "\n",
    "\n",
    "    ax1.set_xticks(range(1,12))\n",
    "    ax1.set_xticklabels([str(x) for x in range(1,12)])\n",
    "    ax1.tick_params(axis=\"x\", labelsize=label_size)\n",
    "    ax1.tick_params(axis=\"x\", pad=1)\n",
    "    invis_ax.set_visible(False)\n",
    "\n",
    "fig.tight_layout()\n",
    "plt.subplots_adjust(wspace=0, hspace=0.1)\n",
    "plt.savefig(\"OR_all_unbiased.svg\", bbox_inches='tight', dpi=400)"
   ]
  },
  {
   "cell_type": "code",
   "execution_count": null,
   "metadata": {},
   "outputs": [],
   "source": []
  }
 ],
 "metadata": {
  "kernelspec": {
   "display_name": "compat",
   "language": "python",
   "name": "python3"
  },
  "language_info": {
   "codemirror_mode": {
    "name": "ipython",
    "version": 3
   },
   "file_extension": ".py",
   "mimetype": "text/x-python",
   "name": "python",
   "nbconvert_exporter": "python",
   "pygments_lexer": "ipython3",
   "version": "3.7.12"
  },
  "orig_nbformat": 4,
  "vscode": {
   "interpreter": {
    "hash": "710bb1a909b1ab17a29f33f5c92268ff372ef09411c664d3fef738f109a43cf0"
   }
  }
 },
 "nbformat": 4,
 "nbformat_minor": 2
}
