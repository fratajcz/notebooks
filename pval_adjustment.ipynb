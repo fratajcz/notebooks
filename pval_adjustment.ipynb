{
 "cells": [
  {
   "cell_type": "code",
   "execution_count": 1,
   "metadata": {},
   "outputs": [],
   "source": [
    "import pandas as pd\n",
    "from statsmodels.stats.multitest import fdrcorrection as fdr\n",
    "\n"
   ]
  },
  {
   "cell_type": "code",
   "execution_count": 23,
   "metadata": {},
   "outputs": [],
   "source": [
    "methods = [\"FiLM\", \"TAG\", \"GCN\", \"N2V+MLP\", \"MLP\"]\n",
    "diseases = [\"Cardiovascular Disease\", \"Immune Dysregulation\", \"Body Mass Disorders\", \"Insulin Disorders\", \"Diabetes\"]\n",
    "outer_dfs = []\n",
    "global_pvals = []\n",
    "for value in diseases:\n",
    "    #results_df = pd.DataFrame(columns=[\"Mendelian/Method\", \"CS\", \"log odds\", \"a\", \"b\", \"c\", \"d\", \"se\", \"delta_log_odds (C-M)\", \"se_delta\", \"Z\", \"pval unadjusted\", \"pval adjusted (FDR)\", \"result\"])\n",
    "    df = pd.read_csv(\"../statistical_dump/{}_drugtarget_unbiased.tsv\".format(value), sep=\"\\t\", header=0).iloc[:-1 , :]\n",
    "    outer_dfs.append(df)\n",
    "    global_pvals.extend(df[\"pval xDC unadjusted\"])\n",
    "\n",
    "global_pvals_adjusted = fdr(global_pvals)[1]\n"
   ]
  },
  {
   "cell_type": "code",
   "execution_count": 24,
   "metadata": {},
   "outputs": [
    {
     "name": "stdout",
     "output_type": "stream",
     "text": [
      "89\n",
      "89\n"
     ]
    }
   ],
   "source": [
    "import numpy as np\n",
    "\n",
    "print((np.asarray(global_pvals) < 0.05).sum() )\n",
    "print((np.asarray(global_pvals_adjusted) < 0.05).sum())"
   ]
  },
  {
   "cell_type": "code",
   "execution_count": 25,
   "metadata": {},
   "outputs": [],
   "source": [
    "for value, df, df_adj_pvals in zip(diseases, outer_dfs, np.array_split(global_pvals_adjusted, len(outer_dfs))):\n",
    "    #results_df = pd.DataFrame(columns=[\"Mendelian/Method\", \"CS\", \"log odds\", \"a\", \"b\", \"c\", \"d\", \"se\", \"delta_log_odds (C-M)\", \"se_delta\", \"Z\", \"pval unadjusted\", \"pval adjusted (FDR)\", \"result\"])\n",
    "    df[\"pval xDC adjusted (FDR)\"] = df_adj_pvals\n",
    "    df.to_csv(\"../statistical_dump/{}_drugtarget_unbiased.tsv\".format(value), sep=\"\\t\", index=False)"
   ]
  },
  {
   "cell_type": "code",
   "execution_count": null,
   "metadata": {},
   "outputs": [],
   "source": []
  }
 ],
 "metadata": {
  "kernelspec": {
   "display_name": "compat",
   "language": "python",
   "name": "python3"
  },
  "language_info": {
   "codemirror_mode": {
    "name": "ipython",
    "version": 3
   },
   "file_extension": ".py",
   "mimetype": "text/x-python",
   "name": "python",
   "nbconvert_exporter": "python",
   "pygments_lexer": "ipython3",
   "version": "3.7.12 | packaged by conda-forge | (default, Oct 26 2021, 06:08:21) \n[GCC 9.4.0]"
  },
  "orig_nbformat": 4,
  "vscode": {
   "interpreter": {
    "hash": "710bb1a909b1ab17a29f33f5c92268ff372ef09411c664d3fef738f109a43cf0"
   }
  }
 },
 "nbformat": 4,
 "nbformat_minor": 2
}
