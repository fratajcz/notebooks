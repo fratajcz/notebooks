{
 "cells": [
  {
   "cell_type": "markdown",
   "metadata": {},
   "source": [
    "# Create the compiled datasets that are shared on Zenodo"
   ]
  },
  {
   "cell_type": "code",
   "execution_count": 1,
   "metadata": {},
   "outputs": [
    {
     "name": "stderr",
     "output_type": "stream",
     "text": [
      "/home/icb/florin.ratajczak/anaconda3/envs/compat/lib/python3.7/site-packages/torch/cuda/__init__.py:52: UserWarning: CUDA initialization: CUDA driver initialization failed, you might not have a CUDA gpu. (Triggered internally at  /opt/conda/conda-bld/pytorch_1614378098133/work/c10/cuda/CUDAFunctions.cpp:109.)\n",
      "  return torch._C._cuda_getDeviceCount() > 0\n"
     ]
    }
   ],
   "source": [
    "import os\n",
    "os.chdir(\"/home/icb/florin.ratajczak/ppi-core-genes/\")\n",
    "from speos.preprocessing.preprocessor import PreProcessor\n",
    "from speos.preprocessing.mappers import *\n",
    "from speos.utils.config import Config\n",
    "from speos.datasets import DatasetBootstrapper\n"
   ]
  },
  {
   "cell_type": "code",
   "execution_count": 21,
   "metadata": {},
   "outputs": [
    {
     "name": "stderr",
     "output_type": "stream",
     "text": [
      "cardiovascular_tag 2022-12-21 14:57:44,768 [INFO] speos.datasets: Data(x=[17401, 84], edge_index=[2, 14941], y=[17401], train_mask=[17401], test_mask=[17401], val_mask=[17401])\n",
      "cardiovascular_tag 2022-12-21 15:06:04,575 [INFO] speos.preprocessing.preprocessor: Using Adjacency matrices: ['BioPlex30293T']\n",
      "cardiovascular_tag 2022-12-21 15:06:04,575 [INFO] speos.preprocessing.preprocessor: Using 8 mappings with ground truth data/mendelian_gene_sets/Cardiovascular_Disease_genes.bed \n",
      "cardiovascular_tag 2022-12-21 15:06:04,611 [INFO] speos.datasets: Loading Processed Data from ./data/processed/cardiovascular_n2vmlp.pt\n",
      "cardiovascular_tag 2022-12-21 15:06:04,949 [INFO] speos.datasets: Data(x=[17320, 196], edge_index=[2, 168112], y=[17320], train_mask=[17320], test_mask=[17320], val_mask=[17320])\n",
      "cardiovascular_tag 2022-12-21 15:06:09,722 [INFO] speos.preprocessing.preprocessor: Using Adjacency matrices: ['IntActDirect']\n",
      "cardiovascular_tag 2022-12-21 15:06:09,723 [INFO] speos.preprocessing.preprocessor: Using 8 mappings with ground truth data/mendelian_gene_sets/Cardiovascular_Disease_genes.bed \n",
      "cardiovascular_tag 2022-12-21 15:06:09,727 [INFO] speos.datasets: Loading Processed Data from ./data/processed/cardiovascular_tag.pt\n"
     ]
    },
    {
     "name": "stdout",
     "output_type": "stream",
     "text": [
      "cardiovascular tensor(584., dtype=torch.float64) torch.Size([17320, 96])\n"
     ]
    },
    {
     "name": "stderr",
     "output_type": "stream",
     "text": [
      "cardiovascular_tag 2022-12-21 15:06:09,835 [INFO] speos.datasets: Data(x=[17320, 96], edge_index=[2, 14882], y=[17320], train_mask=[17320], test_mask=[17320], val_mask=[17320])\n",
      "cardiovascular_tag 2022-12-21 15:06:12,393 [INFO] speos.preprocessing.preprocessor: Using Adjacency matrices: ['BioPlex30293T']\n",
      "cardiovascular_tag 2022-12-21 15:06:12,393 [INFO] speos.preprocessing.preprocessor: Using 7 mappings with ground truth data/mendelian_gene_sets/Immune_Dysregulation_genes.bed \n",
      "cardiovascular_tag 2022-12-21 15:06:12,397 [INFO] speos.datasets: Loading Processed Data from ./data/processed/immune_dysregulation_n2vmlp.pt\n",
      "cardiovascular_tag 2022-12-21 15:06:12,483 [INFO] speos.datasets: Data(x=[17024, 193], edge_index=[2, 160962], y=[17024], train_mask=[17024], test_mask=[17024], val_mask=[17024])\n",
      "cardiovascular_tag 2022-12-21 15:06:17,128 [INFO] speos.preprocessing.preprocessor: Using Adjacency matrices: ['IntActDirect']\n",
      "cardiovascular_tag 2022-12-21 15:06:17,128 [INFO] speos.preprocessing.preprocessor: Using 7 mappings with ground truth data/mendelian_gene_sets/Immune_Dysregulation_genes.bed \n",
      "cardiovascular_tag 2022-12-21 15:06:17,135 [INFO] speos.datasets: Loading Processed Data from ./data/processed/immune_dysregulation_tag.pt\n"
     ]
    },
    {
     "name": "stdout",
     "output_type": "stream",
     "text": [
      "immune_dysregulation tensor(525., dtype=torch.float64) torch.Size([17024, 93])\n"
     ]
    },
    {
     "name": "stderr",
     "output_type": "stream",
     "text": [
      "cardiovascular_tag 2022-12-21 15:06:17,246 [INFO] speos.datasets: Data(x=[17024, 93], edge_index=[2, 14411], y=[17024], train_mask=[17024], test_mask=[17024], val_mask=[17024])\n",
      "cardiovascular_tag 2022-12-21 15:06:19,605 [INFO] speos.preprocessing.preprocessor: Using Adjacency matrices: ['BioPlex30293T']\n",
      "cardiovascular_tag 2022-12-21 15:06:19,605 [INFO] speos.preprocessing.preprocessor: Using 7 mappings with ground truth data/mendelian_gene_sets/Body_Mass_Disorder_genes.bed \n",
      "cardiovascular_tag 2022-12-21 15:06:19,609 [INFO] speos.datasets: Loading Processed Data from ./data/processed/bm_disorder_n2vmlp.pt\n",
      "cardiovascular_tag 2022-12-21 15:06:19,832 [INFO] speos.datasets: Data(x=[17398, 193], edge_index=[2, 169038], y=[17398], train_mask=[17398], test_mask=[17398], val_mask=[17398])\n",
      "cardiovascular_tag 2022-12-21 15:06:24,543 [INFO] speos.preprocessing.preprocessor: Using Adjacency matrices: ['IntActDirect']\n",
      "cardiovascular_tag 2022-12-21 15:06:24,543 [INFO] speos.preprocessing.preprocessor: Using 7 mappings with ground truth data/mendelian_gene_sets/Body_Mass_Disorder_genes.bed \n",
      "cardiovascular_tag 2022-12-21 15:06:24,548 [INFO] speos.datasets: Loading Processed Data from ./data/processed/bm_disorder_tag.pt\n"
     ]
    },
    {
     "name": "stdout",
     "output_type": "stream",
     "text": [
      "bm_disorder tensor(126., dtype=torch.float64) torch.Size([17398, 93])\n"
     ]
    },
    {
     "name": "stderr",
     "output_type": "stream",
     "text": [
      "cardiovascular_tag 2022-12-21 15:06:24,661 [INFO] speos.datasets: Data(x=[17398, 93], edge_index=[2, 14937], y=[17398], train_mask=[17398], test_mask=[17398], val_mask=[17398])\n",
      "cardiovascular_tag 2022-12-21 15:06:27,145 [INFO] speos.preprocessing.preprocessor: Using Adjacency matrices: ['BioPlex30293T']\n",
      "cardiovascular_tag 2022-12-21 15:06:27,145 [INFO] speos.preprocessing.preprocessor: Using 6 mappings with ground truth data/mendelian_gene_sets/Monogenic_Diabetes_genes.bed \n",
      "cardiovascular_tag 2022-12-21 15:06:27,152 [INFO] speos.datasets: Loading Processed Data from ./data/processed/diabetes_n2vmlp.pt\n",
      "cardiovascular_tag 2022-12-21 15:06:27,291 [INFO] speos.datasets: Data(x=[17406, 190], edge_index=[2, 169126], y=[17406], train_mask=[17406], test_mask=[17406], val_mask=[17406])\n",
      "cardiovascular_tag 2022-12-21 15:06:31,495 [INFO] speos.preprocessing.preprocessor: Using Adjacency matrices: ['IntActDirect']\n",
      "cardiovascular_tag 2022-12-21 15:06:31,495 [INFO] speos.preprocessing.preprocessor: Using 6 mappings with ground truth data/mendelian_gene_sets/Monogenic_Diabetes_genes.bed \n",
      "cardiovascular_tag 2022-12-21 15:06:31,498 [INFO] speos.datasets: Loading Processed Data from ./data/processed/diabetes_tag.pt\n"
     ]
    },
    {
     "name": "stdout",
     "output_type": "stream",
     "text": [
      "diabetes tensor(179., dtype=torch.float64) torch.Size([17406, 90])\n"
     ]
    },
    {
     "name": "stderr",
     "output_type": "stream",
     "text": [
      "cardiovascular_tag 2022-12-21 15:06:31,623 [INFO] speos.datasets: Data(x=[17406, 90], edge_index=[2, 14939], y=[17406], train_mask=[17406], test_mask=[17406], val_mask=[17406])\n",
      "cardiovascular_tag 2022-12-21 15:06:33,992 [INFO] speos.preprocessing.preprocessor: Using Adjacency matrices: ['BioPlex30293T']\n",
      "cardiovascular_tag 2022-12-21 15:06:33,992 [INFO] speos.preprocessing.preprocessor: Using 4 mappings with ground truth data/mendelian_gene_sets/Insulin_Disorder_genes.bed \n",
      "cardiovascular_tag 2022-12-21 15:06:33,996 [INFO] speos.datasets: Loading Processed Data from ./data/processed/insulin_disorder_n2vmlp.pt\n",
      "cardiovascular_tag 2022-12-21 15:06:34,122 [INFO] speos.datasets: Data(x=[17401, 184], edge_index=[2, 169186], y=[17401], train_mask=[17401], test_mask=[17401], val_mask=[17401])\n",
      "cardiovascular_tag 2022-12-21 15:06:38,204 [INFO] speos.preprocessing.preprocessor: Using Adjacency matrices: ['IntActDirect']\n",
      "cardiovascular_tag 2022-12-21 15:06:38,204 [INFO] speos.preprocessing.preprocessor: Using 4 mappings with ground truth data/mendelian_gene_sets/Insulin_Disorder_genes.bed \n",
      "cardiovascular_tag 2022-12-21 15:06:38,208 [INFO] speos.datasets: Loading Processed Data from ./data/processed/insulin_disorder_tag.pt\n"
     ]
    },
    {
     "name": "stdout",
     "output_type": "stream",
     "text": [
      "insulin_disorder tensor(610., dtype=torch.float64) torch.Size([17401, 84])\n"
     ]
    }
   ],
   "source": [
    "import pandas as pd\n",
    "for disease in [\"cardiovascular\", \"immune_dysregulation\", \"bm_disorder\", \"diabetes\", \"insulin_disorder\"]:\n",
    "        for normal in [0,1]:\n",
    "                config = Config()\n",
    "                config.parse_yaml(\"configs/config_{}_{}.yaml\".format(disease, \"tag\" if normal else \"n2vmlp\"))\n",
    "\n",
    "                mappings = GWASMapper().get_mappings(config.input.tag, fields=config.input.field)\n",
    "                adjacencies = AdjacencyMapper(config.input.adjacency_mappings, blacklist=config.input.adjacency_blacklist).get_mappings(config.input.adjacency, fields=config.input.adjacency_field)\n",
    "                dataset = DatasetBootstrapper(mappings, adjacencies, holdout_size=config.input.holdout_size, name=config.name, config=config).get_dataset()\n",
    "                X_df = pd.DataFrame(data=dataset.data.x.numpy(), columns=dataset.preprocessor.get_feature_names())\n",
    "                truth_df = pd.DataFrame(data=dataset.data.y.numpy(), columns=[\"mendelian\"])\n",
    "                if normal:\n",
    "                        print(disease, dataset.data.y.sum(),  dataset.data.x.shape)\n",
    "                index_df = dataset.node_df.copy()\n",
    "                index_df = index_df.join(truth_df)\n",
    "                index_df = index_df.join(X_df)\n",
    "                index_df.head()\n",
    "                index_df.to_csv(\"./data/final_datasets/{}_{}.tsv\".format(disease, \"normal\" if normal else \"with_n2v_vectors\"), sep=\"\\t\", index=False)\n"
   ]
  },
  {
   "cell_type": "code",
   "execution_count": 10,
   "metadata": {},
   "outputs": [],
   "source": []
  },
  {
   "cell_type": "code",
   "execution_count": 14,
   "metadata": {},
   "outputs": [],
   "source": []
  },
  {
   "cell_type": "code",
   "execution_count": 16,
   "metadata": {},
   "outputs": [
    {
     "data": {
      "text/plain": [
       "True"
      ]
     },
     "execution_count": 16,
     "metadata": {},
     "output_type": "execute_result"
    }
   ],
   "source": [
    "1 ==True"
   ]
  },
  {
   "cell_type": "code",
   "execution_count": null,
   "metadata": {},
   "outputs": [],
   "source": []
  }
 ],
 "metadata": {
  "kernelspec": {
   "display_name": "compat",
   "language": "python",
   "name": "python3"
  },
  "language_info": {
   "codemirror_mode": {
    "name": "ipython",
    "version": 3
   },
   "file_extension": ".py",
   "mimetype": "text/x-python",
   "name": "python",
   "nbconvert_exporter": "python",
   "pygments_lexer": "ipython3",
   "version": "3.7.12 | packaged by conda-forge | (default, Oct 26 2021, 06:08:21) \n[GCC 9.4.0]"
  },
  "orig_nbformat": 4,
  "vscode": {
   "interpreter": {
    "hash": "710bb1a909b1ab17a29f33f5c92268ff372ef09411c664d3fef738f109a43cf0"
   }
  }
 },
 "nbformat": 4,
 "nbformat_minor": 2
}
