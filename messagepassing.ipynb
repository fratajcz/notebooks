{
 "cells": [
  {
   "cell_type": "code",
   "execution_count": 1,
   "metadata": {},
   "outputs": [
    {
     "name": "stdout",
     "output_type": "stream",
     "text": [
      "/home/icb/florin.ratajczak/ppi-core-genes/speos\n"
     ]
    }
   ],
   "source": [
    "import os\n",
    "print(os.getcwd())\n",
    "os.chdir(\"..\")\n"
   ]
  },
  {
   "cell_type": "code",
   "execution_count": 2,
   "metadata": {},
   "outputs": [
    {
     "name": "stderr",
     "output_type": "stream",
     "text": [
      "/home/icb/florin.ratajczak/anaconda3/envs/compat/lib/python3.7/site-packages/torch/cuda/__init__.py:52: UserWarning: CUDA initialization: CUDA driver initialization failed, you might not have a CUDA gpu. (Triggered internally at  /opt/conda/conda-bld/pytorch_1614378098133/work/c10/cuda/CUDAFunctions.cpp:109.)\n",
      "  return torch._C._cuda_getDeviceCount() > 0\n"
     ]
    }
   ],
   "source": [
    "from speos.utils.config import Config\n",
    "from speos.pipeline import InferencePipeline\n",
    "from speos.explanation import MessagePassingExplainer\n",
    "from speos.models import ModelBootstrapper\n",
    "from speos.datasets import DatasetBootstrapper\n",
    "from speos.preprocessing.mappers import GWASMapper, AdjacencyMapper"
   ]
  },
  {
   "cell_type": "code",
   "execution_count": 3,
   "metadata": {},
   "outputs": [],
   "source": [
    "config = Config()\n",
    "config.parse_yaml(\"configs/config_immune_dysregulation_film_forreal.yaml\")"
   ]
  },
  {
   "cell_type": "code",
   "execution_count": 4,
   "metadata": {},
   "outputs": [
    {
     "name": "stderr",
     "output_type": "stream",
     "text": [
      "immune_dysregulation_film_forreal 2022-12-17 16:40:49,587 [INFO] speos.preprocessing.preprocessor: Using Adjacency matrices: ['BioPlex30HCT116', 'BioPlex30293T', 'HuRI', 'IntActPA', 'IntActDirect', 'hetionetregulates', 'hetionetcovaries', 'GRNDBadiposetissue', 'GRNDBadrenalgland', 'GRNDBbloodx', 'GRNDBbloodvessel', 'GRNDBbrain', 'GRNDBbreast', 'GRNDBcolon', 'GRNDBesophagus', 'GRNDBheart', 'GRNDBkidney', 'GRNDBliver', 'GRNDBlung', 'GRNDBmuscle', 'GRNDBnerve', 'GRNDBovary', 'GRNDBpancreas', 'GRNDBpituitary', 'GRNDBprostate', 'GRNDBsalivarygland', 'GRNDBskin', 'GRNDBsmallintestine', 'GRNDBspleen', 'GRNDBstomach', 'GRNDBtestis', 'GRNDBthyroid', 'GRNDButerus', 'GRNDBvagina']\n",
      "immune_dysregulation_film_forreal 2022-12-17 16:40:49,587 [INFO] speos.preprocessing.preprocessor: Using 7 mappings with ground truth data/mendelian_gene_sets/Immune_Dysregulation_genes.bed \n",
      "immune_dysregulation_film_forreal 2022-12-17 16:40:49,826 [INFO] speos.datasets: Loading Processed Data from ./data/processed/immune_dysregulation_film_forreal.pt\n"
     ]
    }
   ],
   "source": [
    "pre_mappings = pre_mappings = GWASMapper().get_mappings(config.input.tag, fields=config.input.field)\n",
    "\n",
    "mappings = []\n",
    "\n",
    "for mapping in pre_mappings:\n",
    "    if not \"AMD\" in mapping[\"name\"]:\n",
    "        mappings.append(mapping)\n",
    "\n",
    "adjacencies = AdjacencyMapper(config.input.adjacency_mappings, blacklist=config.input.adjacency_blacklist).get_mappings(config.input.adjacency, fields=config.input.adjacency_field)\n",
    "\n",
    "dataset = DatasetBootstrapper(mappings, adjacencies, holdout_size=config.input.holdout_size, name=\"test\", config=config).get_dataset()\n",
    "\n",
    "node_data = dataset.data\n",
    "input_dim = node_data.x.shape[1]\n",
    "\n",
    "model = ModelBootstrapper(\n",
    "            config, input_dim, len(adjacencies)).get_model()"
   ]
  },
  {
   "cell_type": "code",
   "execution_count": 5,
   "metadata": {},
   "outputs": [],
   "source": [
    "config.name = \"immune_dysregulation_film_forreal_outer_0_fold_1\""
   ]
  },
  {
   "cell_type": "code",
   "execution_count": 6,
   "metadata": {},
   "outputs": [],
   "source": [
    "from speos.helpers import CheckPointer\n",
    "checkpointer = CheckPointer(\n",
    "                model, config.model.save_dir + config.name, mode=config.es.mode)"
   ]
  },
  {
   "cell_type": "code",
   "execution_count": 9,
   "metadata": {},
   "outputs": [
    {
     "data": {
      "text/plain": [
       "RelationalGeneNetwork(\n",
       "  (pre_mp): Sequential(\n",
       "    (0): Linear(93, 50, bias=True)\n",
       "    (1): ELU(alpha=1.0)\n",
       "    (2): Linear(50, 50, bias=True)\n",
       "    (3): ELU(alpha=1.0)\n",
       "    (4): Linear(50, 50, bias=True)\n",
       "    (5): ELU(alpha=1.0)\n",
       "  )\n",
       "  (post_mp): Sequential(\n",
       "    (0): Linear(50, 50, bias=True)\n",
       "    (1): ELU(alpha=1.0)\n",
       "    (2): Linear(50, 50, bias=True)\n",
       "    (3): ELU(alpha=1.0)\n",
       "    (4): Linear(50, 25, bias=True)\n",
       "    (5): ELU(alpha=1.0)\n",
       "    (6): Linear(25, 1, bias=True)\n",
       "  )\n",
       "  (mp): Sequential(\n",
       "    (0): FiLMConv(50, 50, num_relations=34)\n",
       "    (1): ELU(alpha=1.0)\n",
       "    (2): InstanceNorm(50)\n",
       "    (3): FiLMConv(50, 50, num_relations=34)\n",
       "    (4): ELU(alpha=1.0)\n",
       "    (5): InstanceNorm(50)\n",
       "  )\n",
       ")"
      ]
     },
     "execution_count": 9,
     "metadata": {},
     "output_type": "execute_result"
    }
   ],
   "source": [
    "model.architectures[0].double()"
   ]
  },
  {
   "cell_type": "code",
   "execution_count": 10,
   "metadata": {},
   "outputs": [
    {
     "name": "stdout",
     "output_type": "stream",
     "text": [
      "tensor([[-0.0597, -0.0769, -0.0735,  ..., -0.0679, -0.0620, -0.0644]],\n",
      "       dtype=torch.float64, grad_fn=<ViewBackward>)\n"
     ]
    }
   ],
   "source": [
    "val_out, loss = model.step(\n",
    "                dataset.data, dataset.data.val_mask, eval_flag=True)\n",
    "\n",
    "print(val_out)"
   ]
  },
  {
   "cell_type": "code",
   "execution_count": 11,
   "metadata": {},
   "outputs": [
    {
     "data": {
      "text/plain": [
       "(88, 0.3722697056030213)"
      ]
     },
     "execution_count": 11,
     "metadata": {},
     "output_type": "execute_result"
    }
   ],
   "source": [
    "checkpointer.restore()"
   ]
  },
  {
   "cell_type": "code",
   "execution_count": 12,
   "metadata": {},
   "outputs": [
    {
     "name": "stdout",
     "output_type": "stream",
     "text": [
      "tensor([[-8.6794, -8.2211, -4.3948,  ..., -8.7851, -7.1715, -1.5089]],\n",
      "       dtype=torch.float64, grad_fn=<ViewBackward>)\n"
     ]
    }
   ],
   "source": [
    "val_out, loss = model.step(\n",
    "                dataset.data, dataset.data.val_mask, eval_flag=True)\n",
    "\n",
    "print(val_out)"
   ]
  },
  {
   "cell_type": "code",
   "execution_count": 13,
   "metadata": {},
   "outputs": [],
   "source": [
    "adjacency_names = [adjacency[\"name\"] for adjacency in adjacencies]"
   ]
  },
  {
   "cell_type": "code",
   "execution_count": 14,
   "metadata": {},
   "outputs": [],
   "source": [
    "model.architectures[0] = model.architectures[0].double()\n",
    "\n",
    "mpex =  MessagePassingExplainer(model, dataset.data, adjacency_names, config)"
   ]
  },
  {
   "cell_type": "markdown",
   "metadata": {},
   "source": [
    "# Check the gamma to beta ratio"
   ]
  },
  {
   "cell_type": "code",
   "execution_count": 17,
   "metadata": {},
   "outputs": [],
   "source": [
    "latent_node_features = mpex.get_latent_features()"
   ]
  },
  {
   "cell_type": "code",
   "execution_count": 22,
   "metadata": {},
   "outputs": [
    {
     "name": "stdout",
     "output_type": "stream",
     "text": [
      "[7.060298271860865, 8.71358777799497, 7.5444549200010975, 8.018916799147382, 19.60672659543765, 10.265562355543551, 9.855899462611873, 11.673702344990438, 12.12243315259805, 11.088956821567438, 11.29076326844477, 7.962983418481383, 10.309940977269179, 7.59000066640927, 7.449124701103718, 8.639547440158763, 10.230834797423174, 9.072389173232429, 15.980000944106438, 7.221301077073394, 8.112729274867709, 7.6032214936184594, 9.280627287340643, 10.04498423168928, 7.457503378975848, 8.002207741118806, 9.585178896805752, 8.62378995653413, 8.350867805469505, 10.43981778483482, 33.5214213706184, 10.485437264471093, 102.93764778910952, 12.045174187366937, 9.4631639521386]\n",
      "[7.083478957257183, 8.04516766449814, 8.821018975134747, 8.872194644421924, 6.362612870161428, 11.205314988887002, 7.897921685252603, 10.216012008137671, 6.777783953897734, 11.691586146378963, 11.964432427477742, 8.733657279358976, 7.80810856938539, 9.066776176479145, 6.309313153208837, 11.207226825533253, 13.4081269275261, 12.823692824933152, 14.529987521297597, 5.683777408659208, 7.980428260963637, 9.43120504461144, 42.29628123499934, 8.152688555057262, 9.62230430631457, 9.519027514360834, 7.972554690728287, 7.921160354522626, 7.793714442868243, 7.501710071753444, 12.465899059399957, 8.705060668460984, 9.364039904751719, 10.936124934956014, 7.923419737087307]\n"
     ]
    }
   ],
   "source": [
    "from torch_sparse import SparseTensor, masked_select_nnz\n",
    "import torch\n",
    "import pandas as pd\n",
    "import matplotlib.pyplot as plt\n",
    "import pandas as pd\n",
    "import numpy as np\n",
    "\n",
    "import matplotlib.patches as mpatches\n",
    "from matplotlib.lines import Line2D\n",
    "%matplotlib inline\n",
    "\n",
    "\n",
    "latent_node_features = mpex.get_latent_features()\n",
    "\n",
    "factors_raw = [[],[]]\n",
    "for layernum, layer in enumerate([model.architectures[0].mp[0], model.architectures[0].mp[3]]):\n",
    "    factors = []\n",
    "    for i in range(len(adjacency_names) + 1):\n",
    "        beta, gamma = mpex.get_beta_gamma(latent_node_features, layer, i)\n",
    "        factor = (gamma/beta).detach().abs().numpy()\n",
    "        factors_raw[layernum].append(factor.flatten())\n",
    "        factors.append(np.mean(factor).item())\n",
    "    print(factors)\n",
    "    latent_node_features = model.architectures[0].mp[0](latent_node_features, edge_index)\n",
    "    latent_node_features = model.architectures[0].mp[1](latent_node_features)\n",
    "    latent_node_features = model.architectures[0].mp[2](latent_node_features)\n",
    "\n",
    "latent_node_features = mpex.get_latent_features()"
   ]
  },
  {
   "cell_type": "code",
   "execution_count": 26,
   "metadata": {},
   "outputs": [
    {
     "data": {
      "text/plain": [
       "851200"
      ]
     },
     "execution_count": 26,
     "metadata": {},
     "output_type": "execute_result"
    }
   ],
   "source": [
    "factor.shape[0] * factor.shape[1]"
   ]
  },
  {
   "cell_type": "code",
   "execution_count": 31,
   "metadata": {},
   "outputs": [
    {
     "data": {
      "image/png": "[encoded data removed]",
      "text/plain": [
       "<Figure size 1080x576 with 1 Axes>"
      ]
     },
     "metadata": {
      "needs_background": "light"
     },
     "output_type": "display_data"
    }
   ],
   "source": [
    "fig, ax = plt.subplots(figsize=(15, 8))\n",
    "\n",
    "patches = []\n",
    "\n",
    "for layernum in [0,1]:\n",
    "    x = np.arange(len(factors_raw[layernum]))\n",
    "    bp = ax.boxplot([np.log10(array) for array in factors_raw[layernum]], positions=(x - 0.2) + (0.4 * layernum), widths=0.3,\n",
    "                    flierprops={'marker': 'x', 'markersize': 2, 'markeredgecolor': 'lightgray'})\n",
    "    for median in bp['medians']:\n",
    "        median.set(color ='green' if layernum == 0 else \"red\",\n",
    "        linewidth=3, solid_capstyle=\"butt\")\n",
    "    for artist in bp['boxes']:\n",
    "        patch = mpatches.PathPatch(artist.get_path(), color=\"white\")\n",
    "        ax.add_artist(patch)\n",
    "    patches.append(ax.scatter((x - 0.2) + (0.4 * layernum), [np.log10(np.mean(array)) for array in factors_raw[layernum]], color ='green' if layernum == 0 else \"red\", zorder= 10))\n",
    "\n",
    "ax.set_ylim((-2, 2))\n",
    "#ax.set_yticks(np.arange(16) -6, [str(number) for number in np.arange(16) -6], fontsize=12)\n",
    "ax.grid(True, color=\"lightgray\")\n",
    "ax.set_xticks(x, [\"Identity\"] + adjacency_names, fontsize=12)\n",
    "ax.set_xlabel(\"Adjacency\", fontsize=14)\n",
    "ax.set_ylabel(\"gamma / beta\", fontsize=14)\n",
    "fig.autofmt_xdate(rotation=90, ha=\"center\")\n",
    "\n",
    "patches.extend([Line2D([0], [0], color=\"green\", lw=3),\n",
    "                Line2D([0], [0], color=\"red\", lw=3)])\n",
    "\n",
    "plt.legend(patches, [\"Layer 1 Mean\", \"Layer 2 Mean\", \"Layer 1 Median\", \"Layer 2 Median\"],loc=\"upper center\", ncol=len(patches))\n",
    "plt.tight_layout()"
   ]
  },
  {
   "cell_type": "code",
   "execution_count": 20,
   "metadata": {},
   "outputs": [],
   "source": [
    "from speos.utils.nn_utils import typed_edges_to_sparse_tensor\n",
    "\n",
    "edge_index, encoder = typed_edges_to_sparse_tensor(dataset.data.x, dataset.data.edge_index_dict)"
   ]
  },
  {
   "cell_type": "code",
   "execution_count": 37,
   "metadata": {},
   "outputs": [],
   "source": [
    "middle_mp_latent_node_features = model.architectures[0].mp[0](latent_node_features, edge_index)\n",
    "middle_mp_latent_node_features = model.architectures[0].mp[1](middle_mp_latent_node_features)\n",
    "middle_mp_latent_node_features = model.architectures[0].mp[2](middle_mp_latent_node_features)"
   ]
  },
  {
   "cell_type": "code",
   "execution_count": 21,
   "metadata": {},
   "outputs": [
    {
     "ename": "NameError",
     "evalue": "name 'middle_mp_latent_node_features' is not defined",
     "output_type": "error",
     "traceback": [
      "\u001b[0;31m---------------------------------------------------------------------------\u001b[0m",
      "\u001b[0;31mNameError\u001b[0m                                 Traceback (most recent call last)",
      "\u001b[0;32m/tmp/ipykernel_86824/4026895610.py\u001b[0m in \u001b[0;36m<module>\u001b[0;34m\u001b[0m\n\u001b[1;32m      1\u001b[0m \u001b[0;32mfor\u001b[0m \u001b[0mi\u001b[0m \u001b[0;32min\u001b[0m \u001b[0mrange\u001b[0m\u001b[0;34m(\u001b[0m\u001b[0mlen\u001b[0m\u001b[0;34m(\u001b[0m\u001b[0madjacency_names\u001b[0m\u001b[0;34m)\u001b[0m \u001b[0;34m+\u001b[0m \u001b[0;36m1\u001b[0m\u001b[0;34m)\u001b[0m\u001b[0;34m:\u001b[0m\u001b[0;34m\u001b[0m\u001b[0;34m\u001b[0m\u001b[0m\n\u001b[0;32m----> 2\u001b[0;31m     \u001b[0mbeta\u001b[0m\u001b[0;34m,\u001b[0m \u001b[0mgamma\u001b[0m \u001b[0;34m=\u001b[0m \u001b[0mmpex\u001b[0m\u001b[0;34m.\u001b[0m\u001b[0mget_beta_gamma\u001b[0m\u001b[0;34m(\u001b[0m\u001b[0mmiddle_mp_latent_node_features\u001b[0m\u001b[0;34m,\u001b[0m \u001b[0mmodel\u001b[0m\u001b[0;34m.\u001b[0m\u001b[0marchitectures\u001b[0m\u001b[0;34m[\u001b[0m\u001b[0;36m0\u001b[0m\u001b[0;34m]\u001b[0m\u001b[0;34m.\u001b[0m\u001b[0mmp\u001b[0m\u001b[0;34m[\u001b[0m\u001b[0;36m3\u001b[0m\u001b[0;34m]\u001b[0m\u001b[0;34m,\u001b[0m \u001b[0mi\u001b[0m\u001b[0;34m)\u001b[0m\u001b[0;34m\u001b[0m\u001b[0;34m\u001b[0m\u001b[0m\n\u001b[0m\u001b[1;32m      3\u001b[0m     \u001b[0mfactor\u001b[0m \u001b[0;34m=\u001b[0m \u001b[0;34m(\u001b[0m\u001b[0mgamma\u001b[0m\u001b[0;34m/\u001b[0m\u001b[0mbeta\u001b[0m\u001b[0;34m)\u001b[0m\u001b[0;34m.\u001b[0m\u001b[0mabs\u001b[0m\u001b[0;34m(\u001b[0m\u001b[0;34m)\u001b[0m\u001b[0;34m.\u001b[0m\u001b[0msum\u001b[0m\u001b[0;34m(\u001b[0m\u001b[0;34m)\u001b[0m \u001b[0;34m/\u001b[0m \u001b[0;34m(\u001b[0m\u001b[0mgamma\u001b[0m\u001b[0;34m.\u001b[0m\u001b[0mshape\u001b[0m\u001b[0;34m[\u001b[0m\u001b[0;36m0\u001b[0m\u001b[0;34m]\u001b[0m \u001b[0;34m*\u001b[0m \u001b[0mgamma\u001b[0m\u001b[0;34m.\u001b[0m\u001b[0mshape\u001b[0m\u001b[0;34m[\u001b[0m\u001b[0;36m1\u001b[0m\u001b[0;34m]\u001b[0m\u001b[0;34m)\u001b[0m\u001b[0;34m\u001b[0m\u001b[0;34m\u001b[0m\u001b[0m\n\u001b[1;32m      4\u001b[0m     \u001b[0mprint\u001b[0m\u001b[0;34m(\u001b[0m\u001b[0;34m\"{}: {}\"\u001b[0m\u001b[0;34m.\u001b[0m\u001b[0mformat\u001b[0m\u001b[0;34m(\u001b[0m\u001b[0;34m\"Identity\"\u001b[0m \u001b[0;32mif\u001b[0m \u001b[0mi\u001b[0m \u001b[0;34m==\u001b[0m \u001b[0;36m0\u001b[0m \u001b[0;32melse\u001b[0m \u001b[0madjacency_names\u001b[0m\u001b[0;34m[\u001b[0m\u001b[0mi\u001b[0m\u001b[0;34m-\u001b[0m\u001b[0;36m1\u001b[0m\u001b[0;34m]\u001b[0m\u001b[0;34m,\u001b[0m \u001b[0mfactor\u001b[0m\u001b[0;34m)\u001b[0m\u001b[0;34m)\u001b[0m\u001b[0;34m\u001b[0m\u001b[0;34m\u001b[0m\u001b[0m\n",
      "\u001b[0;31mNameError\u001b[0m: name 'middle_mp_latent_node_features' is not defined"
     ]
    }
   ],
   "source": [
    "for i in range(len(adjacency_names) + 1):\n",
    "    beta, gamma = mpex.get_beta_gamma(middle_mp_latent_node_features, model.architectures[0].mp[3], i)\n",
    "    factor = (gamma/beta).abs().sum() / (gamma.shape[0] * gamma.shape[1])\n",
    "    print(\"{}: {}\".format(\"Identity\" if i == 0 else adjacency_names[i-1], factor))"
   ]
  },
  {
   "cell_type": "markdown",
   "metadata": {},
   "source": [
    "### As we have expected, gamma is much higher than beta. Thus, we only have to ascertain how the sender's message factors into this"
   ]
  },
  {
   "cell_type": "code",
   "execution_count": 22,
   "metadata": {},
   "outputs": [
    {
     "name": "stdout",
     "output_type": "stream",
     "text": [
      "                      Layer 0   Layer 1\n",
      "BioPlex30293T        0.103280  0.094736\n",
      "BioPlex30HCT116      0.126973  0.072022\n",
      "GRNDBadiposetissue   0.113403  0.694666\n",
      "GRNDBadrenalgland    0.098036  0.653938\n",
      "GRNDBbloodvessel     0.096195  0.772207\n",
      "GRNDBbloodx          0.100195  0.555391\n",
      "GRNDBbrain           0.098100  0.533155\n",
      "GRNDBbreast          0.091735  0.578475\n",
      "GRNDBcolon           0.114412  0.612393\n",
      "GRNDBesophagus       0.096473  0.609067\n",
      "GRNDBheart           0.105019  0.520020\n",
      "GRNDBkidney          0.104797  0.512127\n",
      "GRNDBliver           0.114014  0.719740\n",
      "GRNDBlung            0.104456  0.739172\n",
      "GRNDBmuscle          0.100743  0.587165\n",
      "GRNDBnerve           0.087702  0.628843\n",
      "GRNDBovary           0.099834  0.525339\n",
      "GRNDBpancreas        0.100836  0.622521\n",
      "GRNDBpituitary       0.093991  0.788705\n",
      "GRNDBprostate        0.092567  0.601338\n",
      "GRNDBsalivarygland   0.102044  0.587307\n",
      "GRNDBskin            0.087657  0.484121\n",
      "GRNDBsmallintestine  0.098700  0.624748\n",
      "GRNDBspleen          0.110079  0.568722\n",
      "GRNDBstomach         0.103353  0.493434\n",
      "GRNDBtestis          0.103114  0.474760\n",
      "GRNDBthyroid         0.114584  0.488798\n",
      "GRNDButerus          0.124535  0.468321\n",
      "GRNDBvagina          0.115680  0.536622\n",
      "HuRI                 0.100293  0.131673\n",
      "IntActDirect         0.110867  0.099790\n",
      "IntActPA             0.118521  0.097485\n",
      "hetionetcovaries     0.098004  0.132659\n",
      "hetionetregulates    0.109474  0.137658\n"
     ]
    }
   ],
   "source": [
    "from torch_sparse import SparseTensor, masked_select_nnz\n",
    "import torch\n",
    "import pandas as pd\n",
    "import matplotlib.pyplot as plt\n",
    "import pandas as pd\n",
    "import numpy as np\n",
    "\n",
    "import matplotlib.patches as mpatches\n",
    "from matplotlib.lines import Line2D\n",
    "%matplotlib inline\n",
    "\n",
    "\n",
    "adjacencies = encoder.inverse_transform(torch.unique(edge_index.storage.value()).long())\n",
    "\n",
    "df = pd.DataFrame(index = adjacencies.tolist())\n",
    "\n",
    "\n",
    "latent_node_features = mpex.get_latent_features()\n",
    "\n",
    "\n",
    "\n",
    "factors_raw = [[],[]]\n",
    "for layernum, layer in enumerate([model.architectures[0].mp[0], model.architectures[0].mp[3]]):\n",
    "    factors = []\n",
    "    for i in range(len(adjacencies)):\n",
    "        beta, gamma = mpex.get_beta_gamma(latent_node_features, layer, i + 1)\n",
    "        \n",
    "        lin = layer.lins[i]\n",
    "\n",
    "        edge_type = edge_index.storage.value()\n",
    "        assert edge_type is not None\n",
    "        mask = edge_type == i \n",
    "        masked_edge_index = masked_select_nnz(edge_index, mask, layout='coo')\n",
    "\n",
    "        senders_message = lin(latent_node_features[masked_edge_index.storage.row(), :])\n",
    "        receiver_gamma = gamma[masked_edge_index.storage.col(), :]\n",
    "        receiver_beta = beta[masked_edge_index.storage.col(), :]\n",
    "\n",
    "        #factor = (receiver_gamma/(senders_message * receiver_beta)).abs().sum() / (gamma.shape[0] * gamma.shape[1])\n",
    "\n",
    "        factor = (((senders_message * receiver_beta) / receiver_gamma)).detach().abs().numpy()\n",
    "        #factor = factor / ((senders_message * receiver_beta) + receiver_gamma).detach().abs().numpy()\n",
    "        #factor = ((((senders_message * receiver_gamma) / receiver_beta) * (senders_message / receiver_gamma)) / senders_message.abs()).detach().abs().numpy()\n",
    "        factors_raw[layernum].append(factor.flatten())\n",
    "        factors.append(np.median(factor).item())\n",
    "        #print(\"{}: {}\".format(\"Identity\" if i == 0 else adjacency_names[i-1], factor))\n",
    "    df[\"Layer {}\".format(layernum)] = factors\n",
    "\n",
    "    latent_node_features = model.architectures[0].mp[0](latent_node_features, edge_index)\n",
    "    latent_node_features = model.architectures[0].mp[1](latent_node_features)\n",
    "    latent_node_features = model.architectures[0].mp[2](latent_node_features)\n",
    "\n",
    "latent_node_features = mpex.get_latent_features()\n",
    "print(df)"
   ]
  },
  {
   "cell_type": "code",
   "execution_count": 33,
   "metadata": {},
   "outputs": [
    {
     "data": {
      "image/png": "[encoded data removed]",
      "text/plain": [
       "<Figure size 1080x576 with 1 Axes>"
      ]
     },
     "metadata": {
      "needs_background": "light"
     },
     "output_type": "display_data"
    }
   ],
   "source": [
    "fig, ax = plt.subplots(figsize=(15, 8))\n",
    "\n",
    "patches = []\n",
    "\n",
    "for layernum in [0,1]:\n",
    "    x = np.arange(len(factors_raw[layernum]))\n",
    "    bp = ax.boxplot([np.log10(array) for array in factors_raw[layernum]], positions=(x - 0.2) + (0.4 * layernum), widths=0.3,\n",
    "                    flierprops={'marker': 'x', 'markersize': 2, 'markeredgecolor': 'lightgray'})\n",
    "    for median in bp['medians']:\n",
    "        median.set(color ='green' if layernum == 0 else \"red\",\n",
    "        linewidth=3, solid_capstyle=\"butt\")\n",
    "    for artist in bp['boxes']:\n",
    "        patch = mpatches.PathPatch(artist.get_path(), color=\"white\")\n",
    "        ax.add_artist(patch)\n",
    "    patches.append(ax.scatter((x - 0.2) + (0.4 * layernum), [np.log10(np.mean(array)) for array in factors_raw[layernum]], color ='green' if layernum == 0 else \"red\", zorder= 10))\n",
    "\n",
    "ax.set_ylim((-7, 10))\n",
    "ax.set_yticks(np.arange(16) -6, [str(number) for number in np.arange(16) -6], fontsize=12)\n",
    "ax.grid(True, color=\"lightgray\")\n",
    "ax.set_xticks(x, adjacency_names, fontsize=12)\n",
    "ax.set_xlabel(\"Adjacency\", fontsize=14)\n",
    "ax.set_ylabel(\"log(gamma / (beta * x))\", fontsize=14)\n",
    "fig.autofmt_xdate(rotation=90, ha=\"center\")\n",
    "\n",
    "patches.extend([Line2D([0], [0], color=\"green\", lw=3),\n",
    "                Line2D([0], [0], color=\"red\", lw=3)])\n",
    "\n",
    "plt.legend(patches, [\"Layer 1 Mean\", \"Layer 2 Mean\", \"Layer 1 Median\", \"Layer 2 Median\"],loc=\"upper center\", ncol=len(patches))\n",
    "plt.tight_layout()\n",
    "\n",
    "#plt.savefig(\"gamma_beta.pdf\", bbox_inches=\"tight\")"
   ]
  },
  {
   "cell_type": "code",
   "execution_count": 30,
   "metadata": {},
   "outputs": [
    {
     "data": {
      "image/png": "[encoded data removed]",
      "text/plain": [
       "<Figure size 510.236x240.945 with 2 Axes>"
      ]
     },
     "metadata": {
      "needs_background": "light"
     },
     "output_type": "display_data"
    }
   ],
   "source": [
    "\n",
    "gs_kw = dict(width_ratios=[1,0.02])\n",
    "from speos.visualization.settings import *\n",
    "import matplotlib.pyplot as plt\n",
    "\n",
    "fig, (ax, ax2) = plt.subplots(1,2, figsize=(full_width*cm, (17*cm)/2), gridspec_kw=gs_kw)\n",
    "\n",
    "import numpy as np\n",
    "from matplotlib import cm\n",
    "import matplotlib as mpl\n",
    "from numpy import linspace\n",
    "\n",
    "patches = []\n",
    "\n",
    "\n",
    "start = 0.0\n",
    "stop = 1.0\n",
    "number_of_lines = 7\n",
    "alpha = 0.7\n",
    "cm_subsection = linspace(stop, start, number_of_lines)\n",
    "colors = [cm.viridis(x) for x in cm_subsection]\n",
    "colors = [color[:3] + (alpha,) for color in colors]\n",
    "\n",
    "for layernum in [0]:\n",
    "    x = np.arange(len(factors_raw[layernum]))\n",
    "\n",
    "    factors_transformed = [np.log10(array) for array in factors_raw[layernum]]\n",
    "    q001_, q01_, q25_, q50_, q75_, q90_, q99_ = [[np.quantile(_factors, k) for  _factors in factors_transformed] for k in [0.01, 0.1, 0.25, 0.5, 0.75, 0.9, 0.99]]\n",
    "\n",
    "    steps = []\n",
    "    steps.append(ax.step(y=q001_, x =x-0.5, where = \"post\", c=\"lightgray\",zorder=-1, linewidth=0.5)[0])\n",
    "    steps.append(ax.step(y=q01_, x =x-0.5, where = \"post\", c=\"lightgray\", zorder=-1, linewidth=0.5)[0])\n",
    "    steps.append(ax.step(y=q25_, x =x-0.5, where = \"post\", c=\"lightgray\", zorder=-1, linewidth=0.5)[0])\n",
    "    steps.append(ax.step(y=q50_, x =x-0.5, where = \"post\", c=\"lightgray\", zorder=-1, linewidth=0.5)[0])\n",
    "    steps.append(ax.step(y=q75_, x =x-0.5, where = \"post\", c=\"lightgray\", zorder=-1, linewidth=0.5)[0])\n",
    "    steps.append(ax.step(y=q90_, x =x-0.5, where = \"post\", c=\"lightgray\", zorder=-1, linewidth=0.5)[0])\n",
    "    steps.append(ax.step(y=q99_, x =x-0.5, where = \"post\", c=\"lightgray\", zorder=-1, linewidth=0.5)[0])\n",
    "\n",
    "    for i in range(1, len(steps)):\n",
    "        ax.fill_between(x=[value-0.5 if index %2 == 0 else value+0.5 for index, value in enumerate(np.repeat(x,2))], \n",
    "                        y1=np.repeat(steps[i-1].get_ydata(), 2), \n",
    "                        y2=np.repeat(steps[i].get_ydata(), 2), zorder=5,\n",
    "                        linewidth=0.5,\n",
    "                        color =colors[i-1])\n",
    "\n",
    "\n",
    "#ax.set_ylim((-7, 10))\n",
    "#ax.set_yticks(np.arange(16) -6, [str(number) for number in np.arange(16) -6], fontsize=12)\n",
    "ax.grid(True, color=\"gray\", zorder = -1)\n",
    "ax.set_xticks(x, adjacencies.tolist(), fontsize=medium_font)\n",
    "ax.set_xlabel(\"Network\", fontsize=medium_font)\n",
    "ax.set_ylabel(\"log(gamma * x / beta)\", fontsize=small_font)\n",
    "fig.autofmt_xdate(rotation=90, ha=\"center\")\n",
    "\n",
    "cmap = (mpl.colors.ListedColormap(colors[:len(steps)-1]).with_extremes(over='white', under='white'))\n",
    "\n",
    "\n",
    "bounds = [0.01, 0.1, 0.25, 0.5, 0.75, 0.9, 0.99]\n",
    "norm = mpl.colors.BoundaryNorm(bounds, cmap.N)\n",
    "cbar = fig.colorbar(\n",
    "    mpl.cm.ScalarMappable(cmap=cmap, norm=norm),\n",
    "    cax=ax2,\n",
    "    extend='both',\n",
    "    ticks=bounds,\n",
    "    spacing='proportional',\n",
    "    orientation='vertical',\n",
    "    label=\"Interquantile Ranges\"\n",
    ")\n",
    "\n",
    "#cbar.ax.set_xticklabels([\".01\", \".1\", \".25\", \".5\", \".75\", \".9\",\".99\"]) \n",
    "cbar.ax.tick_params(labelsize=small_font)\n",
    "cbar.set_label(label=\"Interquantile Ranges\", fontsize=medium_font)\n",
    "plt.tight_layout()\n",
    "plt.subplots_adjust(wspace=0.05)\n",
    "\n",
    "plt.savefig(\"gamma_delta_1_2.svg\", bbox_inches=\"tight\")"
   ]
  },
  {
   "cell_type": "code",
   "execution_count": 31,
   "metadata": {},
   "outputs": [
    {
     "data": {
      "image/png": "[encoded data removed]",
      "text/plain": [
       "<Figure size 510.236x240.945 with 2 Axes>"
      ]
     },
     "metadata": {
      "needs_background": "light"
     },
     "output_type": "display_data"
    }
   ],
   "source": [
    "gs_kw = dict(width_ratios=[1,0.02])\n",
    "\n",
    "from speos.visualization.settings import *\n",
    "import matplotlib.pyplot as plt\n",
    "\n",
    "fig, (ax, ax2) = plt.subplots(1,2, figsize=(full_width*cm, (17*cm)/2), gridspec_kw=gs_kw)\n",
    "\n",
    "import numpy as np\n",
    "from matplotlib import cm\n",
    "import matplotlib as mpl\n",
    "from numpy import linspace\n",
    "\n",
    "patches = []\n",
    "\n",
    "\n",
    "start = 0.0\n",
    "stop = 1.0\n",
    "number_of_lines = 7\n",
    "alpha = 0.7\n",
    "cm_subsection = linspace(stop, start, number_of_lines)\n",
    "colors = [cm.viridis(x) for x in cm_subsection]\n",
    "colors = [color[:3] + (alpha,) for color in colors]\n",
    "\n",
    "for layernum in [1]:\n",
    "    x = np.arange(len(factors_raw[layernum]))\n",
    "\n",
    "    factors_transformed = [np.log10(array) for array in factors_raw[layernum]]\n",
    "    q001_, q01_, q25_, q50_, q75_, q90_, q99_ = [[np.quantile(_factors, k) for  _factors in factors_transformed] for k in [0.01, 0.1, 0.25, 0.5, 0.75, 0.9, 0.99]]\n",
    "\n",
    "    steps = []\n",
    "    steps.append(ax.step(y=q001_, x =x-0.5, where = \"post\", c=\"lightgray\",zorder=-1, linewidth=0.5)[0])\n",
    "    steps.append(ax.step(y=q01_, x =x-0.5, where = \"post\", c=\"lightgray\", zorder=-1, linewidth=0.5)[0])\n",
    "    steps.append(ax.step(y=q25_, x =x-0.5, where = \"post\", c=\"lightgray\", zorder=-1, linewidth=0.5)[0])\n",
    "    steps.append(ax.step(y=q50_, x =x-0.5, where = \"post\", c=\"lightgray\", zorder=-1, linewidth=0.5)[0])\n",
    "    steps.append(ax.step(y=q75_, x =x-0.5, where = \"post\", c=\"lightgray\", zorder=-1, linewidth=0.5)[0])\n",
    "    steps.append(ax.step(y=q90_, x =x-0.5, where = \"post\", c=\"lightgray\", zorder=-1, linewidth=0.5)[0])\n",
    "    steps.append(ax.step(y=q99_, x =x-0.5, where = \"post\", c=\"lightgray\", zorder=-1, linewidth=0.5)[0])\n",
    "\n",
    "    for i in range(1, len(steps)):\n",
    "        ax.fill_between(x=[value-0.5 if index %2 == 0 else value+0.5 for index, value in enumerate(np.repeat(x,2))], \n",
    "                        y1=np.repeat(steps[i-1].get_ydata(), 2), \n",
    "                        y2=np.repeat(steps[i].get_ydata(), 2), zorder=5,\n",
    "                        linewidth=0.5,\n",
    "                        color =colors[i-1])\n",
    "\n",
    "\n",
    "#ax.set_ylim((-7, 10))\n",
    "#ax.set_yticks(np.arange(16) -6, [str(number) for number in np.arange(16) -6], fontsize=12)\n",
    "ax.grid(True, color=\"gray\", zorder = -1)\n",
    "ax.set_xticks(x, adjacencies.tolist(), fontsize=medium_font)\n",
    "ax.set_xlabel(\"Network\", fontsize=large_font)\n",
    "ax.set_ylabel(\"log(gamma / (beta * x))\", fontsize=small_font)\n",
    "fig.autofmt_xdate(rotation=90, ha=\"center\")\n",
    "\n",
    "cmap = (mpl.colors.ListedColormap(colors[:len(steps)-1]).with_extremes(over='white', under='white'))\n",
    "\n",
    "\n",
    "bounds = [0.01, 0.1, 0.25, 0.5, 0.75, 0.9, 0.99]\n",
    "norm = mpl.colors.BoundaryNorm(bounds, cmap.N)\n",
    "cbar = fig.colorbar(\n",
    "    mpl.cm.ScalarMappable(cmap=cmap, norm=norm),\n",
    "    cax=ax2,\n",
    "    extend='both',\n",
    "    ticks=bounds,\n",
    "    spacing='proportional',\n",
    "    orientation='vertical',\n",
    "    label=\"Interquantile Ranges\"\n",
    ")\n",
    "\n",
    "#cbar.ax.set_xticklabels([\".01\", \".1\", \".25\", \".5\", \".75\", \".9\",\".99\"]) \n",
    "cbar.ax.tick_params(labelsize=small_font)\n",
    "cbar.set_label(label=\"Interquantile Ranges\", fontsize=medium_font)\n",
    "plt.tight_layout()\n",
    "plt.subplots_adjust(wspace=0.05)\n",
    "\n",
    "plt.savefig(\"gamma_delta_2_2.svg\", bbox_inches=\"tight\")"
   ]
  },
  {
   "cell_type": "markdown",
   "metadata": {},
   "source": [
    "# Trying to tease it apart for nodes TNFSF15 and IL18RAP"
   ]
  },
  {
   "cell_type": "code",
   "execution_count": 76,
   "metadata": {},
   "outputs": [
    {
     "name": "stderr",
     "output_type": "stream",
     "text": [
      "/home/icb/florin.ratajczak/anaconda3/envs/compat/lib/python3.7/site-packages/numpy/core/fromnumeric.py:3441: RuntimeWarning: Mean of empty slice.\n",
      "  out=out, **kwargs)\n",
      "/home/icb/florin.ratajczak/anaconda3/envs/compat/lib/python3.7/site-packages/numpy/core/_methods.py:189: RuntimeWarning: invalid value encountered in double_scalars\n",
      "  ret = ret.dtype.type(ret / rcount)\n"
     ]
    },
    {
     "name": "stdout",
     "output_type": "stream",
     "text": [
      "                      Layer 0   Layer 1\n",
      "Identity             0.177840  0.113986\n",
      "BioPlex30293T        0.063132  0.074010\n",
      "BioPlex30HCT116           NaN       NaN\n",
      "GRNDBadiposetissue   0.153788  0.712017\n",
      "GRNDBadrenalgland    0.079235  0.706244\n",
      "GRNDBbloodvessel     0.109531  0.861124\n",
      "GRNDBbloodx          0.133290  0.866432\n",
      "GRNDBbrain           0.144708  0.677745\n",
      "GRNDBbreast          0.082641  0.662819\n",
      "GRNDBcolon           0.156742  0.804638\n",
      "GRNDBesophagus       0.207393  0.667815\n",
      "GRNDBheart           0.111400  0.404736\n",
      "GRNDBkidney          0.167045  0.586322\n",
      "GRNDBliver           0.115708  0.957475\n",
      "GRNDBlung            0.067541  1.231776\n",
      "GRNDBmuscle          0.138812  0.635859\n",
      "GRNDBnerve           0.127941  0.621217\n",
      "GRNDBovary           0.145475  0.457737\n",
      "GRNDBpancreas        0.137207  0.923731\n",
      "GRNDBpituitary       0.092904  0.661941\n",
      "GRNDBprostate        0.156420  0.886920\n",
      "GRNDBsalivarygland   0.163421  0.585552\n",
      "GRNDBskin            0.115798  0.454937\n",
      "GRNDBsmallintestine  0.163058  0.884615\n",
      "GRNDBspleen          0.139405  0.713322\n",
      "GRNDBstomach         0.122925  0.838547\n",
      "GRNDBtestis          0.115802  0.428668\n",
      "GRNDBthyroid         0.102665  0.575892\n",
      "GRNDButerus          0.165056  0.621142\n",
      "GRNDBvagina          0.148391  0.483730\n",
      "HuRI                      NaN       NaN\n",
      "IntActDirect              NaN       NaN\n",
      "IntActPA             0.253953  0.128165\n",
      "hetionetcovaries     0.049169  0.230420\n",
      "hetionetregulates         NaN       NaN\n"
     ]
    }
   ],
   "source": [
    "from torch_sparse import SparseTensor, masked_select_nnz\n",
    "import torch\n",
    "import pandas as pd\n",
    "import matplotlib.pyplot as plt\n",
    "import pandas as pd\n",
    "import numpy as np\n",
    "\n",
    "import matplotlib.patches as mpatches\n",
    "from matplotlib.lines import Line2D\n",
    "%matplotlib inline\n",
    "\n",
    "node_id = 6749 #  15145    #\n",
    "\n",
    "adjacencies = encoder.inverse_transform(torch.unique(edge_index.storage.value()).long())\n",
    "\n",
    "df = pd.DataFrame(index = [\"Identity\"] + adjacencies.tolist())\n",
    "\n",
    "latent_node_features = mpex.get_latent_features()\n",
    "\n",
    "\n",
    "\n",
    "factors_raw = [[],[]]\n",
    "messages_raw = [[],[]]\n",
    "gammas_raw = [[],[]]\n",
    "betas_raw = [[],[]]\n",
    "final_messages = [[],[]]\n",
    "for layernum, layer in enumerate([model.architectures[0].mp[0], model.architectures[0].mp[3]]):\n",
    "    factors = []\n",
    "    for i in range(len(adjacencies) + 1):\n",
    "        beta, gamma = mpex.get_beta_gamma(latent_node_features, layer, i)\n",
    "        if i == 0:\n",
    "            lin = layer.lin_skip\n",
    "        else:\n",
    "            lin = layer.lins[i - 1]\n",
    "\n",
    "        if i == 0:\n",
    "            masked_edge_index = torch.LongTensor((range(latent_node_features.shape[0]), range(latent_node_features.shape[0])))\n",
    "\n",
    "            senders_message = lin(latent_node_features[masked_edge_index[0, node_id], :])\n",
    "            receiver_gamma = gamma[masked_edge_index[1, node_id], :]\n",
    "            receiver_beta = beta[masked_edge_index[1, node_id], :]\n",
    "\n",
    "        else:\n",
    "            edge_type = edge_index.storage.value()\n",
    "            assert edge_type is not None\n",
    "            mask = edge_type == i - 1\n",
    "            masked_edge_index = masked_select_nnz(edge_index, mask, layout='coo')\n",
    "\n",
    "            senders_message = lin(latent_node_features[masked_edge_index[:, node_id].storage.row(), :])\n",
    "            receiver_gamma = gamma[node_id, :]\n",
    "            receiver_beta = beta[node_id, :]\n",
    "\n",
    "        messages_raw[layernum].append(senders_message)\n",
    "        gammas_raw[layernum].append(receiver_gamma)\n",
    "        betas_raw[layernum].append(receiver_beta)\n",
    "        final_messages[layernum].append((receiver_beta * senders_message) +  receiver_gamma)\n",
    "\n",
    "\n",
    "        #factor = (receiver_gamma/(senders_message * receiver_beta)).abs().sum() / (gamma.shape[0] * gamma.shape[1])\n",
    "        factor = (((senders_message * receiver_beta) / receiver_gamma)).detach().abs().numpy()\n",
    "        #factor = (receiver_gamma/(senders_message * receiver_beta)).detach().abs().numpy()\n",
    "        factors_raw[layernum].append(factor)\n",
    "        factors.append(np.median(factor).item())\n",
    "        #print(\"{}: {}\".format(\"Identity\" if i == 0 else adjacency_names[i-1], factor))\n",
    "    df[\"Layer {}\".format(layernum)] = factors\n",
    "\n",
    "    latent_node_features = model.architectures[0].mp[0](latent_node_features, edge_index)\n",
    "    latent_node_features = model.architectures[0].mp[1](latent_node_features)\n",
    "    latent_node_features = model.architectures[0].mp[2](latent_node_features)\n",
    "\n",
    "latent_node_features = mpex.get_latent_features()\n",
    "print(df)"
   ]
  },
  {
   "cell_type": "code",
   "execution_count": 79,
   "metadata": {},
   "outputs": [],
   "source": [
    "by_adjacency = {}\n",
    "\n",
    "for adj, edges in zip(adjacencies.tolist(), (factors_raw[1][1:])):\n",
    "    by_adjacency.update({adj:  np.median(edges, axis=1)})"
   ]
  },
  {
   "cell_type": "code",
   "execution_count": 80,
   "metadata": {},
   "outputs": [
    {
     "name": "stdout",
     "output_type": "stream",
     "text": [
      "BioPlex30293T\n",
      "tensor([10725])\n",
      "[0.07401009]\n",
      "GRNDBadiposetissue\n",
      "tensor([ 1352,  2519,  5242,  8123, 12014])\n",
      "[0.60863947 1.00591378 0.69418557 0.42994393 1.02609901]\n",
      "GRNDBadrenalgland\n",
      "tensor([ 1084,  1352,  2519,  4600,  4669,  4676,  5241,  9339, 12015, 12016,\n",
      "        12538, 14544])\n",
      "[0.98706881 0.72342239 0.85252906 0.62363521 0.50873335 0.5617957\n",
      " 0.45940043 0.96116256 0.87331154 0.51168216 0.66784927 0.51413582]\n",
      "GRNDBbloodvessel\n",
      "tensor([ 1352,  3277,  4422,  4668,  4675,  5186,  5241,  6693,  6903,  6910,\n",
      "         6912,  6913,  8973,  9339, 11262, 13865])\n",
      "[0.68677179 0.81395189 0.49002234 0.95291935 0.80145776 0.9796949\n",
      " 0.5733443  1.0578989  1.07004327 1.18972749 0.83680763 0.74471894\n",
      " 0.77408338 1.0881111  0.97477284 1.71232782]\n",
      "GRNDBbloodx\n",
      "tensor([ 2520, 14367])\n",
      "[1.04045268 0.68681259]\n",
      "GRNDBbrain\n",
      "tensor([ 5241,  5242,  6903,  6912,  8973,  9346, 14081, 14083])\n",
      "[0.49797285 0.66393036 0.65622908 0.73710712 0.68912214 0.62241735\n",
      " 0.71438831 0.69732911]\n",
      "GRNDBbreast\n",
      "tensor([ 1033,  1278,  3277,  4524,  6693, 11262, 12015])\n",
      "[0.31729543 0.43528094 0.78434469 1.01112689 0.80936815 0.68866428\n",
      " 0.79482541]\n",
      "GRNDBcolon\n",
      "tensor([ 1352,  2519,  4668,  5186,  5241,  5242,  6903,  8123,  9339, 12538,\n",
      "        12540, 13865])\n",
      "[0.6571593  0.85731008 1.10641918 0.90518106 0.63050037 0.64812924\n",
      " 0.85697261 0.4353258  0.9997628  0.94297026 0.98531854 1.35631288]\n",
      "GRNDBesophagus\n",
      "tensor([ 1303,  1352,  4668,  4669,  6693,  6903,  6909,  6913,  7050,  8123,\n",
      "         8973,  9339,  9346, 12016, 12538, 12540, 12541, 13865, 14079, 14081,\n",
      "        14480, 16229])\n",
      "[0.79175977 0.5985453  0.85552008 0.39240537 0.67758802 0.64605993\n",
      " 0.95492413 0.63629515 1.19227919 0.47529131 0.68563759 0.6726568\n",
      " 0.66848141 0.5040986  0.82056392 0.71401142 0.87309067 0.87522521\n",
      " 0.83593754 0.63839699 0.46121574 0.66977353]\n",
      "GRNDBheart\n",
      "tensor([  924,  1278,  1303,  1352,  1353,  2519,  2521,  4600,  4669,  4676,\n",
      "         5241,  5242,  5402,  6693,  6903,  8123,  8973,  9339,  9349, 10971,\n",
      "        11262, 12015, 12016, 12538, 12541, 13865, 14081, 14083])\n",
      "[0.42335726 0.26106159 0.4367986  0.35447717 0.57004586 0.45609785\n",
      " 0.25308489 0.38983165 0.32188055 0.40071086 0.3016221  0.50130685\n",
      " 0.31898357 0.45365464 0.37175913 0.25989193 0.46752679 0.48659743\n",
      " 0.35828597 0.28365357 0.43363773 0.47107587 0.32047273 0.46991537\n",
      " 0.59165351 0.65986703 0.48524749 0.38725764]\n",
      "GRNDBkidney\n",
      "tensor([ 1084,  1352,  2519,  4650,  4668,  4676,  5241,  6298,  6342,  6909,\n",
      "         6912,  8123,  8973,  9339,  9349, 10971, 11262, 12016, 12538, 12540,\n",
      "        12541, 14081])\n",
      "[0.6727332  0.58714962 0.56979919 0.57833453 0.77712908 0.68154944\n",
      " 0.54016795 0.45930937 0.71247384 1.00391367 0.76013027 0.40332684\n",
      " 0.46470492 0.59354063 0.62058379 0.41322671 0.69025605 0.44031785\n",
      " 0.71783311 0.74970592 0.86807275 0.66202043]\n",
      "GRNDBliver\n",
      "tensor([ 3277,  4676,  5241,  5242,  5277,  6693,  8125,  8973,  9349, 11262,\n",
      "        13865, 13963, 14660])\n",
      "[0.92491058 1.31650158 0.65589171 1.0410026  0.68570922 1.1676445\n",
      " 0.7126531  1.13030405 1.07806219 0.94703505 2.11613912 0.88418046\n",
      " 0.42615028]\n",
      "GRNDBlung\n",
      "tensor([ 1084,  2521,  4668,  5277,  6693,  8123, 11262, 12015, 13865, 14083])\n",
      "[1.52890498 0.68278884 1.41083862 0.88293755 1.51821637 0.76231857\n",
      " 1.29339859 1.39858043 2.17747584 1.06187158]\n",
      "GRNDBmuscle\n",
      "tensor([ 2519,  4600,  5497,  6693,  8973,  9597, 11262, 12015, 12541, 13865,\n",
      "        14083])\n",
      "[0.72705776 0.66524367 0.56499632 0.6878104  0.69799494 0.42193029\n",
      " 0.55899411 0.64859263 0.59175396 1.22225547 0.78258869]\n",
      "GRNDBnerve\n",
      "tensor([ 4600,  4668,  4669,  4676,  4730,  6299,  6693,  9339, 10971, 11262,\n",
      "        12016, 12541, 14080, 14081, 14082, 14480, 14660, 14673])\n",
      "[0.74990845 0.77348035 0.51712976 0.60537026 0.82154988 0.48028255\n",
      " 0.91578569 0.82830211 0.44554437 0.64094228 0.55124679 0.82998554\n",
      " 0.7162424  0.79727703 0.60047053 0.50329924 0.26178907 0.36880434]\n",
      "GRNDBovary\n",
      "tensor([ 4600,  4675,  4676,  5186,  5497,  5499,  6693,  6913,  9339, 12016,\n",
      "        12541, 13865, 14367])\n",
      "[0.5018287  0.36583939 0.41978503 0.56215295 0.32332435 0.2973691\n",
      " 0.59233528 0.37452071 0.56635375 0.30464312 0.49255809 0.77039543\n",
      " 0.32739373]\n",
      "GRNDBpancreas\n",
      "tensor([ 1279,  1303,  2330,  3277,  4417,  4422,  4600,  4668,  4669,  4676,\n",
      "         5241,  5402,  6567,  6693,  8123,  9346,  9349, 11262, 12538, 12540,\n",
      "        12541, 13865, 13963])\n",
      "[1.46129983 1.15641868 1.22025151 0.8670174  0.63384474 0.56954931\n",
      " 1.01575704 1.26372886 0.75802903 0.81501941 0.63125018 0.71004942\n",
      " 0.76023412 1.0309293  0.79241487 1.34051697 0.83210313 0.97701789\n",
      " 1.10770173 1.14997275 1.24648019 1.74682269 1.03710967]\n",
      "GRNDBpituitary\n",
      "tensor([ 1278,  1303,  4416,  4600,  4669,  4676,  5242,  5277,  6693,  6903,\n",
      "         8123,  8973,  9346, 10971, 12541, 13865, 14499])\n",
      "[0.43540857 0.8876155  0.54716714 0.71906306 0.44034537 0.66497956\n",
      " 0.72501903 0.53847356 0.83795254 0.7315431  0.46410799 0.79490276\n",
      " 0.72225809 0.50853805 0.92815414 0.79192723 0.65347484]\n",
      "GRNDBprostate\n",
      "tensor([ 1352,  1353,  2519,  4597,  4600,  4668,  4669,  4676,  5186,  5241,\n",
      "         5402,  6300,  6693,  6903,  6909,  7050,  8973,  9346,  9349, 11262,\n",
      "        12014, 12016, 12538, 12541, 13865, 14080, 14083, 14660])\n",
      "[0.68453935 0.83176406 0.78232608 0.42820156 0.89988106 1.06624933\n",
      " 0.50219152 0.78230995 1.01741593 0.6784417  0.66407899 0.84613129\n",
      " 0.90945547 0.87266311 1.34017133 1.30898952 0.66564881 0.77664026\n",
      " 0.8866629  0.91975841 1.68117166 0.65537308 1.27230519 1.40481516\n",
      " 1.00080622 0.79484426 0.79910658 0.36323309]\n",
      "GRNDBsalivarygland\n",
      "tensor([ 1303,  1352,  2519,  3277,  4668,  5242,  5402,  6693,  6903,  6912,\n",
      "         6913,  7216,  7217,  8123,  8973,  9339,  9346,  9349, 10971, 12016,\n",
      "        12538, 12541, 13096, 13865, 14079, 14080, 14081, 14085, 14542])\n",
      "[0.59628989 0.58822074 0.63775109 0.64358609 0.90473761 0.42864578\n",
      " 0.43740654 0.84663664 0.69579694 0.65253311 0.64635517 0.46798152\n",
      " 0.26254587 0.42055436 0.52062143 0.81441405 0.57329071 0.54051678\n",
      " 0.4605874  0.52061061 0.77643648 0.93607306 0.4137186  1.16997482\n",
      " 0.89529116 0.48328632 0.58816172 0.33880646 0.5170413 ]\n",
      "GRNDBskin\n",
      "tensor([ 4348,  4668,  6693,  6912, 11111, 14080])\n",
      "[0.21336833 0.72346315 0.51683843 0.66761619 0.29975599 0.46409404]\n",
      "GRNDBsmallintestine\n",
      "tensor([ 4227,  4416,  4668,  4730,  6693,  6909,  6910,  6912,  6913, 11262,\n",
      "        12538, 12540, 12541, 13865, 13866, 14080, 14082, 15863, 16229, 16949])\n",
      "[0.48489205 0.53368075 0.96790307 0.72542435 1.11996689 1.16792181\n",
      " 1.18849623 0.78035585 0.65664766 1.01554312 0.9911282  0.87423545\n",
      " 1.27641148 1.31098451 0.51456603 0.78304822 0.70335231 0.75906416\n",
      " 0.94163738 0.62815282]\n",
      "GRNDBspleen\n",
      "tensor([ 5242,  5277,  9346,  9349, 12538, 13866, 14084, 16256])\n",
      "[0.76464583 0.64576082 0.81674526 0.73553261 0.87548647 0.49276346\n",
      " 0.59760306 0.91300819]\n",
      "GRNDBstomach\n",
      "tensor([  924,  1278,  1352,  2519,  2520,  3268,  4668,  4676,  5241,  5242,\n",
      "         6693,  6903,  8123,  8973,  9334,  9346,  9349, 11048, 11119, 11262,\n",
      "        12016, 12540, 12541, 13865, 14079, 14081, 14480])\n",
      "[0.98993852 0.4650264  0.67195129 0.75287033 1.10269676 1.09829828\n",
      " 0.89664199 0.87390532 0.67962118 0.79138856 0.973576   0.70783778\n",
      " 0.56843529 0.90084505 0.56289055 0.60588789 0.60728375 1.06594802\n",
      " 1.11950123 0.80958482 0.59690064 1.12703619 1.16883842 1.41660402\n",
      " 0.91924085 0.73859701 0.60799295]\n",
      "GRNDBtestis\n",
      "tensor([ 1083,  1303,  1352,  1353,  1395,  1396,  2519,  4600,  4668,  4669,\n",
      "         4676,  5186,  5239,  5242,  6912,  7049,  8123,  9346, 12016, 12538,\n",
      "        14081])\n",
      "[0.28998234 0.40007544 0.32150662 0.59067067 0.51350813 0.23965723\n",
      " 0.57021381 0.39335173 0.53270967 0.26542562 0.36279013 0.43982037\n",
      " 0.65157448 0.55966273 0.44941582 0.6862082  0.3175703  0.47070244\n",
      " 0.29917026 0.43101284 0.47454503]\n",
      "GRNDBthyroid\n",
      "tensor([ 1084,  4423,  4668,  4669,  4676,  5242,  5402,  8123,  9349, 10971,\n",
      "        11262, 12016, 12541, 14480])\n",
      "[0.84501022 0.28914007 0.82630065 0.55089621 0.68260864 0.7435656\n",
      " 0.46714658 0.46645871 0.56981    0.49737585 0.84494207 0.52608153\n",
      " 1.22239218 0.55546476]\n",
      "GRNDButerus\n",
      "tensor([ 1083,  1084,  2519,  3277,  4524,  4600,  4668,  4669,  5242,  5277,\n",
      "         6693,  6912,  7050,  8123,  9339, 12541, 14079, 14480])\n",
      "[0.41181082 1.00253653 0.62379865 0.49347557 0.82933423 0.71995161\n",
      " 0.84977928 0.52696457 0.44442327 0.56482732 0.80133207 0.52281134\n",
      " 1.27660403 0.34979964 0.72889712 0.99022912 0.58205928 0.50926969]\n",
      "GRNDBvagina\n",
      "tensor([ 1498,  4524,  4676,  5402,  5581,  6300,  6693,  6903,  6904, 12538,\n",
      "        12540, 12541, 14079, 14080, 14082, 14480])\n",
      "[0.25949571 0.56740231 0.45357295 0.30349418 0.27820855 0.47864604\n",
      " 0.7217672  0.54872595 0.31589666 0.7189237  0.56954086 0.66235383\n",
      " 0.63621037 0.50009294 0.37848453 0.38513098]\n",
      "IntActPA\n",
      "tensor([15376, 16177])\n",
      "[0.08451856 0.29576781]\n",
      "hetionetcovaries\n",
      "tensor([ 4919, 11794])\n",
      "[0.21762184 0.25732664]\n"
     ]
    }
   ],
   "source": [
    "for i, (key, values) in enumerate(by_adjacency.items()):\n",
    "    if len(values) == 0:\n",
    "        continue\n",
    "    edge_type = edge_index.storage.value()\n",
    "    mask = edge_type == i\n",
    "    masked_edge_index = masked_select_nnz(edge_index, mask, layout='coo')\n",
    "    print(key)\n",
    "    print(masked_edge_index[:, node_id].storage.row())\n",
    "    print(values)"
   ]
  },
  {
   "cell_type": "code",
   "execution_count": 64,
   "metadata": {},
   "outputs": [
    {
     "data": {
      "text/plain": [
       "tensor([  368,  1356,  1413,  1418,  1421,  1562,  2237,  2239,  2376,  2386,\n",
       "         2451,  2984,  3201,  3347,  3976,  4501,  4755,  5007,  7067,  7293,\n",
       "         7723,  8074,  8322,  8579,  8742,  8890,  8973,  9377,  9458,  9742,\n",
       "         9759, 10266, 10298, 10301, 10350, 10434, 11056, 11167, 11212, 11330,\n",
       "        11632, 12041, 12466, 12470, 12477, 13566, 13691, 14079, 14489, 14882,\n",
       "        15222, 15588, 15653, 15825, 15893, 16180])"
      ]
     },
     "execution_count": 64,
     "metadata": {},
     "output_type": "execute_result"
    }
   ],
   "source": [
    "masked_edge_index.t()[: ,node_id].storage.row()"
   ]
  },
  {
   "cell_type": "code",
   "execution_count": 41,
   "metadata": {},
   "outputs": [
    {
     "data": {
      "text/plain": [
       "torch.Size([0])"
      ]
     },
     "execution_count": 41,
     "metadata": {},
     "output_type": "execute_result"
    }
   ],
   "source": [
    "\n",
    "\n",
    "((masked_edge_index.storage.col() == 6749).nonzero(as_tuple=True)[0]).shape"
   ]
  },
  {
   "cell_type": "code",
   "execution_count": 42,
   "metadata": {},
   "outputs": [],
   "source": [
    "edge_type = edge_index.storage.value()\n",
    "mask = edge_type == 31\n",
    "masked_edge_index = masked_select_nnz(edge_index, mask, layout='coo')"
   ]
  },
  {
   "cell_type": "code",
   "execution_count": 44,
   "metadata": {},
   "outputs": [
    {
     "data": {
      "text/plain": [
       "(SparseTensor(row=tensor([0, 0]),\n",
       "              col=tensor([15376, 16177]),\n",
       "              val=tensor([31., 31.]),\n",
       "              size=(1, 17024), nnz=2, density=0.01%),\n",
       " SparseTensor(row=tensor([15376, 16177]),\n",
       "              col=tensor([0, 0]),\n",
       "              val=tensor([31., 31.]),\n",
       "              size=(17024, 1), nnz=2, density=0.01%))"
      ]
     },
     "execution_count": 44,
     "metadata": {},
     "output_type": "execute_result"
    }
   ],
   "source": [
    "masked_edge_index[6749] , masked_edge_index[:, 6749]"
   ]
  },
  {
   "cell_type": "code",
   "execution_count": 58,
   "metadata": {},
   "outputs": [
    {
     "data": {
      "text/plain": [
       "tensor([[-0.1118,  0.4930,  0.0686,  0.3200,  0.8446, -0.2646, -0.4688, -0.5313,\n",
       "         -0.2705, -0.5295,  0.4533,  0.3773,  0.4132,  0.5657, -0.0989,  0.2056,\n",
       "          0.2215,  0.5015, -0.4256, -0.3067,  0.1171, -0.1244,  0.2596, -0.1175,\n",
       "          0.0082,  0.7434, -0.3214, -0.6795, -0.7784,  0.6859, -0.4038,  0.1828,\n",
       "          0.4443, -0.0373,  0.6045, -0.1358, -0.6109, -0.3447, -0.3790,  0.1934,\n",
       "         -0.7711,  0.3052,  0.4259, -0.1005, -0.2196,  0.1579, -0.5225,  0.0540,\n",
       "          1.2362,  0.4352],\n",
       "        [-0.2310,  0.0315,  0.0860,  0.7370,  0.8090, -0.5071, -0.5609, -0.2026,\n",
       "          0.0108,  0.3928, -0.0039, -0.3642,  0.6108,  0.8757, -0.4112,  0.0104,\n",
       "          0.1001,  0.2695,  0.2164,  0.2796,  0.2437,  0.4070, -0.3198, -0.3914,\n",
       "          0.0710,  0.4240, -0.1358, -0.5421, -0.2612, -0.0907, -0.6207,  0.0527,\n",
       "         -0.0775, -0.1195, -0.2851, -0.4510, -0.0301, -0.0649, -0.3686,  0.0541,\n",
       "         -0.5255, -0.2534, -0.1788,  0.0587, -0.5653,  0.7720,  0.3003,  0.1493,\n",
       "          0.5029, -0.3575]], dtype=torch.float64, grad_fn=<IndexBackward>)"
      ]
     },
     "execution_count": 58,
     "metadata": {},
     "output_type": "execute_result"
    }
   ],
   "source": [
    "edge_type = edge_index.storage.value()\n",
    "assert edge_type is not None\n",
    "mask = edge_type == 5\n",
    "masked_edge_index = masked_select_nnz(edge_index, mask, layout='coo')\n",
    "latent_node_features[masked_edge_index[:, node_id].storage.row(), :]"
   ]
  },
  {
   "cell_type": "code",
   "execution_count": 57,
   "metadata": {},
   "outputs": [
    {
     "data": {
      "text/plain": [
       "SparseTensor(row=tensor([ 2520, 14367]),\n",
       "             col=tensor([0, 0]),\n",
       "             val=tensor([5., 5.]),\n",
       "             size=(17024, 1), nnz=2, density=0.01%)"
      ]
     },
     "execution_count": 57,
     "metadata": {},
     "output_type": "execute_result"
    }
   ],
   "source": [
    "masked_edge_index[:, node_id]"
   ]
  },
  {
   "cell_type": "code",
   "execution_count": 29,
   "metadata": {},
   "outputs": [
    {
     "data": {
      "text/plain": [
       "(array([ 8436., 21033., 20855., 17063.,  9729.,  6691.,  4148.,  2299.,\n",
       "         1797.,  1314.]),\n",
       " array([0.31587825, 0.48400427, 0.65213029, 0.82025631, 0.98838234,\n",
       "        1.15650836, 1.32463438, 1.4927604 , 1.66088643, 1.82901245,\n",
       "        1.99713847]),\n",
       " <BarContainer object of 10 artists>)"
      ]
     },
     "execution_count": 29,
     "metadata": {},
     "output_type": "execute_result"
    },
    {
     "data": {
      "image/png": "[encoded data removed]",
      "text/plain": [
       "<Figure size 432x288 with 1 Axes>"
      ]
     },
     "metadata": {
      "needs_background": "light"
     },
     "output_type": "display_data"
    }
   ],
   "source": [
    "plt.hist(raw.detach().cpu().numpy()[raw.detach().cpu().numpy() < 2])"
   ]
  },
  {
   "cell_type": "code",
   "execution_count": 31,
   "metadata": {},
   "outputs": [
    {
     "data": {
      "text/plain": [
       "(array([12283., 31492., 17778., 10435.,  6852.,  4362.,  2869.,  2058.,\n",
       "         1882.,  1865.]),\n",
       " array([0.5844143 , 0.72597193, 0.86752956, 1.00908719, 1.15064482,\n",
       "        1.29220245, 1.43376008, 1.57531771, 1.71687534, 1.85843297,\n",
       "        1.9999906 ]),\n",
       " <BarContainer object of 10 artists>)"
      ]
     },
     "execution_count": 31,
     "metadata": {},
     "output_type": "execute_result"
    },
    {
     "data": {
      "image/png": "[encoded data removed]",
      "text/plain": [
       "<Figure size 432x288 with 1 Axes>"
      ]
     },
     "metadata": {
      "needs_background": "light"
     },
     "output_type": "display_data"
    }
   ],
   "source": [
    "plt.hist(changed.detach().cpu().numpy()[changed.detach().cpu().numpy() < 2])"
   ]
  },
  {
   "cell_type": "code",
   "execution_count": 33,
   "metadata": {},
   "outputs": [],
   "source": []
  },
  {
   "cell_type": "code",
   "execution_count": 75,
   "metadata": {},
   "outputs": [],
   "source": [
    "mpex.layer = 1\n",
    "mpex.adjacency = 0"
   ]
  },
  {
   "cell_type": "code",
   "execution_count": 109,
   "metadata": {},
   "outputs": [
    {
     "data": {
      "text/plain": [
       "2.3951314441138316"
      ]
     },
     "execution_count": 109,
     "metadata": {},
     "output_type": "execute_result"
    }
   ],
   "source": [
    "name, raw, changed = next(mpex.__next__())\n",
    "factor = changed.detach().cpu().numpy() / raw.detach().cpu().numpy()\n",
    "factor.mean()"
   ]
  },
  {
   "cell_type": "code",
   "execution_count": 115,
   "metadata": {},
   "outputs": [
    {
     "data": {
      "text/plain": [
       "1.3805780375061825"
      ]
     },
     "execution_count": 115,
     "metadata": {},
     "output_type": "execute_result"
    }
   ],
   "source": [
    "np.median(factor)"
   ]
  },
  {
   "cell_type": "code",
   "execution_count": 73,
   "metadata": {},
   "outputs": [],
   "source": [
    "factors = {}\n",
    "for _ in adjacencies:\n",
    "    name, raw, changed = next(mpex.__next__())\n",
    "    factor = changed.detach().cpu().numpy() / raw.detach().cpu().numpy()\n",
    "    factors[name] = factor.mean()"
   ]
  },
  {
   "cell_type": "code",
   "execution_count": 74,
   "metadata": {},
   "outputs": [
    {
     "data": {
      "text/plain": [
       "{'Identity': 1.042396724524735,\n",
       " 'BioPlex30HCT116': 2.229824234711957,\n",
       " 'BioPlex30293T': 2.3951314441138316,\n",
       " 'HuRI': 1.8515738903925167,\n",
       " 'IntActPA': 1.3715504817499955,\n",
       " 'IntActDirect': 1.8456550151805788,\n",
       " 'hetionetregulates': 1.636977829383342,\n",
       " 'hetionetcovaries': 1.7429185514987011,\n",
       " 'GRNDBadiposetissue': 1.6265172700860597,\n",
       " 'GRNDBadrenalgland': 1.7256925854694207,\n",
       " 'GRNDBbloodx': 1.9000906005183167,\n",
       " 'GRNDBbloodvessel': 1.5747445712534776,\n",
       " 'GRNDBbrain': 1.7990473803461182,\n",
       " 'GRNDBbreast': 1.4972500011774865,\n",
       " 'GRNDBcolon': 1.6772023066944362,\n",
       " 'GRNDBesophagus': 1.7761561685256546,\n",
       " 'GRNDBheart': 1.7027031112091975,\n",
       " 'GRNDBkidney': 1.7968691207986212,\n",
       " 'GRNDBliver': 1.6444238505731124,\n",
       " 'GRNDBlung': 1.6108668161069828,\n",
       " 'GRNDBmuscle': 1.5811400592033074,\n",
       " 'GRNDBnerve': 1.7243913508984139,\n",
       " 'GRNDBovary': 1.915095359217609,\n",
       " 'GRNDBpancreas': 1.6833342237959217,\n",
       " 'GRNDBpituitary': 2.0060969670185163,\n",
       " 'GRNDBprostate': 1.6883485914206697,\n",
       " 'GRNDBsalivarygland': 1.9883496907235663,\n",
       " 'GRNDBskin': 1.6565264876233439,\n",
       " 'GRNDBsmallintestine': 1.8720628592527444,\n",
       " 'GRNDBspleen': 1.7842304698361575,\n",
       " 'GRNDBstomach': 1.7655011988237623,\n",
       " 'GRNDBtestis': 1.665120170889872,\n",
       " 'GRNDBthyroid': 2.062935285105233,\n",
       " 'GRNDButerus': 1.8397764672815855}"
      ]
     },
     "execution_count": 74,
     "metadata": {},
     "output_type": "execute_result"
    }
   ],
   "source": [
    "factors"
   ]
  }
 ],
 "metadata": {
  "kernelspec": {
   "display_name": "Python 3.7.12 ('compat')",
   "language": "python",
   "name": "python3"
  },
  "language_info": {
   "codemirror_mode": {
    "name": "ipython",
    "version": 3
   },
   "file_extension": ".py",
   "mimetype": "text/x-python",
   "name": "python",
   "nbconvert_exporter": "python",
   "pygments_lexer": "ipython3",
   "version": "3.7.12 | packaged by conda-forge | (default, Oct 26 2021, 06:08:21) \n[GCC 9.4.0]"
  },
  "orig_nbformat": 4,
  "vscode": {
   "interpreter": {
    "hash": "710bb1a909b1ab17a29f33f5c92268ff372ef09411c664d3fef738f109a43cf0"
   }
  }
 },
 "nbformat": 4,
 "nbformat_minor": 2
}
